{
 "cells": [
  {
   "cell_type": "code",
   "execution_count": 1,
   "metadata": {
    "ExecuteTime": {
     "end_time": "2018-07-25T12:59:10.581982Z",
     "start_time": "2018-07-25T12:59:09.301299Z"
    }
   },
   "outputs": [
    {
     "name": "stderr",
     "output_type": "stream",
     "text": [
      "/home/amer/anaconda3/envs/fast/lib/python3.6/importlib/_bootstrap.py:219: RuntimeWarning: numpy.dtype size changed, may indicate binary incompatibility. Expected 96, got 88\n",
      "  return f(*args, **kwds)\n"
     ]
    },
    {
     "data": {
      "text/html": [
       "<script>requirejs.config({paths: { 'plotly': ['https://cdn.plot.ly/plotly-latest.min']},});if(!window.Plotly) {{require(['plotly'],function(plotly) {window.Plotly=plotly;});}}</script>"
      ],
      "text/vnd.plotly.v1+html": [
       "<script>requirejs.config({paths: { 'plotly': ['https://cdn.plot.ly/plotly-latest.min']},});if(!window.Plotly) {{require(['plotly'],function(plotly) {window.Plotly=plotly;});}}</script>"
      ]
     },
     "metadata": {},
     "output_type": "display_data"
    },
    {
     "name": "stderr",
     "output_type": "stream",
     "text": [
      "Using TensorFlow backend.\n"
     ]
    }
   ],
   "source": [
    "%matplotlib inline\n",
    "%reload_ext autoreload\n",
    "%autoreload 2\n",
    "\n",
    "import multiprocessing, logging\n",
    "mpl = multiprocessing.log_to_stderr()\n",
    "mpl.setLevel(logging.INFO)\n",
    "\n",
    "import os\n",
    "import sys\n",
    "import glob as gb\n",
    "import re\n",
    "from datetime import datetime as dtime\n",
    "from pathlib import Path\n",
    "from itertools import repeat\n",
    "import pickle\n",
    "from concurrent.futures import ThreadPoolExecutor\n",
    "\n",
    "import random\n",
    "\n",
    "import numpy as np\n",
    "import pandas as pd\n",
    "\n",
    "from PIL import Image\n",
    "\n",
    "from sklearn.preprocessing import MinMaxScaler\n",
    "from sklearn.preprocessing import scale\n",
    "\n",
    "from mlxtend.preprocessing import minmax_scaling\n",
    "\n",
    "from numba import jit\n",
    "\n",
    "\n",
    "import matplotlib\n",
    "import matplotlib.pyplot as plt\n",
    "import matplotlib.style\n",
    "import matplotlib as mpl\n",
    "import matplotlib.image as mpimg\n",
    "from matplotlib import cm\n",
    "mpl.style.use('classic')\n",
    "\n",
    "import pydicom as dcm\n",
    "import pylab\n",
    "\n",
    "from __future__ import print_function\n",
    "from ipywidgets import interact, interactive, fixed, interact_manual, Layout\n",
    "import ipywidgets as widgets\n",
    "\n",
    "\n",
    "# from fastai.conv_learner import *\n",
    "# from fastai.dataset import *\n",
    "# from fastai.models.resnet import vgg_resnet50\n",
    "\n",
    "from pathlib import Path\n",
    "import json\n",
    "# torch.cuda.set_device(0)\n",
    "# torch.backends.cudnn.benchmark=True\n",
    "\n",
    "from numba import cuda\n",
    "\n",
    "import getpass\n",
    "import os\n",
    "\n",
    "from plotly.offline import download_plotlyjs, init_notebook_mode, plot, iplot\n",
    "import plotly.graph_objs as go\n",
    "\n",
    "init_notebook_mode(True)\n",
    "\n",
    "import keras\n",
    "from keras.utils.data_utils import Sequence\n",
    "from keras.callbacks import TensorBoard\n",
    "from keras.models import load_model\n",
    "\n",
    "import tensorflow as tf\n",
    "\n",
    "\n",
    "from sklearn import preprocessing\n",
    "\n",
    "# See https://stackoverflow.com/questions/14722540/smoothing-between-pixels-of-imagesc-imshow-in-matlab-like-the-matplotlib-imshow\n",
    "mpl.rcParams['image.interpolation'] = 'none' # default 'bilinear'\n",
    "\n",
    "layout=Layout(width='90%') # For ipywidgets\n",
    "\n",
    "plt.rcParams['figure.figsize']= [7.0, 7.0]\n",
    "\n",
    "#import ipdb; ipdb.set_trace()"
   ]
  },
  {
   "cell_type": "code",
   "execution_count": 2,
   "metadata": {
    "ExecuteTime": {
     "end_time": "2018-07-25T12:59:12.303475Z",
     "start_time": "2018-07-25T12:59:12.000564Z"
    }
   },
   "outputs": [],
   "source": [
    "from unet3d import *\n",
    "from unet3d.utils.patches import *\n",
    "from unet3d.metrics import *\n",
    "from unet3d.model import *\n",
    "from unet3d.generator import *\n",
    "from unet3d.training import *\n",
    "from unet3d.augment import *\n",
    "from brats.preprocess import *"
   ]
  },
  {
   "cell_type": "code",
   "execution_count": 3,
   "metadata": {
    "ExecuteTime": {
     "end_time": "2018-07-25T12:59:12.896658Z",
     "start_time": "2018-07-25T12:59:12.857452Z"
    }
   },
   "outputs": [],
   "source": [
    "# Pathes\n",
    "HOME = Path.home()\n",
    "\n",
    "BIGDISK = Path('/media/amer/BigDisk')\n",
    "\n",
    "DATA = HOME / 'data/aneurysm'\n",
    "PATH = DATA\n",
    "\n",
    "CT_DCM = DATA / 'ct-512'\n",
    "MASK_DCM = DATA / 'mask-512'\n",
    "\n",
    "CT_DCM =DATA / 'ct-512' \n",
    "\n",
    "CT_NP = DATA / 'ct-512-NP'\n",
    "MASK_NP = DATA / 'mask-512-NP'\n",
    "\n",
    "CT_PNG = DATA / 'ct-512-PNG'\n",
    "MASK_PNG = DATA / 'mask-512-PNG'\n",
    "\n",
    "#PATCHES = DATA/'patches'\n",
    "PATCHES = BIGDISK/'patches_1'\n",
    "PATCHES.mkdir(exist_ok=True)\n",
    "\n",
    "MODELS = PATH/'models'\n",
    "MODELS.mkdir(exist_ok=True)\n",
    "\n",
    "TMP = DATA / 'tmp'\n",
    "\n",
    "CT_NP.mkdir(exist_ok=True)\n",
    "MASK_NP.mkdir(exist_ok=True)\n",
    "\n",
    "CT_PNG.mkdir(exist_ok=True)\n",
    "MASK_PNG.mkdir(exist_ok=True)"
   ]
  },
  {
   "cell_type": "code",
   "execution_count": 4,
   "metadata": {
    "ExecuteTime": {
     "end_time": "2018-07-25T12:59:13.694950Z",
     "start_time": "2018-07-25T12:59:13.658198Z"
    }
   },
   "outputs": [],
   "source": [
    "ct_dcms = np.array(sorted(list(CT_DCM.iterdir())))\n",
    "mask_dcms = np.array(sorted(list(MASK_DCM.iterdir())))"
   ]
  },
  {
   "cell_type": "code",
   "execution_count": 5,
   "metadata": {
    "ExecuteTime": {
     "end_time": "2018-07-25T12:59:14.296533Z",
     "start_time": "2018-07-25T12:59:14.255043Z"
    }
   },
   "outputs": [],
   "source": [
    "def dicom_shape(path):\n",
    "    name = path.stem\n",
    "    pixel_array = dcm.read_file(str(path)).pixel_array\n",
    "    return name,np.shape(pixel_array),pixel_array\n",
    "\n",
    "def first_nonempty_slice_index(tensor):\n",
    "    last = np.shape(tensor)[0]\n",
    "    for i in range(0,last):\n",
    "        max_val = np.max(tensor[i])\n",
    "        if max_val > 0:\n",
    "            return i\n",
    "        \n",
    "def last_nonempty_slice_index(tensor):\n",
    "    last = np.shape(tensor)[0]\n",
    "    for i in range(0,last)[::-1]:\n",
    "        max_val = np.max(tensor[i])\n",
    "        if max_val > 0:\n",
    "            return i\n",
    "\n",
    "def imshow(pixel_array):\n",
    "    pixel_array[pixel_array > 0] = 255\n",
    "    pixel_array = pixel_array.astype(np.uint8)\n",
    "    return Image.fromarray(pixel_array)\n",
    "\n",
    "def mask_dcm_to_png(path,target_dir,size=False):\n",
    "    name = path.stem\n",
    "    pixel_array = dcm.read_file(str(path)).pixel_array[:-2] # remove the last to layers\n",
    "    layers = np.shape(pixel_array)[0]\n",
    "    if size:\n",
    "        for i in range(layers):\n",
    "            clean_mask(pixel_array[i]).resize(size).save(str(target_dir/f\"{name}_{i}.png\"))\n",
    "    else:\n",
    "        for i in range(layers):\n",
    "            clean_mask(pixel_array[i]).save(str(target_dir/f\"{name}_{i}.png\"))\n",
    "    print(f\"{name}\",end=\", \")\n",
    "    \n",
    "def ct_dcm_to_png(path,target_dir,size=False):\n",
    "    name = path.stem\n",
    "    pixel_array = dcm.read_file(str(path)).pixel_array[:-2] # remove the last to layers\n",
    "    layers = np.shape(pixel_array)[0]\n",
    "    if size:\n",
    "        for i in range(layers):\n",
    "            Image.fromarray(pixel_array[i]).resize(size).save(str(target_dir/f\"{name}_{i}.png\"))\n",
    "    else:\n",
    "        for i in range(layers):\n",
    "            Image.fromarray(pixel_array[i]).save(str(target_dir/f\"{name}_{i}.png\"))\n",
    "    print(f\"{name}\",end=\", \")\n",
    "    \n",
    "def get_ct_by_index(index):\n",
    "    return dcm.read_file(str(ct_dcms[index])).pixel_array\n",
    "\n",
    "def get_mask_by_index(index):\n",
    "    pa = dcm.read_file(str(mask_dcms[index])).pixel_array\n",
    "    pa[pa > 0] = 1\n",
    "    return pa\n",
    "\n",
    "def chance(probability):\n",
    "    return random.random() < probability"
   ]
  },
  {
   "cell_type": "code",
   "execution_count": 6,
   "metadata": {
    "ExecuteTime": {
     "end_time": "2018-07-25T12:59:14.796329Z",
     "start_time": "2018-07-25T12:59:14.738820Z"
    }
   },
   "outputs": [],
   "source": [
    "@jit\n",
    "def get_patch_from_3d_data(data, patch_shape, patch_index):\n",
    "    \"\"\"\n",
    "    Returns a patch from a numpy array.\n",
    "    :param data: numpy array from which to get the patch.\n",
    "    :param patch_shape: shape/size of the patch.\n",
    "    :param patch_index: corner index of the patch.\n",
    "    :return: numpy array take from the data with the patch shape specified.\n",
    "    \"\"\"\n",
    "    patch_index = np.asarray(patch_index, dtype=np.int16)\n",
    "    patch_shape = np.asarray(patch_shape)\n",
    "    image_shape = data.shape[-3:]\n",
    "    if np.any(patch_index < 0) or np.any((patch_index + patch_shape) > image_shape):\n",
    "        data, patch_index = fix_out_of_bound_patch_attempt(data, patch_shape, patch_index)\n",
    "    return data[..., patch_index[0]:patch_index[0]+patch_shape[0], patch_index[1]:patch_index[1]+patch_shape[1],\n",
    "                patch_index[2]:patch_index[2]+patch_shape[2]]\n",
    "@jit\n",
    "def fix_data_shape(data, patch_shape, patch_index):\n",
    "    if np.any(patch_index < 0) or np.any((patch_index + patch_shape) > image_shape):\n",
    "        data, patch_index = fix_out_of_bound_patch_attempt(data, patch_shape, patch_index)\n",
    "        return data\n",
    "\n",
    "@jit\n",
    "def fix_out_of_bound_patch_attempt(data, patch_shape, patch_index, ndim=3):\n",
    "    \"\"\"\n",
    "    Pads the data and alters the patch index so that a patch will be correct.\n",
    "    :param data:\n",
    "    :param patch_shape:\n",
    "    :param patch_index:\n",
    "    :return: padded data, fixed patch index\n",
    "    \"\"\"\n",
    "    image_shape = data.shape[-ndim:]\n",
    "    pad_before = np.abs((patch_index < 0) * patch_index)\n",
    "    pad_after = np.abs(((patch_index + patch_shape) > image_shape) * ((patch_index + patch_shape) - image_shape))\n",
    "    pad_args = np.stack([pad_before, pad_after], axis=1)\n",
    "    if pad_args.shape[0] < len(data.shape):\n",
    "        pad_args = [[0, 0]] * (len(data.shape) - pad_args.shape[0]) + pad_args.tolist()\n",
    "    data = np.pad(data, pad_args, mode=\"edge\")\n",
    "    patch_index += pad_before\n",
    "    return data, patch_index"
   ]
  },
  {
   "cell_type": "code",
   "execution_count": 7,
   "metadata": {
    "ExecuteTime": {
     "end_time": "2018-07-25T12:59:15.258128Z",
     "start_time": "2018-07-25T12:59:15.222584Z"
    },
    "code_folding": []
   },
   "outputs": [],
   "source": [
    "# a = np.ones((512, 512, 512))\n",
    "\n",
    "# def pad_data(data):\n",
    "#     d = data.shape[0]\n",
    "#     m = (d%64)\n",
    "#     print(m)\n",
    "#     return np.pad(a, pad_width=((0, m),(0,0),(0,0)), mode='edge')\n",
    "\n",
    "# print(pad_data(a).shape)"
   ]
  },
  {
   "cell_type": "code",
   "execution_count": 8,
   "metadata": {
    "ExecuteTime": {
     "end_time": "2018-07-25T12:59:21.963574Z",
     "start_time": "2018-07-25T12:59:15.739705Z"
    },
    "scrolled": false
   },
   "outputs": [
    {
     "name": "stdout",
     "output_type": "stream",
     "text": [
      "800\n"
     ]
    },
    {
     "data": {
      "application/vnd.jupyter.widget-view+json": {
       "model_id": "c2af9f79791a4e37912b1d5b698f2352",
       "version_major": 2,
       "version_minor": 0
      },
      "text/plain": [
       "interactive(children=(IntSlider(value=63, description='layer_num', layout=Layout(width='90%'), max=63), IntSli…"
      ]
     },
     "metadata": {},
     "output_type": "display_data"
    }
   ],
   "source": [
    "patient = 1 # 1\n",
    "\n",
    "ct = get_ct_by_index(patient)\n",
    "mask = get_mask_by_index(patient)\n",
    "\n",
    "image_shape = np.shape(ct)\n",
    "patch_shape = (64,64,64)\n",
    "\n",
    "overlap = 8\n",
    "\n",
    "patch_indices = compute_patch_indices(image_shape, patch_shape, overlap, start=None)\n",
    "\n",
    "print(len(patch_indices))\n",
    "\n",
    "def dshow():\n",
    "    ct_patch = get_patch_from_3d_data(ct, patch_shape, patch_indices[0])\n",
    "    mask_patch = get_patch_from_3d_data(mask, patch_shape, patch_indices[0])\n",
    "    def show_layer(layer_num,patch_num):\n",
    "        ct_patch = get_patch_from_3d_data(ct, patch_shape, patch_indices[patch_num])\n",
    "        c = ct_patch\n",
    "        mask_patch = get_patch_from_3d_data(mask, patch_shape, patch_indices[patch_num])\n",
    "        ct_patch = np.array(ct_patch,dtype=np.float32)\n",
    "        output_image = sitk.GetImageFromArray(ct_patch,)\n",
    "        output_image = sitk.N4BiasFieldCorrection(output_image, output_image > 0)\n",
    "        ct_patch = sitk.GetArrayFromImage(output_image)\n",
    "        \n",
    "        f = plt.figure(figsize=(20,10))\n",
    "        f.add_subplot(1,2, 1)\n",
    "        pylab.imshow(ct_patch[layer_num])\n",
    "        #print(np.unique(ct_patch[layer_num]))\n",
    "        f.add_subplot(1,2, 2)\n",
    "        pylab.imshow(c[layer_num])\n",
    "        #print(np.unique(c[layer_num]))\n",
    "        plt.show(block=True)\n",
    "    \n",
    "    interact(show_layer,\n",
    "             patch_num=widgets.IntSlider(min=0,max=len(patch_indices)-1,step=1,layout=layout,value=150),\n",
    "             layer_num=widgets.IntSlider(min=0,max=len(ct_patch)-1,step=1,layout=layout,value=63)\n",
    "            )\n",
    "\n",
    "dshow()"
   ]
  },
  {
   "cell_type": "code",
   "execution_count": 9,
   "metadata": {
    "ExecuteTime": {
     "end_time": "2018-07-25T12:59:22.304408Z",
     "start_time": "2018-07-25T12:59:21.965245Z"
    },
    "scrolled": false
   },
   "outputs": [
    {
     "data": {
      "text/plain": [
       "<matplotlib.image.AxesImage at 0x7f5e75f6c518>"
      ]
     },
     "execution_count": 9,
     "metadata": {},
     "output_type": "execute_result"
    },
    {
     "data": {
      "image/png": "[encoded data removed]",
      "text/plain": [
       "<Figure size 432x288 with 1 Axes>"
      ]
     },
     "metadata": {},
     "output_type": "display_data"
    }
   ],
   "source": [
    "#plt.imshow(get_mask_by_index(1)[19])\n",
    "plt.imshow(get_ct_by_index(1)[19])"
   ]
  },
  {
   "cell_type": "code",
   "execution_count": 10,
   "metadata": {
    "ExecuteTime": {
     "end_time": "2018-07-25T12:59:24.216231Z",
     "start_time": "2018-07-25T12:59:22.305964Z"
    }
   },
   "outputs": [
    {
     "data": {
      "application/vnd.jupyter.widget-view+json": {
       "model_id": "d31e0b82d06442009672e9c927dd2d5f",
       "version_major": 2,
       "version_minor": 0
      },
      "text/plain": [
       "interactive(children=(IntSlider(value=63, description='layer_num', layout=Layout(width='90%'), max=63), IntSli…"
      ]
     },
     "metadata": {},
     "output_type": "display_data"
    }
   ],
   "source": [
    "patient = 1 # 1\n",
    "\n",
    "ct = get_ct_by_index(patient)\n",
    "mask = get_mask_by_index(patient)\n",
    "\n",
    "image_shape = np.shape(ct)\n",
    "patch_shape = (64,64,64)\n",
    "\n",
    "overlap = 0\n",
    "\n",
    "patch_indices = compute_patch_indices(image_shape, patch_shape, overlap, start=None)\n",
    "\n",
    "def dshow():\n",
    "    ct_patch = get_patch_from_3d_data(ct, patch_shape, patch_indices[0])\n",
    "    mask_patch = get_patch_from_3d_data(mask, patch_shape, patch_indices[0])\n",
    "    @jit\n",
    "    def show_layer(layer_num,patch_num):\n",
    "        ct_patch = get_patch_from_3d_data(ct, patch_shape, patch_indices[patch_num])\n",
    "        mask_patch = get_patch_from_3d_data(mask, patch_shape, patch_indices[patch_num])\n",
    "        \n",
    "        f = plt.figure(figsize=(20,10))\n",
    "        f.add_subplot(1,2, 1)\n",
    "        pylab.imshow(ct_patch[layer_num])\n",
    "        #print(np.unique(ct_patch[layer_num]))\n",
    "        f.add_subplot(1,2, 2)\n",
    "        pylab.imshow(mask_patch[layer_num])\n",
    "        #print(np.unique(mask_patch[layer_num]))\n",
    "        plt.show(block=True)\n",
    "    \n",
    "    interact(show_layer,\n",
    "             patch_num=widgets.IntSlider(min=0,max=len(patch_indices)-1,step=1,layout=layout,value=150),\n",
    "             layer_num=widgets.IntSlider(min=0,max=len(ct_patch)-1,step=1,layout=layout,value=63)\n",
    "            )\n",
    "\n",
    "dshow()"
   ]
  },
  {
   "cell_type": "code",
   "execution_count": 11,
   "metadata": {
    "ExecuteTime": {
     "end_time": "2018-07-25T12:59:25.727457Z",
     "start_time": "2018-07-25T12:59:24.217570Z"
    },
    "scrolled": false
   },
   "outputs": [
    {
     "data": {
      "application/vnd.jupyter.widget-view+json": {
       "model_id": "36de1519f9aa4315b300047f6f7859ca",
       "version_major": 2,
       "version_minor": 0
      },
      "text/plain": [
       "interactive(children=(IntSlider(value=63, description='layer_num', layout=Layout(width='90%'), max=63), IntSli…"
      ]
     },
     "metadata": {},
     "output_type": "display_data"
    }
   ],
   "source": [
    "patient = 1 # 1\n",
    "\n",
    "ct = get_ct_by_index(patient)\n",
    "mask = get_mask_by_index(patient)\n",
    "\n",
    "image_shape = np.shape(ct)\n",
    "patch_shape = (64,64,64)\n",
    "\n",
    "overlap = 0\n",
    "\n",
    "patch_indices = compute_patch_indices(image_shape, patch_shape, overlap, start=None)\n",
    "\n",
    "def dshow():\n",
    "    ct_patch = get_patch_from_3d_data(ct, patch_shape, patch_indices[0])\n",
    "    mask_patch = get_patch_from_3d_data(mask, patch_shape, patch_indices[0])\n",
    "    def show_layer(layer_num,patch_num):\n",
    "        ct_patch = get_patch_from_3d_data(ct, patch_shape, patch_indices[patch_num])\n",
    "        mask_patch = get_patch_from_3d_data(mask, patch_shape, patch_indices[patch_num])\n",
    "        \n",
    "        ct_patch = ct_patch/np.linalg.norm(ct_patch, ord=2,axis=-1,keepdims=1)\n",
    "        \n",
    "        f = plt.figure(figsize=(20,10))\n",
    "        f.add_subplot(1,2, 1)\n",
    "        normalized_X = preprocessing.normalize(get_patch_from_3d_data(ct, patch_shape, patch_indices[patch_num])[layer_num])\n",
    "        pylab.imshow(normalized_X)\n",
    "        print(normalized_X.dtype)\n",
    "        print(np.unique(normalized_X))\n",
    "        f.add_subplot(1,2, 2)\n",
    "        X = ct_patch[layer_num]\n",
    "        pylab.imshow(X)\n",
    "        print(X.dtype)\n",
    "        print(np.unique(X))\n",
    "        plt.show(block=True)\n",
    "    \n",
    "    interact(show_layer,\n",
    "             patch_num=widgets.IntSlider(min=0,max=len(patch_indices)-1,step=1,layout=layout,value=150),\n",
    "             layer_num=widgets.IntSlider(min=0,max=len(ct_patch)-1,step=1,layout=layout,value=63)\n",
    "            )\n",
    "\n",
    "dshow()"
   ]
  },
  {
   "cell_type": "code",
   "execution_count": 12,
   "metadata": {
    "ExecuteTime": {
     "end_time": "2018-07-25T12:59:31.248494Z",
     "start_time": "2018-07-25T12:59:25.728762Z"
    },
    "scrolled": false
   },
   "outputs": [
    {
     "data": {
      "application/vnd.jupyter.widget-view+json": {
       "model_id": "f87cc016ddea4dafb349b907c8218b3e",
       "version_major": 2,
       "version_minor": 0
      },
      "text/plain": [
       "interactive(children=(IntSlider(value=63, description='layer_num', layout=Layout(width='90%'), max=63), IntSli…"
      ]
     },
     "metadata": {},
     "output_type": "display_data"
    }
   ],
   "source": [
    "patient = 1 # 1\n",
    "\n",
    "ct = get_ct_by_index(patient)\n",
    "mask = get_mask_by_index(patient)\n",
    "\n",
    "image_shape = np.shape(ct)\n",
    "patch_shape = (64,64,64)\n",
    "\n",
    "overlap = 0\n",
    "\n",
    "patch_indices = compute_patch_indices(image_shape, patch_shape, overlap, start=None)\n",
    "\n",
    "def dshow():\n",
    "    ct_patch = get_patch_from_3d_data(ct, patch_shape, patch_indices[0])\n",
    "    mask_patch = get_patch_from_3d_data(mask, patch_shape, patch_indices[0])\n",
    "    @jit\n",
    "    def show_layer(layer_num,patch_num):\n",
    "        ct_patch = get_patch_from_3d_data(ct, patch_shape, patch_indices[patch_num])\n",
    "        c = ct_patch\n",
    "        mask_patch = get_patch_from_3d_data(mask, patch_shape, patch_indices[patch_num])\n",
    "        ct_patch = np.array(ct_patch,dtype=np.float32)\n",
    "        output_image = sitk.GetImageFromArray(ct_patch,)\n",
    "        output_image = sitk.N4BiasFieldCorrection(output_image, output_image > 0)\n",
    "        ct_patch = sitk.GetArrayFromImage(output_image)\n",
    "        \n",
    "        f = plt.figure(figsize=(20,10))\n",
    "        f.add_subplot(1,2, 1)\n",
    "        pylab.imshow(ct_patch[layer_num])\n",
    "        print(np.unique(ct_patch[layer_num]))\n",
    "        f.add_subplot(1,2, 2)\n",
    "        pylab.imshow(c[layer_num])\n",
    "        print(np.unique(c[layer_num]))\n",
    "        plt.show(block=True)\n",
    "    \n",
    "    interact(show_layer,\n",
    "             patch_num=widgets.IntSlider(min=0,max=len(patch_indices)-1,step=1,layout=layout,value=150),\n",
    "             layer_num=widgets.IntSlider(min=0,max=len(ct_patch)-1,step=1,layout=layout,value=63)\n",
    "            )\n",
    "\n",
    "dshow()"
   ]
  },
  {
   "cell_type": "code",
   "execution_count": 13,
   "metadata": {
    "ExecuteTime": {
     "end_time": "2018-07-25T12:59:31.270224Z",
     "start_time": "2018-07-25T12:59:31.250004Z"
    }
   },
   "outputs": [],
   "source": [
    "# UnetModel = isensee2017_model(input_shape=(1,32,32,32))"
   ]
  },
  {
   "cell_type": "code",
   "execution_count": 14,
   "metadata": {
    "ExecuteTime": {
     "end_time": "2018-07-25T12:59:31.785119Z",
     "start_time": "2018-07-25T12:59:31.271383Z"
    }
   },
   "outputs": [],
   "source": [
    "patient = 1\n",
    "\n",
    "ct = get_ct_by_index(patient)\n",
    "mask = get_mask_by_index(patient)\n",
    "\n",
    "\n",
    "image_shape = np.shape(ct)\n",
    "patch_shape = (64,64,64)\n",
    "overlap = 0\n",
    "\n",
    "patch_indices = compute_patch_indices(image_shape, patch_shape, overlap, start=None)"
   ]
  },
  {
   "cell_type": "code",
   "execution_count": 15,
   "metadata": {
    "ExecuteTime": {
     "end_time": "2018-07-25T12:59:35.516619Z",
     "start_time": "2018-07-25T12:59:31.786701Z"
    }
   },
   "outputs": [],
   "source": [
    "tbCallBack = keras.callbacks.TensorBoard(log_dir='./logs',\n",
    "                                         histogram_freq=0,\n",
    "                                         write_graph=True,\n",
    "                                         write_images=True)"
   ]
  },
  {
   "cell_type": "code",
   "execution_count": 16,
   "metadata": {
    "ExecuteTime": {
     "end_time": "2018-07-25T12:59:35.543643Z",
     "start_time": "2018-07-25T12:59:35.518174Z"
    }
   },
   "outputs": [],
   "source": [
    "def train_model(model, model_file, training_generator, validation_generator, steps_per_epoch, validation_steps,\n",
    "                initial_learning_rate=0.001, learning_rate_drop=0.5, learning_rate_epochs=None, n_epochs=100,\n",
    "                learning_rate_patience=20, early_stopping_patience=None):\n",
    "    \"\"\"\n",
    "    Train a Keras model.\n",
    "    :param early_stopping_patience: If set, training will end early if the validation loss does not improve after the\n",
    "    specified number of epochs.\n",
    "    :param learning_rate_patience: If learning_rate_epochs is not set, the learning rate will decrease if the validation\n",
    "    loss does not improve after the specified number of epochs. (default is 20)\n",
    "    :param model: Keras model that will be trained.\n",
    "    :param model_file: Where to save the Keras model.\n",
    "    :param training_generator: Generator that iterates through the training data.\n",
    "    :param validation_generator: Generator that iterates through the validation data.\n",
    "    :param steps_per_epoch: Number of batches that the training generator will provide during a given epoch.\n",
    "    :param validation_steps: Number of batches that the validation generator will provide during a given epoch.\n",
    "    :param initial_learning_rate: Learning rate at the beginning of training.\n",
    "    :param learning_rate_drop: How much at which to the learning rate will decay.\n",
    "    :param learning_rate_epochs: Number of epochs after which the learning rate will drop.\n",
    "    :param n_epochs: Total number of epochs to train the model.\n",
    "    :return: \n",
    "    \"\"\"\n",
    "    \n",
    "    this_callbacks = get_callbacks(model_file,\n",
    "                  initial_learning_rate=initial_learning_rate,\n",
    "                  learning_rate_drop=learning_rate_drop,\n",
    "                  learning_rate_epochs=learning_rate_epochs,\n",
    "                  learning_rate_patience=learning_rate_patience,\n",
    "                  early_stopping_patience=early_stopping_patience)\n",
    "    \n",
    "    this_callbacks.append(tbCallBack)\n",
    "\n",
    "    model.fit_generator(generator=training_generator,\n",
    "                        steps_per_epoch=steps_per_epoch,\n",
    "                        epochs=n_epochs,\n",
    "                        validation_data=validation_generator,\n",
    "                        validation_steps=validation_steps,\n",
    "                        callbacks=this_callbacks)\n",
    "    return model"
   ]
  },
  {
   "cell_type": "code",
   "execution_count": 17,
   "metadata": {
    "ExecuteTime": {
     "end_time": "2018-07-25T12:59:35.568717Z",
     "start_time": "2018-07-25T12:59:35.545049Z"
    }
   },
   "outputs": [],
   "source": [
    "class DicomAccess():    \n",
    "    @classmethod\n",
    "    def get_ct(self,idx):\n",
    "        try:\n",
    "            iter(idx)\n",
    "        except TypeError:\n",
    "            idx = [idx]\n",
    "        return np.array([dcm.read_file(str(path)).pixel_array for path in ct_dcms[idx]])\n",
    "\n",
    "    @classmethod\n",
    "    def get_mask(self,idx):\n",
    "        try:\n",
    "            iter(idx)\n",
    "        except TypeError:\n",
    "            idx = [idx]\n",
    "        return np.array([dcm.read_file(str(path)).pixel_array for path in mask_dcms[idx]])"
   ]
  },
  {
   "cell_type": "code",
   "execution_count": 18,
   "metadata": {
    "ExecuteTime": {
     "end_time": "2018-07-25T12:59:35.593304Z",
     "start_time": "2018-07-25T12:59:35.569871Z"
    }
   },
   "outputs": [],
   "source": [
    "class DataSet(DicomAccess):\n",
    "    def __init__(self):\n",
    "        self.len = len(ct_dcms)\n",
    "        self.current = 0\n",
    "        return\n",
    "        \n",
    "    def __len__(self):\n",
    "        return self.len\n",
    "    \n",
    "    def __getitem__(self,idx):\n",
    "        yield tuple((self.get_ct(idx),self.get_mask(idx)))\n",
    "        \n",
    "    def __iter__(self):\n",
    "        return self\n",
    "    \n",
    "    def __next__(self):\n",
    "        if self.current >= len(self):\n",
    "            raise StopIteration\n",
    "        else:\n",
    "            self.current += 1\n",
    "            return tuple((self.get_ct(self.current),self.get_mask(self.current)))\n",
    "\n",
    "dataset = DataSet()"
   ]
  },
  {
   "cell_type": "code",
   "execution_count": 19,
   "metadata": {
    "ExecuteTime": {
     "end_time": "2018-07-25T12:59:35.616153Z",
     "start_time": "2018-07-25T12:59:35.594582Z"
    }
   },
   "outputs": [],
   "source": [
    "# shapes = [np.shape(list(dataset[x]))[3:] for x in range(10)]"
   ]
  },
  {
   "cell_type": "code",
   "execution_count": 20,
   "metadata": {
    "ExecuteTime": {
     "end_time": "2018-07-25T12:59:35.647582Z",
     "start_time": "2018-07-25T12:59:35.617491Z"
    },
    "code_folding": []
   },
   "outputs": [],
   "source": [
    "class DataPreparator():\n",
    "    def __init__(self,dataset,patch_shape,batch_size,overlap):\n",
    "        self.dataset = dataset\n",
    "        self.patch_shape = patch_shape\n",
    "        self.batch_size = batch_size\n",
    "        self.overlap = overlap\n",
    "        self.patches = []\n",
    "        self.masked = []\n",
    "        self.metadata = {\n",
    "            \"ct_idx\": [],\n",
    "            \"patches_shape\": [],\n",
    "            \"masked\": [],\n",
    "            \"pickles\": [],\n",
    "            \"patch_indices\": [],\n",
    "        }\n",
    "        \n",
    "    def load_metadata(self,file=None):\n",
    "        if not file:\n",
    "            file = str(PATCHES/'metadata.p')\n",
    "        else:\n",
    "            file = str(file)\n",
    "        self.metadata = self.pickle_load(file)\n",
    "        return self.metadata\n",
    "        \n",
    "    def prepare(self):\n",
    "        for idx in range(len(dataset)):\n",
    "            arr = list(self.dataset[idx])\n",
    "            x,y = arr[0][0][0],arr[0][1][0]\n",
    "            image_shape = np.shape(x)\n",
    "            print(f\"Image,Mask ({idx}): {image_shape}\")\n",
    "            patch_indices = compute_patch_indices(image_shape, self.patch_shape, self.overlap, start=None)\n",
    "\n",
    "            with ThreadPoolExecutor(6) as e:\n",
    "                e.map(\n",
    "                    self.save_patches,\n",
    "                    repeat(patch_indices),\n",
    "                    repeat(x),\n",
    "                    repeat(y),\n",
    "                    range(len(patch_indices)),\n",
    "                    repeat(idx),\n",
    "                     )\n",
    "            \n",
    "            data_obj = {\n",
    "                'patches': self.patches,\n",
    "                'masked': self.masked,\n",
    "            }\n",
    "            \n",
    "            fname = \"data_%05d.p\" % (idx)\n",
    "            out_file = str(PATCHES/fname)\n",
    "            print(f\"\\nDumping a pickle at {out_file}... \",end='')\n",
    "            print(np.shape(self.patches))\n",
    "            self.pickle_dump(item=data_obj, out_file=out_file)\n",
    "            print(\"Done.\")\n",
    "            self.metadata['pickles'].append(fname)\n",
    "            \n",
    "            self.patches = []\n",
    "            self.masked = []\n",
    "            \n",
    "        metadate_out_file = str(PATCHES/f\"metadata.p\")\n",
    "        self.pickle_dump(item=self.metadata, out_file=metadate_out_file)\n",
    "        print(f\"Metadata has been saved in {metadate_out_file}\")\n",
    "\n",
    "    def save_patches(self,patch_indices,x,y,patch_index,ct_idx):\n",
    "        y_patch = self.get_patch(y,patch_indices,patch_index)\n",
    "        has_mask = self.has_mask(y_patch)\n",
    "        \n",
    "        take = chance(0.017)\n",
    "        if has_mask:\n",
    "            print('m',end='')\n",
    "        elif take:\n",
    "            print('t',end='') # took an empty patch by chance\n",
    "        else:\n",
    "            print('.',end='') # skiped an empty patch\n",
    "            return\n",
    "            \n",
    "\n",
    "        x_patch = self.get_patch(x,patch_indices,patch_index)\n",
    "        \n",
    "        \n",
    "        x_patch = self.normalize_patch(x_patch)\n",
    "        y_patch = self.to_binary_mask(y_patch)\n",
    "        \n",
    "        xy_patch_out = tuple(np.array([[x_patch],[y_patch]]))\n",
    "        has_mask = self.has_mask(y_patch)\n",
    "        self.masked.append(has_mask)\n",
    "        self.patches.append(xy_patch_out)\n",
    "        self.metadata[\"patches_shape\"].append(np.shape(xy_patch_out))\n",
    "        self.metadata[\"masked\"].append(has_mask)\n",
    "        self.metadata[\"ct_idx\"].append(ct_idx)\n",
    "        self.metadata[\"patch_indices\"].append(patch_index)\n",
    "        #print(f\"Patch ({idx}) {np.shape(patch_indices)}: {np.shape(xy_patch_out)}\")\n",
    "            \n",
    "    def get_patch(self,data,patch_indices,idx):\n",
    "        return self.reshape_array(\n",
    "            get_patch_from_3d_data(data, self.patch_shape, patch_indices[idx]))\n",
    "        \n",
    "    @classmethod\n",
    "    def pickle_dump(self,item, out_file):\n",
    "        with open(str(out_file), \"wb\") as opened_file:\n",
    "            pickle.dump(item, opened_file, protocol=pickle.HIGHEST_PROTOCOL)\n",
    "\n",
    "    @classmethod\n",
    "    def pickle_load(self,in_file):\n",
    "        with open(str(in_file), \"rb\") as opened_file:\n",
    "            return pickle.load(opened_file)\n",
    "\n",
    "    @classmethod\n",
    "    def reshape_array(self,arr):\n",
    "        new_shape = tuple(np.insert(np.shape(arr),0,1))\n",
    "        return np.reshape(arr,new_shape)\n",
    "    \n",
    "    @classmethod\n",
    "    def has_mask(self,patch):            \n",
    "        if np.any(patch):\n",
    "            return True\n",
    "        else:\n",
    "            return False\n",
    "            \n",
    "    @classmethod       \n",
    "    def normalize_patch_1(self,patch):\n",
    "        return patch/np.linalg.norm(patch, ord=2,axis=-1,keepdims=1)\n",
    "    \n",
    "    @classmethod\n",
    "    @jit\n",
    "    def normalize_patch(self,x):\n",
    "        return (x - x.min()) / (x.max() - x.min())\n",
    "    \n",
    "    @classmethod\n",
    "    def to_binary_mask(self,patch):\n",
    "        patch[patch > 0] = 1\n",
    "        return patch\n",
    "\n",
    "        \n",
    "        \n",
    "params = {\n",
    "    'patch_shape': (64,64,64),\n",
    "    'batch_size': 1,\n",
    "    'overlap': 8 \n",
    "}\n",
    "\n",
    "dataset = DataSet()\n",
    "dp = DataPreparator(dataset,**params)\n",
    "#dp.load_metadata(PATCHES/\"metadata.p\")"
   ]
  },
  {
   "cell_type": "code",
   "execution_count": 365,
   "metadata": {
    "ExecuteTime": {
     "end_time": "2018-07-24T21:50:46.687872Z",
     "start_time": "2018-07-24T20:49:46.175602Z"
    },
    "code_folding": [],
    "deletable": false,
    "editable": false,
    "run_control": {
     "frozen": true
    },
    "scrolled": true
   },
   "outputs": [
    {
     "name": "stdout",
     "output_type": "stream",
     "text": [
      "Image,Mask (0): (439, 512, 512)\n",
      "t..........................................................................................tt..................................................................................t.............................................mm.......mm.......t.................................................................................mmm......mmm........................................................................................m.........m...........................t..........................................................................t.........................................................................................................................................................................................................................................................................\n",
      "Dumping a pickle at /media/amer/BigDisk/patches_1/data_00000.p... (19, 2, 1, 1, 64, 64, 64)\n",
      "Done.\n",
      "Image,Mask (1): (439, 512, 512)\n",
      ".......t...................................t..mm........mm..................................................t.....................mm.........mmm....t...mm.....t.........................t.t................................mm........mmm.......mm..............................................................................mmm....t..mmm.......mm............t............................................................t..........................................t..................................................................................t.....................................................................................................................................t............................................................................................................................\n",
      "Dumping a pickle at /media/amer/BigDisk/patches_1/data_00001.p... (39, 2, 1, 1, 64, 64, 64)\n",
      "Done.\n",
      "Image,Mask (2): (439, 512, 512)\n",
      "........t................t............t.........................t........t..........................................................................t...............................................................t...................................t.....................t.......................t.............t.........mm.........mmm..t....mm...........t...........................................................................m...........................................................t........................................t.........t..................................................................................................................................................................................................t...............t................................................t\n",
      "Dumping a pickle at /media/amer/BigDisk/patches_1/data_00002.p... (27, 2, 1, 1, 64, 64, 64)\n",
      "Done.\n",
      "Image,Mask (3): (439, 512, 512)\n",
      "..........................................................................t..................t............................................m..........................................................................................mm.......mm.........................t.........................................t...........m.........mm........m.t.............................................................................m........mmm....t.....m.........................................................................................................................................................................t...........................t...............................................................................................t..........................................t.....................\n",
      "Dumping a pickle at /media/amer/BigDisk/patches_1/data_00003.p... (24, 2, 1, 1, 64, 64, 64)\n",
      "Done.\n",
      "Image,Mask (4): (878, 512, 512)\n",
      "...........................................m..m.m.....m.mm.........................t.................t..........................t.mm.........mmm.......mm....................................t..............................mm.m.......mmm......mm............t....t.............................................................mm.......mmm........m.................................................................................t.............t...................t.........................................................................t..........................................................................................................t.........................................................................t......................................t...........................................................t.......t..............................................................................t................................................................t....................................t...........................................................t........t...............................................................t................t.............................................................................................................t..........................................................................t..............................................t.........................................................t................................t....................................................t..............................t........................t.................\n",
      "Dumping a pickle at /media/amer/BigDisk/patches_1/data_00004.p... (57, 2, 1, 1, 64, 64, 64)\n",
      "Done.\n",
      "Image,Mask (5): (455, 512, 512)\n",
      "...................................t........m.m.....m..m............................t......................................................mm.........mm......................t.............................................m........mm.........mm.................................t............................................m.......mmmm...t..tmmm..m....................t.....................................................m...........mm......mm........................................................................................m.......t.m..................................................................................................t....t....................................................................t........t............................................t...t.t...............................................................................................................................\n",
      "Dumping a pickle at /media/amer/BigDisk/patches_1/data_00005.p... (44, 2, 1, 1, 64, 64, 64)\n",
      "Done.\n",
      "Image,Mask (6): (439, 512, 512)\n",
      "..................t...t........................t......m........................................................t.......t........m.m.......m.m......m.mm.....................................t......................................mmmm.......mmmm......mm.....t.............t.........................................................mmmm.......mmm.m................t..................................................................................................................t.....................................................................t.......t...................................................t..........................................t........................................................................................................................................................\n",
      "Dumping a pickle at /media/amer/BigDisk/patches_1/data_00006.p... (40, 2, 1, 1, 64, 64, 64)\n",
      "Done.\n",
      "Image,Mask (7): (439, 512, 512)\n",
      "..........................................................t..........t................................................................t...............................................................................................mm.........m...............................................................t...............mm......mmm......tmmm..................................................t.................t..................mm........tm.......................................................................t......................................................................t...........................t................................t..............................................t.............................................t..............................................................\n",
      "Dumping a pickle at /media/amer/BigDisk/patches_1/data_00007.p... (28, 2, 1, 1, 64, 64, 64)\n",
      "Done.\n",
      "Image,Mask (8): (439, 512, 512)\n",
      "......................................t......................................................................t........m..........mmm......mmm................................t...........t...............................tm.........mmm.......mmm.......................................................................................mm........mm......................................................................................................................t.................................................t....................................................................................................................................................................................................................................................................................t..............\n",
      "Dumping a pickle at /media/amer/BigDisk/patches_1/data_00008.p... (26, 2, 1, 1, 64, 64, 64)\n",
      "Done.\n",
      "Image,Mask (9): (440, 512, 512)\n",
      "....t.......t...........................................t......................................................................mm.m........mm.......mm..t..............................................t...........................m.mm..t....mmm.......mm................................t............................................mm...................................t...............................................t.........t.............................................................................................t...........................................................................................................................................t................................................................t................t.............................................................\n",
      "Dumping a pickle at /media/amer/BigDisk/patches_1/data_00009.p... (31, 2, 1, 1, 64, 64, 64)\n",
      "Done.\n",
      "Image,Mask (10): (439, 512, 512)\n",
      "................t...........t.........................................................................................................................................................................................................mm........m...t....................................................t.....................mm..t.....mmm...t....mmm............................................................................mm........m.m...............t..........................................................................................................................t............................................................................................................................................t........................................................................................\n",
      "Dumping a pickle at /media/amer/BigDisk/patches_1/data_00010.p... (24, 2, 1, 1, 64, 64, 64)\n",
      "Done.\n",
      "Image,Mask (11): (439, 512, 512)\n",
      "............t................................................................................t.............................................mm........mm.................t.................t..........................................mm........mm........mm...............................................................................m........mm.........................................................................................................................................................................t......t......................................................................................................................................................................................................................t.....................t........................t....................\n",
      "Dumping a pickle at /media/amer/BigDisk/patches_1/data_00011.p... (22, 2, 1, 1, 64, 64, 64)\n",
      "Done.\n",
      "Image,Mask (12): (440, 512, 512)\n",
      "....t.................t..............................................................................................t.............m.........m...............................................................................m........mmmm.......mmmm.............................t........................................t................mmmm..t..mmm.....................................................................................................................................................t....................................................................................t...............................................................................t.............................................................................................................................................\n",
      "Dumping a pickle at /media/amer/BigDisk/patches_1/data_00012.p... (27, 2, 1, 1, 64, 64, 64)\n",
      "Done.\n",
      "Image,Mask (13): (439, 512, 512)\n",
      ".....................................................m..m........mm....................................................t...................mm.......mm.........mm.............................................................................mm.m.......mmm............................................t..................................m.......mmm........mm.........t..t.........................................t........................m.....t..mmm.............t............................................t.........................................................................................................................................................................t.......t........................................................................................................................\n",
      "Dumping a pickle at /media/amer/BigDisk/patches_1/data_00013.p... (36, 2, 1, 1, 64, 64, 64)\n",
      "Done.\n",
      "Image,Mask (14): (439, 512, 512)\n",
      "..........................................m.m.....t..m.....t...............t.....................................t........................mm.......mm........t......................................................................mm.......mmm.........m....................................................................mm........mm........mm.........m.......t......................................................t.............tmmm.........mmm.......m...........................................................................................................t.......................................t................................................................................................................................................t.................................................t.......\n",
      "Dumping a pickle at /media/amer/BigDisk/patches_1/data_00014.p... (39, 2, 1, 1, 64, 64, 64)\n",
      "Done.\n",
      "Image,Mask (15): (439, 512, 512)\n"
     ]
    },
    {
     "name": "stdout",
     "output_type": "stream",
     "text": [
      "......................................................................t.......t..............................................................................t..........................................................................mm......mm.................................................t..............t.............mm.......mmm.........mm..............t.........................................t...................mm.......tmmm.......mmm..............................................................................m..........m.......t.............................................................................t................t.............t...............................................................t.......................................................................................\n",
      "Dumping a pickle at /media/amer/BigDisk/patches_1/data_00015.p... (34, 2, 1, 1, 64, 64, 64)\n",
      "Done.\n",
      "Image,Mask (16): (455, 512, 512)\n",
      "...................................mm.........mm........................................................................m...t......mm........m.m....t.......................................................................mm.........mm........mm...............................t.............................................mm........m...................t.............................................................................t.t.................................t.................t...................................................................................................t................................t................t......................................................t........................t.................................................................................................................t.......................................................t......t..........\n",
      "Dumping a pickle at /media/amer/BigDisk/patches_1/data_00016.p... (34, 2, 1, 1, 64, 64, 64)\n",
      "Done.\n",
      "Image,Mask (17): (439, 512, 512)\n",
      "............................................m..............t........t..........................................................mmm........mm....................................................................t...................mmm......mm.m........................................................................................................................t.....t.....t..................................................................................................t.............................................................................................................................................................................................................................t............................t.............t..........................t......................t............\n",
      "Dumping a pickle at /media/amer/BigDisk/patches_1/data_00017.p... (24, 2, 1, 1, 64, 64, 64)\n",
      "Done.\n",
      "Image,Mask (18): (439, 512, 512)\n",
      "...........................................mmm.......mmm........m......................t.........................................mm......tmmm....t....mmm....................................................t.......................mm........mm..t...................................................t...................t........t.........t.............................................t...........t.......................................t....................................t.........................................................t...........................................t.................................................................................t.........................t..........................................t...t.........................................................................\n",
      "Dumping a pickle at /media/amer/BigDisk/patches_1/data_00018.p... (38, 2, 1, 1, 64, 64, 64)\n",
      "Done.\n",
      "Image,Mask (19): (439, 512, 512)\n",
      ".............................t..................................................t.................................................mm........mm..............................................................................mm........mm.........mm.................................................................t...........mm.......mmm........mmm...............t................................t.....................................mm........mm..t........................................................................................................................t..................................................t..........................................................................t............................................t................................................................\n",
      "Dumping a pickle at /media/amer/BigDisk/patches_1/data_00019.p... (32, 2, 1, 1, 64, 64, 64)\n",
      "Done.\n",
      "Image,Mask (20): (455, 512, 512)\n",
      "........................t..................................................................................t.....................mm........m.m.......................................................t.....................mm...t.....mm.........mm................................................................t...........mmm......mmmm.......mm...t.......................................................t...................mm........mm.....................t................t........t.................................................t..............................................................................t..........................................t........................................................................................................t.............................t.......................................................t.......................t.................................\n",
      "Dumping a pickle at /media/amer/BigDisk/patches_1/data_00020.p... (40, 2, 1, 1, 64, 64, 64)\n",
      "Done.\n",
      "Image,Mask (21): (439, 512, 512)\n",
      ".................................t............................................................................................t..m.........m..................t...............................................................m.....mm........mm....................t..t...........................t..........................mm........mmm.t.....mmm........................................................................................mm........mm...........................................t.............................................................t...............................................t.............................................................................t....t........t.............................t.............................................................................t.....\n",
      "Dumping a pickle at /media/amer/BigDisk/patches_1/data_00021.p... (34, 2, 1, 1, 64, 64, 64)\n",
      "Done.\n",
      "Image,Mask (22): (439, 512, 512)\n",
      "..............................t................................t...........................t....t.......................m.........mm........m.........m............t.................t.......t..............................m.......mmmm......mmmm...................t................................................t.................mmmm......mmm.m............................................t...........................................t......................................................................t.......................t....t..........................t.......................................................................................................................t.........................................................................................................................\n",
      "Dumping a pickle at /media/amer/BigDisk/patches_1/data_00022.p... (38, 2, 1, 1, 64, 64, 64)\n",
      "Done.\n",
      "Image,Mask (23): (439, 512, 512)\n",
      "......................................t.............................................t.....................................................mm.......mmm........................................................t.....................mm........mm.......mmm...............................t..............................................mm.........mm................................................t............................t.......................t.......................................................t....................t..........t...............................................t......................................................................................................t..............t..........................................................t............................................\n",
      "Dumping a pickle at /media/amer/BigDisk/patches_1/data_00023.p... (30, 2, 1, 1, 64, 64, 64)\n",
      "Done.\n",
      "Image,Mask (24): (439, 512, 512)\n",
      "........................t.......t.........................t.......t..............................................................m.........mm......t........................................................................mm.......mm........mm........mm....................................................................mm........mmm.......mmm.......mm.......................................t....t............................t..............................................................................................................................t......................................t.............................................................................................................t.........................................t........................................................t\n",
      "Dumping a pickle at /media/amer/BigDisk/patches_1/data_00024.p... (34, 2, 1, 1, 64, 64, 64)\n",
      "Done.\n",
      "Image,Mask (25): (878, 512, 512)\n",
      "..........................................tt.t............................................t............................t.........mm........mm..................t............................................................m........mm........mm.........................................................................t.....m........mm........m..........................................................................................................................................................................................t.......................................................................................t.....t.................t..............................t..t.................................................................t..........................................................................t.............................................t...................................................................t..........................................t..........................................................................t...............t............................................................................................t.........................................t..................................................................t...........................t............t.........................................................t.................................t...........................................................................................................................................t.t.............................t...............................\n",
      "Dumping a pickle at /media/amer/BigDisk/patches_1/data_00025.p... (43, 2, 1, 1, 64, 64, 64)\n",
      "Done.\n",
      "Image,Mask (26): (439, 512, 512)\n",
      "...........................................m.m.......mm..t................................................................................mmm.......mm.............................t.......................................m....t.....mm........mm............t.........................................................................mmmt......mm.................................................................t..............................................................................t....................................................t...................................................................................t...t......t...................................................................................................................................t...............................t...\n",
      "Dumping a pickle at /media/amer/BigDisk/patches_1/data_00026.p... (32, 2, 1, 1, 64, 64, 64)\n",
      "Done.\n",
      "Image,Mask (27): (439, 512, 512)\n",
      "...........................t......................t......................mm...................................................................................mmm.......mm...............................................................................mm.......m.mm.......m.......t................................................................t..........m......m.........................t.....................t...t.........................................................t.............................................................................................................................................t................................t.........t....................................................................................t...........................................................\n",
      "Dumping a pickle at /media/amer/BigDisk/patches_1/data_00027.p... (27, 2, 1, 1, 64, 64, 64)\n",
      "Done.\n",
      "Image,Mask (28): (439, 512, 512)\n",
      "..................................................t.....................................t...t.....................................................................t........................................................mm........mm.........mm..............t..............................................................mm.........mm...........................................................................t...........mm........m.m...t..................................................................................................................................t.....................t...........t.............t......................t..............................................t........t.......................................................................................t...........t.....t\n",
      "Dumping a pickle at /media/amer/BigDisk/patches_1/data_00028.p... (31, 2, 1, 1, 64, 64, 64)\n",
      "Done.\n",
      "Image,Mask (29): (878, 512, 512)\n",
      "................t..........................m.................................t............................t...........t...................m.........m..................................t...t.........................................mm........mm.......m.....................................t................................m.........mm.......mmm......t.....................................................................mmmm......mmmm........mm............................................................................mm.........mmmm.......mm............t.........t...................................................................t..................................................................t........t......................................................................................................t..........................t.t......................................................................................t..................................................................................................................................t...............................................................................................................................................t..................................................................................................................................t...............................................t....................................................................................................................t......................................................................................................\n",
      "Dumping a pickle at /media/amer/BigDisk/patches_1/data_00029.p... (54, 2, 1, 1, 64, 64, 64)\n",
      "Done.\n",
      "Image,Mask (30): (439, 512, 512)\n"
     ]
    },
    {
     "name": "stdout",
     "output_type": "stream",
     "text": [
      "..................................................................................................................................m.........mm........mm.........t....t....................................................t.........mmm.......mmm........m...............................t...............................................mm........mm...t...................t.....................................................t................................................................................t..............................t...............................................................................................................t...t............................................t....t..................t.....................................t.........t...................................\n",
      "Dumping a pickle at /media/amer/BigDisk/patches_1/data_00030.p... (32, 2, 1, 1, 64, 64, 64)\n",
      "Done.\n",
      "Image,Mask (31): (439, 512, 512)\n",
      "......................................................................................t................................................................t................................................t...........................mm........mm.........mm..t....................................................................................mmm.......mmm........................t....t...t......................................................mm...............t.....t..t........................................................................t.................................................................................................t...................t...............................................................................................................................................\n",
      "Dumping a pickle at /media/amer/BigDisk/patches_1/data_00031.p... (27, 2, 1, 1, 64, 64, 64)\n",
      "Done.\n",
      "Image,Mask (32): (439, 512, 512)\n",
      "....t.................................................................................................t................mm........mm........mm........................................t....................................mm.....t...mm........mm.....t.....................................................t...........................mm..tt.....m...........t............................................t.....................................................................t..................t.....................................................t.t..........................................................................................................t........t.....................................................................................t.............t..........................................\n",
      "Dumping a pickle at /media/amer/BigDisk/patches_1/data_00032.p... (33, 2, 1, 1, 64, 64, 64)\n",
      "Done.\n",
      "Image,Mask (33): (439, 512, 512)\n",
      "..........................................................................t............................t..........................mm.....t..mm.....................................t..................................................mmt.......mm.........................................................................................m........mm............................................t.......................................................................................t...............t.......................................................................................................................................................................................................................t.....................................t......................................................t\n",
      "Dumping a pickle at /media/amer/BigDisk/patches_1/data_00033.p... (22, 2, 1, 1, 64, 64, 64)\n",
      "Done.\n",
      "Image,Mask (34): (439, 512, 512)\n",
      "...........................t...............................................t.........t....................t.........t....................................t................................................................mm.......mmm.......................................................................................mmm.......mmm...........t...t.........................................t..............t.....t.........m...........................................................................................................................................t.............................................................................................................................................t..............................................................................t..........t.........\n",
      "Dumping a pickle at /media/amer/BigDisk/patches_1/data_00034.p... (27, 2, 1, 1, 64, 64, 64)\n",
      "Done.\n",
      "Image,Mask (35): (878, 512, 512)\n",
      "........................................................m.....................................................................t..............mm.........mm..........................................................................t.mm........mtm........m.m.................................................................mm........mmmm.......mmm........t..........t......................................t.................mm........mmmm........mm....t...................t.................................t..................................t............................................................................................................................................t....................t....t...................................................................................t.............t....t...........t..................................................t............................................................t...........................t.........................................................................................................t.................................................................t....................................................................................................t............................................................................................................................t..........................................t....t...............t....t...............................t............................t.................................................................................................................\n",
      "Dumping a pickle at /media/amer/BigDisk/patches_1/data_00035.p... (58, 2, 1, 1, 64, 64, 64)\n",
      "Done.\n",
      "Image,Mask (36): (439, 512, 512)\n",
      "...................t...........................................................................................t...........................................t...............................................................mm........mm..............................t.........................................................mm.........mm.....................t........................t..................................................mm..................................................................t.......................................t..........................................................t........................................................................................................t..................................................................................................\n",
      "Dumping a pickle at /media/amer/BigDisk/patches_1/data_00036.p... (20, 2, 1, 1, 64, 64, 64)\n",
      "Done.\n",
      "Image,Mask (37): (439, 512, 512)\n",
      ".........................t..............................................................................t..........................m..t...t.m....................t.........................t........................t......mm....t....mm.........mt.....................................t....................t..................mm.......mmm.......mm...........................................................................................................................t......................t.........t.......................................t.....................t......t........t................................................................t...................................................t................................................................................................t......tt..\n",
      "Dumping a pickle at /media/amer/BigDisk/patches_1/data_00037.p... (37, 2, 1, 1, 64, 64, 64)\n",
      "Done.\n"
     ]
    },
    {
     "name": "stdout",
     "output_type": "stream",
     "text": [
      "Image,Mask (38): (439, 512, 512)\n",
      "......t....................................mm......m.............................................................................mm.......mmm........m.....................................................................mm.......mmm.........mm.........................t.................t.................................mm.......mmm.........m.............................................t...............................................................................................t........................................................t...................................................................t....................................t........t............................t.......................................................................t.............t...............................\n",
      "Dumping a pickle at /media/amer/BigDisk/patches_1/data_00038.p... (34, 2, 1, 1, 64, 64, 64)\n",
      "Done.\n",
      "Image,Mask (39): (439, 512, 512)\n",
      "..................................mm...t.....mm.m......m.m...............................t....................t.........mm.......mmm........mmm........mm............................................................................mmmm.......mm.......................................................................................t.........................................................................t............................................................t......................................................t.................................t..............................................................t..........................t...........t..........t.......................t.................................................t................t............................t........t....\n",
      "Dumping a pickle at /media/amer/BigDisk/patches_1/data_00039.p... (40, 2, 1, 1, 64, 64, 64)\n",
      "Done.\n",
      "Image,Mask (40): (439, 512, 512)\n",
      "...................t..........................................................................................................................mm..t...........................................t..............................m..........m........mm.t.t.......................t...................................................m.......mmm....t..mm........................t..............................t................................mmm......t.m.......t.........................................t.........................................t..........................t..........t..................................................................................t...............................................................t...............................t.................t...............................\n",
      "Dumping a pickle at /media/amer/BigDisk/patches_1/data_00040.p... (35, 2, 1, 1, 64, 64, 64)\n",
      "Done.\n",
      "Image,Mask (41): (455, 512, 512)\n",
      "....................................................................................................t..................................................................................................t..................mm........mm.........mm.......t...................................................................t.mmm.......m.mm......mm.............................................t.................................mm.t.....mmm........m................................................................................................................t..........t.............................................t.............................t.............t..............................t............................................t................................................................................................t.........................................................................\n",
      "Dumping a pickle at /media/amer/BigDisk/patches_1/data_00041.p... (34, 2, 1, 1, 64, 64, 64)\n",
      "Done.\n",
      "Image,Mask (42): (439, 512, 512)\n",
      ".................................................................mm..........................................t..............................m.........m.m........m...................................................................mm.m.......mm........m.m........m.........................................................mm........mmm.......mmm............................................................................................................................................................................................................................................t.............t.t........t.t.....................................................................................................................................................t................................t...........\n",
      "Dumping a pickle at /media/amer/BigDisk/patches_1/data_00042.p... (30, 2, 1, 1, 64, 64, 64)\n",
      "Done.\n",
      "Image,Mask (43): (439, 512, 512)\n",
      "............................................m.m.........mm........................................................................mm........mm........mm..............................................................................mm.........mm.......m.....t................t........................................t.........................................................................................t.................................................................................................................................................................................................................................t..................t......................................................................................................................................................\n",
      "Dumping a pickle at /media/amer/BigDisk/patches_1/data_00043.p... (21, 2, 1, 1, 64, 64, 64)\n",
      "Done.\n",
      "Image,Mask (44): (439, 512, 512)\n",
      "..........................t....t....................................................................................................t........................................................ttt......................................mm.........mm..................................................................t..........mm........mm........mm........t..........t......t..................................................mmm.........mmm......m.........................................t....t...............................mm........mm.......t....................................t........................t....t........t................................................................t...........................................t........................................................t...................\n",
      "Dumping a pickle at /media/amer/BigDisk/patches_1/data_00044.p... (41, 2, 1, 1, 64, 64, 64)\n",
      "Done.\n",
      "Image,Mask (45): (878, 512, 512)\n",
      "................................................m....m......mtm........t.........................................................m........mm.......mmm.......mm.............t.......................................................mmm.......mmm.......................................................................................mmm........mmm.....................................................................................t...................t...................................................................................t......................t..............................t............................t.....................................................................................................................................................................................t...t.............t.........t.......t............................t.......................................tt...........t.........................t............t.........................................................................................................................t...........................................................................................t.......................................................t....t......................t......................................................................................................................................t..................................................t.............t..t.................................................................................................................................................\n",
      "Dumping a pickle at /media/amer/BigDisk/patches_1/data_00045.p... (53, 2, 1, 1, 64, 64, 64)\n",
      "Done.\n",
      "Image,Mask (46): (439, 512, 512)\n",
      "..t..............................t........................t.........................................................t....t.......m..t........................................t......................................t......mm....t....m.m.......m....................................................................t.........mm.......mmm........m...........t............................t......................................mm..t....mmm.........m...........t...............................t..............t.........................................................................................................................t.......t..............................................t........................................................t..................................................................\n",
      "Dumping a pickle at /media/amer/BigDisk/patches_1/data_00046.p... (38, 2, 1, 1, 64, 64, 64)\n",
      "Done.\n",
      "Image,Mask (47): (439, 512, 512)\n",
      "........................................................................t...................................t.....t..........................m.........mm..................t....................................................................mmm.........mm......t..................................t..........t..............mm.......mm.........mm.........................t..t..................t............................mm........mmm........mm..............................t...............................................m.m......mm...t.........................................................................................t................................................t.....................................t.........t..t...........................................................................\n",
      "Dumping a pickle at /media/amer/BigDisk/patches_1/data_00047.p... (42, 2, 1, 1, 64, 64, 64)\n",
      "Done.\n",
      "Image,Mask (48): (439, 512, 512)\n",
      ".......................................t......mm.......................t.............................t.............................mm.......m.mm.............................................................................mm.......mm......t..mm.............................................................................mm........mm........m...............................................t.t..t.....................................................................t..t.................................................................................................t...........t.......................................................................................................t..t....t.....................................t.........................................................................\n",
      "Dumping a pickle at /media/amer/BigDisk/patches_1/data_00048.p... (33, 2, 1, 1, 64, 64, 64)\n",
      "Done.\n",
      "Image,Mask (49): (439, 512, 512)\n",
      ".....t............................t...........t.......m...m.......................................................................m.........mm........mm................tt.................................................mm.........mm.......mm.m.......mm...........................t....................t....................mm......mmm..................................................................................................mm.........................t....................t...................................................t.................t..................t...t...................................................................................................................................t..........................................t...t.................................................\n",
      "Dumping a pickle at /media/amer/BigDisk/patches_1/data_00049.p... (39, 2, 1, 1, 64, 64, 64)\n",
      "Done.\n",
      "Image,Mask (50): (439, 512, 512)\n",
      "..........................................................................................................................................mmm........mm...............t.............................................................mmmm......mmm......................................................................................mmmm......mmmm......................................................t.........................................m.t..............................................................................................................................................................................................................................................................t..............................................................t.....................t....................\n",
      "Dumping a pickle at /media/amer/BigDisk/patches_1/data_00050.p... (27, 2, 1, 1, 64, 64, 64)\n",
      "Done.\n",
      "Image,Mask (51): (439, 512, 512)\n",
      "............................................m..m.......mm.........................................................................mm...t.....mmm........m.m........................................................t........mm........mm........mmm.........................................t...........t..........t............mm........mmm.......mm...............................t........t.....................................................................................................................................................................t.................................t.....t.......................................t.............t..............................................................................................................t..t...........................................\n",
      "Dumping a pickle at /media/amer/BigDisk/patches_1/data_00051.p... (39, 2, 1, 1, 64, 64, 64)\n",
      "Done.\n",
      "Image,Mask (52): (439, 512, 512)\n",
      "..................................................m..m........mm....................................................................m......m.......mmm.......mm....................................................................mmmm......mmmm........m..............................................................................mmmm.....mmmm...................................................................t..................mt........m.....................t.......................t..............................................................t...........................................t..................................................t.............t....................................................................................................t...........................t...............\n",
      "Dumping a pickle at /media/amer/BigDisk/patches_1/data_00052.p... (40, 2, 1, 1, 64, 64, 64)\n"
     ]
    },
    {
     "name": "stdout",
     "output_type": "stream",
     "text": [
      "Done.\n",
      "Metadata has been saved in /media/amer/BigDisk/patches_1/metadata.p\n"
     ]
    }
   ],
   "source": [
    "dp.prepare()"
   ]
  },
  {
   "cell_type": "code",
   "execution_count": 21,
   "metadata": {
    "ExecuteTime": {
     "end_time": "2018-07-25T12:59:35.673518Z",
     "start_time": "2018-07-25T12:59:35.651025Z"
    }
   },
   "outputs": [],
   "source": [
    "# print(np.count_nonzero(dp.pickle_load(PATCHES/\"metadata.p\")[\"masked\"]))\n",
    "\n",
    "# len(dp.pickle_load(PATCHES/\"metadata.p\")[\"masked\"]) - np.count_nonzero(dp.pickle_load(PATCHES/\"metadata.p\")[\"masked\"])\n",
    "\n",
    "# # masked = dp.pickle_load(\"/home/amer/data/aneurysm/patches/data_0.p\")[\"masked\"]"
   ]
  },
  {
   "cell_type": "code",
   "execution_count": 22,
   "metadata": {
    "ExecuteTime": {
     "end_time": "2018-07-25T12:59:35.702518Z",
     "start_time": "2018-07-25T12:59:35.676782Z"
    },
    "scrolled": false
   },
   "outputs": [],
   "source": [
    "class DataGen(Sequence):\n",
    "    def __init__(self,mode=0):\n",
    "        \"\"\"\n",
    "        :param mode: 0 for training or 1 validation\n",
    "        \"\"\"\n",
    "        self.mode = mode\n",
    "        self.pickles = np.array([Path(file) for file in sorted(gb.glob(str(PATCHES/'data*.p')))])\n",
    "        self.metadata = dp.pickle_load(PATCHES/\"metadata.p\")\n",
    "        self.file_list = np.array([self.pickles[idx] for idx in self.metadata[\"ct_idx\"]])\n",
    "        self.all_data = np.column_stack((self.file_list, self.metadata['patch_indices']))\n",
    "        self.data_set = split_list(self.all_data, split=0.8, shuffle_list=False)[self.mode]\n",
    "        self.internal_patch_index = split_list(self.get_internal_patch_index(), split=0.8, shuffle_list=False)[self.mode]\n",
    "        \n",
    "    def __len__(self):\n",
    "        return len(self.data_set)\n",
    "    \n",
    "    def __getitem__(self, idx):\n",
    "        pickle_path = self.data_set[idx][0]\n",
    "        x,y = self.get_pickle(pickle_path)[self.internal_patch_index[idx]]\n",
    "        return x,y\n",
    "    \n",
    "    def get_internal_patch_index(self):        \n",
    "        internal_patch_count = {}\n",
    "        internal_patch_index = []\n",
    "        for x in self.all_data:\n",
    "            try:\n",
    "                internal_patch_count[x[0]] += 1\n",
    "            except KeyError as e:\n",
    "                internal_patch_count[x[0]] = 0\n",
    "            internal_patch_index.append(internal_patch_count[x[0]])\n",
    "        return np.array(internal_patch_index)\n",
    "    \n",
    "    def get_pickle(self,path):\n",
    "        return self.pickle_load(path)['patches']\n",
    "    \n",
    "    @classmethod\n",
    "    def pickle_load(self,in_file):\n",
    "        with open(str(in_file), \"rb\") as opened_file:\n",
    "            return pickle.load(opened_file)\n",
    "\n",
    "    @classmethod\n",
    "    def reshape_array(self,arr):\n",
    "        new_shape = tuple(np.insert(np.shape(arr),0,1))\n",
    "        return np.reshape(arr,new_shape)\n",
    "    \n",
    "\n",
    "# training_gen = DataGen(mode=0)\n",
    "# validation_gen = DataGen(mode=1)\n",
    "\n",
    "# print(len(training_gen))\n",
    "# print(len(validation_gen))\n",
    "# ref = training_gen.internal_patch_index\n",
    "# print(len(ref))\n",
    "\n",
    "# print(len(training_gen[ref[880]]))\n",
    "\n",
    "# training_gen[880]"
   ]
  },
  {
   "cell_type": "code",
   "execution_count": 23,
   "metadata": {
    "ExecuteTime": {
     "end_time": "2018-07-25T12:59:35.728500Z",
     "start_time": "2018-07-25T12:59:35.703775Z"
    },
    "code_folding": []
   },
   "outputs": [],
   "source": [
    "class TrainValTensorBoard(TensorBoard):\n",
    "    def __init__(self, log_dir='./logs', **kwargs):\n",
    "        # Make the original `TensorBoard` log to a subdirectory 'training'\n",
    "        training_log_dir = os.path.join(log_dir, 'training')\n",
    "        super(TrainValTensorBoard, self).__init__(training_log_dir, **kwargs)\n",
    "\n",
    "        # Log the validation metrics to a separate subdirectory\n",
    "        self.val_log_dir = os.path.join(log_dir, 'validation')\n",
    "\n",
    "    def set_model(self, model):\n",
    "        # Setup writer for validation metrics\n",
    "        self.val_writer = tf.summary.FileWriter(self.val_log_dir)\n",
    "        super(TrainValTensorBoard, self).set_model(model)\n",
    "\n",
    "    def on_epoch_end(self, epoch, logs=None):\n",
    "        # Pop the validation logs and handle them separately with\n",
    "        # `self.val_writer`. Also rename the keys so that they can\n",
    "        # be plotted on the same figure with the training metrics\n",
    "        logs = logs or {}\n",
    "        val_logs = {k.replace('val_', ''): v for k, v in logs.items() if k.startswith('val_')}\n",
    "        for name, value in val_logs.items():\n",
    "            summary = tf.Summary()\n",
    "            summary_value = summary.value.add()\n",
    "            summary_value.simple_value = value.item()\n",
    "            summary_value.tag = name\n",
    "            self.val_writer.add_summary(summary, epoch)\n",
    "        self.val_writer.flush()\n",
    "\n",
    "        # Pass the remaining logs to `TensorBoard.on_epoch_end`\n",
    "        logs = {k: v for k, v in logs.items() if not k.startswith('val_')}\n",
    "        super(TrainValTensorBoard, self).on_epoch_end(epoch, logs)\n",
    "\n",
    "    def on_train_end(self, logs=None):\n",
    "        super(TrainValTensorBoard, self).on_train_end(logs)\n",
    "        self.val_writer.close()\n",
    "\n",
    "\n",
    "def model_file():\n",
    "    t = dtime.now().strftime('%Y-%m-%d_%H:%M:%S')\n",
    "    return str(MODELS/f\"UnetModel_{t}.h5\")"
   ]
  },
  {
   "cell_type": "code",
   "execution_count": 24,
   "metadata": {
    "ExecuteTime": {
     "end_time": "2018-07-25T12:59:35.754009Z",
     "start_time": "2018-07-25T12:59:35.731424Z"
    }
   },
   "outputs": [],
   "source": [
    "#UnetModel = isensee2017_model(input_shape=(1,64,64,64),n_labels=1)"
   ]
  },
  {
   "cell_type": "code",
   "execution_count": 25,
   "metadata": {
    "ExecuteTime": {
     "end_time": "2018-07-25T12:59:35.778604Z",
     "start_time": "2018-07-25T12:59:35.755261Z"
    }
   },
   "outputs": [
    {
     "data": {
      "text/plain": [
       "['UnetModel-2018-07-25_00:48:12.h5',\n",
       " 'UnetModel-2018-07-25_12:25:18.h5',\n",
       " 'UnetModel_2018-07-25_14:26:40.h5',\n",
       " 'UnetModel-2018-07-22_00:48:44.h5',\n",
       " 'UnetModel-2018-07-22_01:03:07.h5',\n",
       " 'UnetModel-2018-07-25_00:09:21.h5',\n",
       " 'UnetModel-2018-07-21_23:30:08.h5',\n",
       " 'UnetModel-2018-07-22_00:46:24.h5',\n",
       " 'UnetModel-2018-07-25_11:05:23.h5',\n",
       " 'UnetModel_2018-07-25_13:05:58.h5',\n",
       " 'UnetModel_83-epochs_2018-07-25_11:03:04.h5',\n",
       " 'UnetModel-2018-07-22_00:37:11.h5',\n",
       " 'UnetModel-2018-07-22_00:43:00.h5',\n",
       " 'UnetModel-2018-07-25_00:01:26.h5',\n",
       " 'UnetModel-2018-07-22_02:28:41.h5',\n",
       " 'UnetModel-2018-07-22_00:57:57.h5',\n",
       " 'UnetModel_2018-07-25_14:26:58.h5',\n",
       " 'UnetModel_2018-07-25_14:26:30.h5']"
      ]
     },
     "execution_count": 25,
     "metadata": {},
     "output_type": "execute_result"
    }
   ],
   "source": [
    "models = [Path(m).name for m in (gb.glob(str(MODELS/'UnetModel*.h5')))]\n",
    "models"
   ]
  },
  {
   "cell_type": "code",
   "execution_count": 26,
   "metadata": {
    "ExecuteTime": {
     "end_time": "2018-07-25T12:59:45.207775Z",
     "start_time": "2018-07-25T12:59:35.779944Z"
    }
   },
   "outputs": [
    {
     "name": "stdout",
     "output_type": "stream",
     "text": [
      "Loading pre-trained model\n"
     ]
    }
   ],
   "source": [
    "#UnetModel = load_old_model(MODELS/models[-1])\n",
    "UnetModel = load_old_model(MODELS/'UnetModel_83-epochs_2018-07-25_11:03:04.h5')"
   ]
  },
  {
   "cell_type": "code",
   "execution_count": 27,
   "metadata": {
    "ExecuteTime": {
     "end_time": "2018-07-25T12:59:45.241774Z",
     "start_time": "2018-07-25T12:59:45.211489Z"
    }
   },
   "outputs": [],
   "source": [
    "training_gen = DataGen(mode=0)\n",
    "validation_gen = DataGen(mode=1)"
   ]
  },
  {
   "cell_type": "code",
   "execution_count": 614,
   "metadata": {
    "ExecuteTime": {
     "end_time": "2018-07-25T12:32:57.667286Z",
     "start_time": "2018-07-25T12:32:57.599081Z"
    }
   },
   "outputs": [],
   "source": [
    "UnetModel = train_model(UnetModel,model_file(),\n",
    "                        training_generator=training_gen,\n",
    "                        validation_generator=validation_gen,\n",
    "                        steps_per_epoch=get_number_of_steps(n_samples=len(training_gen), batch_size=1),\n",
    "                        validation_steps=get_number_of_steps(n_samples=len(validation_gen), batch_size=1),\n",
    "                        n_epochs=1\n",
    "                       )"
   ]
  },
  {
   "cell_type": "code",
   "execution_count": 401,
   "metadata": {
    "ExecuteTime": {
     "end_time": "2018-07-25T09:03:04.842079Z",
     "start_time": "2018-07-25T09:03:04.534944Z"
    }
   },
   "outputs": [],
   "source": [
    "# Save model\n",
    "t = dtime.now().strftime('%Y-%m-%d_%H:%M:%S')\n",
    "e = len(UnetModel.history.epoch)\n",
    "UnetModel.save(str(MODELS/f\"UnetModel_{e}-epochs_{t}.h5\"))"
   ]
  },
  {
   "cell_type": "code",
   "execution_count": 28,
   "metadata": {
    "ExecuteTime": {
     "end_time": "2018-07-25T12:59:48.705892Z",
     "start_time": "2018-07-25T12:59:48.657148Z"
    },
    "scrolled": false
   },
   "outputs": [
    {
     "name": "stdout",
     "output_type": "stream",
     "text": [
      "__________________________________________________________________________________________________\n",
      "Layer (type)                    Output Shape         Param #     Connected to                     \n",
      "==================================================================================================\n",
      "input_2 (InputLayer)            (None, 1, 64, 64, 64 0                                            \n",
      "__________________________________________________________________________________________________\n",
      "conv3d_31 (Conv3D)              (None, 16, 64, 64, 6 448         input_2[0][0]                    \n",
      "__________________________________________________________________________________________________\n",
      "instance_normalization_28 (Inst (None, 16, 64, 64, 6 32          conv3d_31[0][0]                  \n",
      "__________________________________________________________________________________________________\n",
      "leaky_re_lu_28 (LeakyReLU)      (None, 16, 64, 64, 6 0           instance_normalization_28[0][0]  \n",
      "__________________________________________________________________________________________________\n",
      "conv3d_32 (Conv3D)              (None, 16, 64, 64, 6 6928        leaky_re_lu_28[0][0]             \n",
      "__________________________________________________________________________________________________\n",
      "instance_normalization_29 (Inst (None, 16, 64, 64, 6 32          conv3d_32[0][0]                  \n",
      "__________________________________________________________________________________________________\n",
      "leaky_re_lu_29 (LeakyReLU)      (None, 16, 64, 64, 6 0           instance_normalization_29[0][0]  \n",
      "__________________________________________________________________________________________________\n",
      "spatial_dropout3d_6 (SpatialDro (None, 16, 64, 64, 6 0           leaky_re_lu_29[0][0]             \n",
      "__________________________________________________________________________________________________\n",
      "conv3d_33 (Conv3D)              (None, 16, 64, 64, 6 6928        spatial_dropout3d_6[0][0]        \n",
      "__________________________________________________________________________________________________\n",
      "instance_normalization_30 (Inst (None, 16, 64, 64, 6 32          conv3d_33[0][0]                  \n",
      "__________________________________________________________________________________________________\n",
      "leaky_re_lu_30 (LeakyReLU)      (None, 16, 64, 64, 6 0           instance_normalization_30[0][0]  \n",
      "__________________________________________________________________________________________________\n",
      "add_8 (Add)                     (None, 16, 64, 64, 6 0           leaky_re_lu_28[0][0]             \n",
      "                                                                 leaky_re_lu_30[0][0]             \n",
      "__________________________________________________________________________________________________\n",
      "conv3d_34 (Conv3D)              (None, 32, 32, 32, 3 13856       add_8[0][0]                      \n",
      "__________________________________________________________________________________________________\n",
      "instance_normalization_31 (Inst (None, 32, 32, 32, 3 64          conv3d_34[0][0]                  \n",
      "__________________________________________________________________________________________________\n",
      "leaky_re_lu_31 (LeakyReLU)      (None, 32, 32, 32, 3 0           instance_normalization_31[0][0]  \n",
      "__________________________________________________________________________________________________\n",
      "conv3d_35 (Conv3D)              (None, 32, 32, 32, 3 27680       leaky_re_lu_31[0][0]             \n",
      "__________________________________________________________________________________________________\n",
      "instance_normalization_32 (Inst (None, 32, 32, 32, 3 64          conv3d_35[0][0]                  \n",
      "__________________________________________________________________________________________________\n",
      "leaky_re_lu_32 (LeakyReLU)      (None, 32, 32, 32, 3 0           instance_normalization_32[0][0]  \n",
      "__________________________________________________________________________________________________\n",
      "spatial_dropout3d_7 (SpatialDro (None, 32, 32, 32, 3 0           leaky_re_lu_32[0][0]             \n",
      "__________________________________________________________________________________________________\n",
      "conv3d_36 (Conv3D)              (None, 32, 32, 32, 3 27680       spatial_dropout3d_7[0][0]        \n",
      "__________________________________________________________________________________________________\n",
      "instance_normalization_33 (Inst (None, 32, 32, 32, 3 64          conv3d_36[0][0]                  \n",
      "__________________________________________________________________________________________________\n",
      "leaky_re_lu_33 (LeakyReLU)      (None, 32, 32, 32, 3 0           instance_normalization_33[0][0]  \n",
      "__________________________________________________________________________________________________\n",
      "add_9 (Add)                     (None, 32, 32, 32, 3 0           leaky_re_lu_31[0][0]             \n",
      "                                                                 leaky_re_lu_33[0][0]             \n",
      "__________________________________________________________________________________________________\n",
      "conv3d_37 (Conv3D)              (None, 64, 16, 16, 1 55360       add_9[0][0]                      \n",
      "__________________________________________________________________________________________________\n",
      "instance_normalization_34 (Inst (None, 64, 16, 16, 1 128         conv3d_37[0][0]                  \n",
      "__________________________________________________________________________________________________\n",
      "leaky_re_lu_34 (LeakyReLU)      (None, 64, 16, 16, 1 0           instance_normalization_34[0][0]  \n",
      "__________________________________________________________________________________________________\n",
      "conv3d_38 (Conv3D)              (None, 64, 16, 16, 1 110656      leaky_re_lu_34[0][0]             \n",
      "__________________________________________________________________________________________________\n",
      "instance_normalization_35 (Inst (None, 64, 16, 16, 1 128         conv3d_38[0][0]                  \n",
      "__________________________________________________________________________________________________\n",
      "leaky_re_lu_35 (LeakyReLU)      (None, 64, 16, 16, 1 0           instance_normalization_35[0][0]  \n",
      "__________________________________________________________________________________________________\n",
      "spatial_dropout3d_8 (SpatialDro (None, 64, 16, 16, 1 0           leaky_re_lu_35[0][0]             \n",
      "__________________________________________________________________________________________________\n",
      "conv3d_39 (Conv3D)              (None, 64, 16, 16, 1 110656      spatial_dropout3d_8[0][0]        \n",
      "__________________________________________________________________________________________________\n",
      "instance_normalization_36 (Inst (None, 64, 16, 16, 1 128         conv3d_39[0][0]                  \n",
      "__________________________________________________________________________________________________\n",
      "leaky_re_lu_36 (LeakyReLU)      (None, 64, 16, 16, 1 0           instance_normalization_36[0][0]  \n",
      "__________________________________________________________________________________________________\n",
      "add_10 (Add)                    (None, 64, 16, 16, 1 0           leaky_re_lu_34[0][0]             \n",
      "                                                                 leaky_re_lu_36[0][0]             \n",
      "__________________________________________________________________________________________________\n",
      "conv3d_40 (Conv3D)              (None, 128, 8, 8, 8) 221312      add_10[0][0]                     \n",
      "__________________________________________________________________________________________________\n",
      "instance_normalization_37 (Inst (None, 128, 8, 8, 8) 256         conv3d_40[0][0]                  \n",
      "__________________________________________________________________________________________________\n",
      "leaky_re_lu_37 (LeakyReLU)      (None, 128, 8, 8, 8) 0           instance_normalization_37[0][0]  \n",
      "__________________________________________________________________________________________________\n",
      "conv3d_41 (Conv3D)              (None, 128, 8, 8, 8) 442496      leaky_re_lu_37[0][0]             \n",
      "__________________________________________________________________________________________________\n",
      "instance_normalization_38 (Inst (None, 128, 8, 8, 8) 256         conv3d_41[0][0]                  \n",
      "__________________________________________________________________________________________________\n",
      "leaky_re_lu_38 (LeakyReLU)      (None, 128, 8, 8, 8) 0           instance_normalization_38[0][0]  \n",
      "__________________________________________________________________________________________________\n",
      "spatial_dropout3d_9 (SpatialDro (None, 128, 8, 8, 8) 0           leaky_re_lu_38[0][0]             \n",
      "__________________________________________________________________________________________________\n",
      "conv3d_42 (Conv3D)              (None, 128, 8, 8, 8) 442496      spatial_dropout3d_9[0][0]        \n",
      "__________________________________________________________________________________________________\n",
      "instance_normalization_39 (Inst (None, 128, 8, 8, 8) 256         conv3d_42[0][0]                  \n",
      "__________________________________________________________________________________________________\n",
      "leaky_re_lu_39 (LeakyReLU)      (None, 128, 8, 8, 8) 0           instance_normalization_39[0][0]  \n",
      "__________________________________________________________________________________________________\n",
      "add_11 (Add)                    (None, 128, 8, 8, 8) 0           leaky_re_lu_37[0][0]             \n",
      "                                                                 leaky_re_lu_39[0][0]             \n",
      "__________________________________________________________________________________________________\n",
      "conv3d_43 (Conv3D)              (None, 256, 4, 4, 4) 884992      add_11[0][0]                     \n",
      "__________________________________________________________________________________________________\n",
      "instance_normalization_40 (Inst (None, 256, 4, 4, 4) 512         conv3d_43[0][0]                  \n",
      "__________________________________________________________________________________________________\n",
      "leaky_re_lu_40 (LeakyReLU)      (None, 256, 4, 4, 4) 0           instance_normalization_40[0][0]  \n",
      "__________________________________________________________________________________________________\n",
      "conv3d_44 (Conv3D)              (None, 256, 4, 4, 4) 1769728     leaky_re_lu_40[0][0]             \n",
      "__________________________________________________________________________________________________\n",
      "instance_normalization_41 (Inst (None, 256, 4, 4, 4) 512         conv3d_44[0][0]                  \n",
      "__________________________________________________________________________________________________\n",
      "leaky_re_lu_41 (LeakyReLU)      (None, 256, 4, 4, 4) 0           instance_normalization_41[0][0]  \n",
      "__________________________________________________________________________________________________\n",
      "spatial_dropout3d_10 (SpatialDr (None, 256, 4, 4, 4) 0           leaky_re_lu_41[0][0]             \n",
      "__________________________________________________________________________________________________\n",
      "conv3d_45 (Conv3D)              (None, 256, 4, 4, 4) 1769728     spatial_dropout3d_10[0][0]       \n",
      "__________________________________________________________________________________________________\n",
      "instance_normalization_42 (Inst (None, 256, 4, 4, 4) 512         conv3d_45[0][0]                  \n",
      "__________________________________________________________________________________________________\n",
      "leaky_re_lu_42 (LeakyReLU)      (None, 256, 4, 4, 4) 0           instance_normalization_42[0][0]  \n",
      "__________________________________________________________________________________________________\n",
      "add_12 (Add)                    (None, 256, 4, 4, 4) 0           leaky_re_lu_40[0][0]             \n",
      "                                                                 leaky_re_lu_42[0][0]             \n",
      "__________________________________________________________________________________________________\n",
      "up_sampling3d_7 (UpSampling3D)  (None, 256, 8, 8, 8) 0           add_12[0][0]                     \n",
      "__________________________________________________________________________________________________\n",
      "conv3d_46 (Conv3D)              (None, 128, 8, 8, 8) 884864      up_sampling3d_7[0][0]            \n",
      "__________________________________________________________________________________________________\n",
      "instance_normalization_43 (Inst (None, 128, 8, 8, 8) 256         conv3d_46[0][0]                  \n",
      "__________________________________________________________________________________________________\n",
      "leaky_re_lu_43 (LeakyReLU)      (None, 128, 8, 8, 8) 0           instance_normalization_43[0][0]  \n",
      "__________________________________________________________________________________________________\n",
      "concatenate_5 (Concatenate)     (None, 256, 8, 8, 8) 0           add_11[0][0]                     \n",
      "                                                                 leaky_re_lu_43[0][0]             \n",
      "__________________________________________________________________________________________________\n",
      "conv3d_47 (Conv3D)              (None, 128, 8, 8, 8) 884864      concatenate_5[0][0]              \n",
      "__________________________________________________________________________________________________\n",
      "instance_normalization_44 (Inst (None, 128, 8, 8, 8) 256         conv3d_47[0][0]                  \n",
      "__________________________________________________________________________________________________\n",
      "leaky_re_lu_44 (LeakyReLU)      (None, 128, 8, 8, 8) 0           instance_normalization_44[0][0]  \n",
      "__________________________________________________________________________________________________\n",
      "conv3d_48 (Conv3D)              (None, 128, 8, 8, 8) 16512       leaky_re_lu_44[0][0]             \n",
      "__________________________________________________________________________________________________\n",
      "instance_normalization_45 (Inst (None, 128, 8, 8, 8) 256         conv3d_48[0][0]                  \n",
      "__________________________________________________________________________________________________\n",
      "leaky_re_lu_45 (LeakyReLU)      (None, 128, 8, 8, 8) 0           instance_normalization_45[0][0]  \n",
      "__________________________________________________________________________________________________\n",
      "up_sampling3d_8 (UpSampling3D)  (None, 128, 16, 16,  0           leaky_re_lu_45[0][0]             \n",
      "__________________________________________________________________________________________________\n",
      "conv3d_49 (Conv3D)              (None, 64, 16, 16, 1 221248      up_sampling3d_8[0][0]            \n",
      "__________________________________________________________________________________________________\n",
      "instance_normalization_46 (Inst (None, 64, 16, 16, 1 128         conv3d_49[0][0]                  \n",
      "__________________________________________________________________________________________________\n",
      "leaky_re_lu_46 (LeakyReLU)      (None, 64, 16, 16, 1 0           instance_normalization_46[0][0]  \n",
      "__________________________________________________________________________________________________\n",
      "concatenate_6 (Concatenate)     (None, 128, 16, 16,  0           add_10[0][0]                     \n",
      "                                                                 leaky_re_lu_46[0][0]             \n",
      "__________________________________________________________________________________________________\n",
      "conv3d_50 (Conv3D)              (None, 64, 16, 16, 1 221248      concatenate_6[0][0]              \n",
      "__________________________________________________________________________________________________\n",
      "instance_normalization_47 (Inst (None, 64, 16, 16, 1 128         conv3d_50[0][0]                  \n",
      "__________________________________________________________________________________________________\n",
      "leaky_re_lu_47 (LeakyReLU)      (None, 64, 16, 16, 1 0           instance_normalization_47[0][0]  \n",
      "__________________________________________________________________________________________________\n",
      "conv3d_51 (Conv3D)              (None, 64, 16, 16, 1 4160        leaky_re_lu_47[0][0]             \n",
      "__________________________________________________________________________________________________\n",
      "instance_normalization_48 (Inst (None, 64, 16, 16, 1 128         conv3d_51[0][0]                  \n",
      "__________________________________________________________________________________________________\n",
      "leaky_re_lu_48 (LeakyReLU)      (None, 64, 16, 16, 1 0           instance_normalization_48[0][0]  \n",
      "__________________________________________________________________________________________________\n",
      "up_sampling3d_9 (UpSampling3D)  (None, 64, 32, 32, 3 0           leaky_re_lu_48[0][0]             \n",
      "__________________________________________________________________________________________________\n",
      "conv3d_53 (Conv3D)              (None, 32, 32, 32, 3 55328       up_sampling3d_9[0][0]            \n",
      "__________________________________________________________________________________________________\n",
      "instance_normalization_49 (Inst (None, 32, 32, 32, 3 64          conv3d_53[0][0]                  \n",
      "__________________________________________________________________________________________________\n",
      "leaky_re_lu_49 (LeakyReLU)      (None, 32, 32, 32, 3 0           instance_normalization_49[0][0]  \n",
      "__________________________________________________________________________________________________\n",
      "concatenate_7 (Concatenate)     (None, 64, 32, 32, 3 0           add_9[0][0]                      \n",
      "                                                                 leaky_re_lu_49[0][0]             \n",
      "__________________________________________________________________________________________________\n",
      "conv3d_54 (Conv3D)              (None, 32, 32, 32, 3 55328       concatenate_7[0][0]              \n",
      "__________________________________________________________________________________________________\n",
      "instance_normalization_50 (Inst (None, 32, 32, 32, 3 64          conv3d_54[0][0]                  \n",
      "__________________________________________________________________________________________________\n",
      "leaky_re_lu_50 (LeakyReLU)      (None, 32, 32, 32, 3 0           instance_normalization_50[0][0]  \n",
      "__________________________________________________________________________________________________\n",
      "conv3d_55 (Conv3D)              (None, 32, 32, 32, 3 1056        leaky_re_lu_50[0][0]             \n",
      "__________________________________________________________________________________________________\n",
      "instance_normalization_51 (Inst (None, 32, 32, 32, 3 64          conv3d_55[0][0]                  \n",
      "__________________________________________________________________________________________________\n",
      "leaky_re_lu_51 (LeakyReLU)      (None, 32, 32, 32, 3 0           instance_normalization_51[0][0]  \n",
      "__________________________________________________________________________________________________\n",
      "up_sampling3d_10 (UpSampling3D) (None, 32, 64, 64, 6 0           leaky_re_lu_51[0][0]             \n",
      "__________________________________________________________________________________________________\n",
      "conv3d_57 (Conv3D)              (None, 16, 64, 64, 6 13840       up_sampling3d_10[0][0]           \n",
      "__________________________________________________________________________________________________\n",
      "instance_normalization_52 (Inst (None, 16, 64, 64, 6 32          conv3d_57[0][0]                  \n",
      "__________________________________________________________________________________________________\n",
      "leaky_re_lu_52 (LeakyReLU)      (None, 16, 64, 64, 6 0           instance_normalization_52[0][0]  \n",
      "__________________________________________________________________________________________________\n",
      "concatenate_8 (Concatenate)     (None, 32, 64, 64, 6 0           add_8[0][0]                      \n",
      "                                                                 leaky_re_lu_52[0][0]             \n",
      "__________________________________________________________________________________________________\n",
      "conv3d_58 (Conv3D)              (None, 16, 64, 64, 6 13840       concatenate_8[0][0]              \n",
      "__________________________________________________________________________________________________\n",
      "instance_normalization_53 (Inst (None, 16, 64, 64, 6 32          conv3d_58[0][0]                  \n",
      "__________________________________________________________________________________________________\n",
      "leaky_re_lu_53 (LeakyReLU)      (None, 16, 64, 64, 6 0           instance_normalization_53[0][0]  \n",
      "__________________________________________________________________________________________________\n",
      "conv3d_52 (Conv3D)              (None, 1, 16, 16, 16 65          leaky_re_lu_48[0][0]             \n",
      "__________________________________________________________________________________________________\n",
      "conv3d_59 (Conv3D)              (None, 16, 64, 64, 6 272         leaky_re_lu_53[0][0]             \n",
      "__________________________________________________________________________________________________\n",
      "up_sampling3d_11 (UpSampling3D) (None, 1, 32, 32, 32 0           conv3d_52[0][0]                  \n",
      "__________________________________________________________________________________________________\n",
      "conv3d_56 (Conv3D)              (None, 1, 32, 32, 32 33          leaky_re_lu_51[0][0]             \n",
      "__________________________________________________________________________________________________\n",
      "instance_normalization_54 (Inst (None, 16, 64, 64, 6 32          conv3d_59[0][0]                  \n",
      "__________________________________________________________________________________________________\n",
      "add_13 (Add)                    (None, 1, 32, 32, 32 0           up_sampling3d_11[0][0]           \n",
      "                                                                 conv3d_56[0][0]                  \n",
      "__________________________________________________________________________________________________\n",
      "leaky_re_lu_54 (LeakyReLU)      (None, 16, 64, 64, 6 0           instance_normalization_54[0][0]  \n",
      "__________________________________________________________________________________________________\n",
      "up_sampling3d_12 (UpSampling3D) (None, 1, 64, 64, 64 0           add_13[0][0]                     \n",
      "__________________________________________________________________________________________________\n",
      "conv3d_60 (Conv3D)              (None, 1, 64, 64, 64 17          leaky_re_lu_54[0][0]             \n",
      "__________________________________________________________________________________________________\n",
      "add_14 (Add)                    (None, 1, 64, 64, 64 0           up_sampling3d_12[0][0]           \n",
      "                                                                 conv3d_60[0][0]                  \n",
      "__________________________________________________________________________________________________\n",
      "activation_2 (Activation)       (None, 1, 64, 64, 64 0           add_14[0][0]                     \n",
      "==================================================================================================\n",
      "Total params: 8,268,035\n",
      "Trainable params: 8,268,035\n",
      "Non-trainable params: 0\n",
      "__________________________________________________________________________________________________\n"
     ]
    }
   ],
   "source": [
    "UnetModel.summary()"
   ]
  },
  {
   "cell_type": "code",
   "execution_count": null,
   "metadata": {},
   "outputs": [],
   "source": []
  }
 ],
 "metadata": {
  "kernelspec": {
   "display_name": "fast",
   "language": "python",
   "name": "fast"
  },
  "language_info": {
   "codemirror_mode": {
    "name": "ipython",
    "version": 3
   },
   "file_extension": ".py",
   "mimetype": "text/x-python",
   "name": "python",
   "nbconvert_exporter": "python",
   "pygments_lexer": "ipython3",
   "version": "3.6.5"
  }
 },
 "nbformat": 4,
 "nbformat_minor": 2
}
