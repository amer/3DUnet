{
 "cells": [
  {
   "cell_type": "code",
   "execution_count": 1,
   "metadata": {
    "ExecuteTime": {
     "end_time": "2018-08-08T15:49:18.146886Z",
     "start_time": "2018-08-08T15:49:16.644715Z"
    }
   },
   "outputs": [
    {
     "name": "stderr",
     "output_type": "stream",
     "text": [
      "/home/amer/anaconda3/envs/fast/lib/python3.6/importlib/_bootstrap.py:219: RuntimeWarning: numpy.dtype size changed, may indicate binary incompatibility. Expected 96, got 88\n",
      "  return f(*args, **kwds)\n"
     ]
    },
    {
     "data": {
      "text/html": [
       "<script>requirejs.config({paths: { 'plotly': ['https://cdn.plot.ly/plotly-latest.min']},});if(!window.Plotly) {{require(['plotly'],function(plotly) {window.Plotly=plotly;});}}</script>"
      ],
      "text/vnd.plotly.v1+html": [
       "<script>requirejs.config({paths: { 'plotly': ['https://cdn.plot.ly/plotly-latest.min']},});if(!window.Plotly) {{require(['plotly'],function(plotly) {window.Plotly=plotly;});}}</script>"
      ]
     },
     "metadata": {},
     "output_type": "display_data"
    },
    {
     "name": "stderr",
     "output_type": "stream",
     "text": [
      "Using TensorFlow backend.\n"
     ]
    }
   ],
   "source": [
    "%matplotlib inline\n",
    "%reload_ext autoreload\n",
    "%autoreload 2\n",
    "\n",
    "from IPython.display import HTML\n",
    "from IPython.display import FileLink, FileLinks\n",
    "import multiprocessing, logging\n",
    "mpl = multiprocessing.log_to_stderr()\n",
    "mpl.setLevel(logging.INFO)\n",
    "\n",
    "import os\n",
    "import sys\n",
    "import glob as gb\n",
    "import re\n",
    "from datetime import datetime as dtime\n",
    "from pathlib import Path\n",
    "from itertools import repeat\n",
    "import pickle\n",
    "from concurrent.futures import ThreadPoolExecutor\n",
    "\n",
    "import random\n",
    "\n",
    "import numpy as np\n",
    "import pandas as pd\n",
    "\n",
    "from PIL import Image\n",
    "import imageio\n",
    "\n",
    "from sklearn.preprocessing import MinMaxScaler\n",
    "from sklearn.preprocessing import scale\n",
    "\n",
    "from mlxtend.preprocessing import minmax_scaling\n",
    "\n",
    "from numba import jit\n",
    "\n",
    "\n",
    "import matplotlib\n",
    "import matplotlib.pyplot as plt\n",
    "import matplotlib.style\n",
    "import matplotlib as mpl\n",
    "import matplotlib.image as mpimg\n",
    "from matplotlib import cm\n",
    "from matplotlib.pyplot import savefig\n",
    "import matplotlib.animation as animation\n",
    "mpl.style.use('classic')\n",
    "\n",
    "import pydicom as dcm\n",
    "import pylab\n",
    "\n",
    "from __future__ import print_function\n",
    "from ipywidgets import interact, interactive, fixed, interact_manual, Layout\n",
    "import ipywidgets as widgets\n",
    "\n",
    "\n",
    "# from fastai.conv_learner import *\n",
    "# from fastai.dataset import *\n",
    "# from fastai.models.resnet import vgg_resnet50\n",
    "\n",
    "from pathlib import Path\n",
    "import json\n",
    "# torch.cuda.set_device(0)\n",
    "# torch.backends.cudnn.benchmark=True\n",
    "\n",
    "from numba import cuda\n",
    "\n",
    "import getpass\n",
    "import os\n",
    "\n",
    "from plotly.offline import download_plotlyjs, init_notebook_mode, plot, iplot\n",
    "import plotly.graph_objs as go\n",
    "\n",
    "init_notebook_mode(True)\n",
    "\n",
    "import keras\n",
    "from keras.utils.data_utils import Sequence\n",
    "from keras.callbacks import TensorBoard\n",
    "from keras.models import load_model\n",
    "\n",
    "import tensorflow as tf\n",
    "\n",
    "\n",
    "from sklearn import preprocessing\n",
    "import matplotlib.animation as animation\n",
    "\n",
    "# See https://stackoverflow.com/questions/14722540/smoothing-between-pixels-of-imagesc-imshow-in-matlab-like-the-matplotlib-imshow\n",
    "mpl.rcParams['image.interpolation'] = 'none' # default 'bilinear'\n",
    "\n",
    "layout=Layout(width='90%') # For ipywidgets\n",
    "\n",
    "plt.rcParams['figure.figsize']= [7.0, 7.0]\n",
    "\n",
    "#import ipdb; ipdb.set_trace()"
   ]
  },
  {
   "cell_type": "code",
   "execution_count": 2,
   "metadata": {
    "ExecuteTime": {
     "end_time": "2018-08-08T15:49:18.410000Z",
     "start_time": "2018-08-08T15:49:18.148232Z"
    }
   },
   "outputs": [],
   "source": [
    "from unet3d import *\n",
    "from unet3d.utils.patches import *\n",
    "from unet3d.metrics import *\n",
    "from unet3d.model import *\n",
    "from unet3d.generator import *\n",
    "from unet3d.training import *\n",
    "from unet3d.augment import *\n",
    "from brats.preprocess import *"
   ]
  },
  {
   "cell_type": "code",
   "execution_count": 156,
   "metadata": {
    "ExecuteTime": {
     "end_time": "2018-08-08T17:32:43.134687Z",
     "start_time": "2018-08-08T17:32:43.092124Z"
    }
   },
   "outputs": [],
   "source": [
    "# Pathes\n",
    "HOME = Path.home()\n",
    "\n",
    "DATA = HOME / 'data/aneurysm'\n",
    "PATH = DATA\n",
    "\n",
    "#BIGDISK = DATA / 'bigdisk'\n",
    "BIGDISK = Path('/media/amer/BigDisk/')\n",
    "BIGDISK.mkdir(exist_ok=True)\n",
    "\n",
    "TEST_DCM = BIGDISK / 'some_fixed_files/256Test/'\n",
    "TEST_DCM_MASK = BIGDISK / 'some_fixed_files/256Test.mask/'\n",
    "\n",
    "TEST_PRO = BIGDISK / 'some_fixed_files/256Test.processed/'\n",
    "TEST_PRO.mkdir(exist_ok=True)\n",
    "\n",
    "TESTDATA_PREDICTIONS = BIGDISK / 'testdata_predictions'\n",
    "TESTDATA_PREDICTIONS.mkdir(exist_ok=True)\n",
    "\n",
    "CT_DCM = DATA / 'ct-512'\n",
    "MASK_DCM = DATA / 'mask-512'\n",
    "\n",
    "PATCHES = BIGDISK/'Processed_data'\n",
    "PATCHES.mkdir(exist_ok=True)\n",
    "\n",
    "GRAPHS = DATA/'Graphs'\n",
    "GRAPHS.mkdir(exist_ok=True)\n",
    "\n",
    "MODELS = PATH/'models'\n",
    "MODELS.mkdir(exist_ok=True)\n",
    "\n",
    "TMP = DATA / 'tmp'"
   ]
  },
  {
   "cell_type": "code",
   "execution_count": 4,
   "metadata": {
    "ExecuteTime": {
     "end_time": "2018-08-08T15:49:18.453677Z",
     "start_time": "2018-08-08T15:49:18.435064Z"
    }
   },
   "outputs": [],
   "source": [
    "ct_dcms = np.array(sorted(list(CT_DCM.iterdir())))\n",
    "mask_dcms = np.array(sorted(list(MASK_DCM.iterdir())))"
   ]
  },
  {
   "cell_type": "code",
   "execution_count": 5,
   "metadata": {
    "ExecuteTime": {
     "end_time": "2018-08-08T15:49:18.476522Z",
     "start_time": "2018-08-08T15:49:18.454923Z"
    }
   },
   "outputs": [],
   "source": [
    "def dicom_shape(path):\n",
    "    name = path.stem\n",
    "    pixel_array = dcm.read_file(str(path)).pixel_array\n",
    "    return name,np.shape(pixel_array),pixel_array\n",
    "\n",
    "def first_nonempty_slice_index(tensor):\n",
    "    last = np.shape(tensor)[0]\n",
    "    for i in range(0,last):\n",
    "        max_val = np.max(tensor[i])\n",
    "        if max_val > 0:\n",
    "            return i\n",
    "        \n",
    "def last_nonempty_slice_index(tensor):\n",
    "    last = np.shape(tensor)[0]\n",
    "    for i in range(0,last)[::-1]:\n",
    "        max_val = np.max(tensor[i])\n",
    "        if max_val > 0:\n",
    "            return i\n",
    "\n",
    "def imshow(pixel_array):\n",
    "    pixel_array[pixel_array > 0] = 255\n",
    "    pixel_array = pixel_array.astype(np.uint8)\n",
    "    return Image.fromarray(pixel_array)\n",
    "\n",
    "def mask_dcm_to_png(path,target_dir,size=False):\n",
    "    name = path.stem\n",
    "    pixel_array = dcm.read_file(str(path)).pixel_array[:-2] # remove the last to layers\n",
    "    layers = np.shape(pixel_array)[0]\n",
    "    if size:\n",
    "        for i in range(layers):\n",
    "            clean_mask(pixel_array[i]).resize(size).save(str(target_dir/f\"{name}_{i}.png\"))\n",
    "    else:\n",
    "        for i in range(layers):\n",
    "            clean_mask(pixel_array[i]).save(str(target_dir/f\"{name}_{i}.png\"))\n",
    "    print(f\"{name}\",end=\", \")\n",
    "    \n",
    "def ct_dcm_to_png(path,target_dir,size=False):\n",
    "    name = path.stem\n",
    "    pixel_array = dcm.read_file(str(path)).pixel_array[:-2] # remove the last to layers\n",
    "    layers = np.shape(pixel_array)[0]\n",
    "    if size:\n",
    "        for i in range(layers):\n",
    "            Image.fromarray(pixel_array[i]).resize(size).save(str(target_dir/f\"{name}_{i}.png\"))\n",
    "    else:\n",
    "        for i in range(layers):\n",
    "            Image.fromarray(pixel_array[i]).save(str(target_dir/f\"{name}_{i}.png\"))\n",
    "    print(f\"{name}\",end=\", \")\n",
    "    \n",
    "def get_ct_by_index(index):\n",
    "    return dcm.read_file(str(ct_dcms[index])).pixel_array\n",
    "\n",
    "def get_mask_by_index(index):\n",
    "    pa = dcm.read_file(str(mask_dcms[index])).pixel_array.copy()\n",
    "    pa[pa > 0] = 1\n",
    "    return pa\n",
    "\n",
    "def chance(probability):\n",
    "    return random.random() < probability"
   ]
  },
  {
   "cell_type": "code",
   "execution_count": 6,
   "metadata": {
    "ExecuteTime": {
     "end_time": "2018-08-08T15:49:18.515025Z",
     "start_time": "2018-08-08T15:49:18.477698Z"
    }
   },
   "outputs": [],
   "source": [
    "@jit\n",
    "def get_patch_from_3d_data(data, patch_shape, patch_index):\n",
    "    \"\"\"\n",
    "    Returns a patch from a numpy array.\n",
    "    :param data: numpy array from which to get the patch.\n",
    "    :param patch_shape: shape/size of the patch.\n",
    "    :param patch_index: corner index of the patch.\n",
    "    :return: numpy array take from the data with the patch shape specified.\n",
    "    \"\"\"\n",
    "    patch_index = np.asarray(patch_index, dtype=np.int16)\n",
    "    patch_shape = np.asarray(patch_shape)\n",
    "    image_shape = data.shape[-3:]\n",
    "    if np.any(patch_index < 0) or np.any((patch_index + patch_shape) > image_shape):\n",
    "        data, patch_index = fix_out_of_bound_patch_attempt(data, patch_shape, patch_index)\n",
    "    return data[..., patch_index[0]:patch_index[0]+patch_shape[0], patch_index[1]:patch_index[1]+patch_shape[1],\n",
    "                patch_index[2]:patch_index[2]+patch_shape[2]]\n",
    "@jit\n",
    "def fix_data_shape(data, patch_shape, patch_index):\n",
    "    if np.any(patch_index < 0) or np.any((patch_index + patch_shape) > image_shape):\n",
    "        data, patch_index = fix_out_of_bound_patch_attempt(data, patch_shape, patch_index)\n",
    "        return data\n",
    "\n",
    "@jit\n",
    "def fix_out_of_bound_patch_attempt(data, patch_shape, patch_index, ndim=3):\n",
    "    \"\"\"\n",
    "    Pads the data and alters the patch index so that a patch will be correct.\n",
    "    :param data:\n",
    "    :param patch_shape:\n",
    "    :param patch_index:\n",
    "    :return: padded data, fixed patch index\n",
    "    \"\"\"\n",
    "    image_shape = data.shape[-ndim:]\n",
    "    pad_before = np.abs((patch_index < 0) * patch_index)\n",
    "    pad_after = np.abs(((patch_index + patch_shape) > image_shape) * ((patch_index + patch_shape) - image_shape))\n",
    "    pad_args = np.stack([pad_before, pad_after], axis=1)\n",
    "    if pad_args.shape[0] < len(data.shape):\n",
    "        pad_args = [[0, 0]] * (len(data.shape) - pad_args.shape[0]) + pad_args.tolist()\n",
    "    data = np.pad(data, pad_args, mode=\"edge\")\n",
    "    patch_index += pad_before\n",
    "    return data, patch_index"
   ]
  },
  {
   "cell_type": "code",
   "execution_count": 7,
   "metadata": {
    "ExecuteTime": {
     "end_time": "2018-08-08T15:49:18.535247Z",
     "start_time": "2018-08-08T15:49:18.516520Z"
    },
    "code_folding": []
   },
   "outputs": [],
   "source": [
    "# a = np.ones((512, 512, 512))\n",
    "\n",
    "# def pad_data(data):\n",
    "#     d = data.shape[0]\n",
    "#     m = (d%64)\n",
    "#     print(m)\n",
    "#     return np.pad(a, pad_width=((0, m),(0,0),(0,0)), mode='edge')\n",
    "\n",
    "# print(pad_data(a).shape)"
   ]
  },
  {
   "cell_type": "code",
   "execution_count": 8,
   "metadata": {
    "ExecuteTime": {
     "end_time": "2018-08-08T15:49:25.476996Z",
     "start_time": "2018-08-08T15:49:19.188254Z"
    },
    "scrolled": false
   },
   "outputs": [
    {
     "name": "stdout",
     "output_type": "stream",
     "text": [
      "800\n"
     ]
    },
    {
     "data": {
      "application/vnd.jupyter.widget-view+json": {
       "model_id": "5af008360c234798a232b9dd0eed5b51",
       "version_major": 2,
       "version_minor": 0
      },
      "text/plain": [
       "interactive(children=(IntSlider(value=63, description='layer_num', layout=Layout(width='90%'), max=63), IntSli…"
      ]
     },
     "metadata": {},
     "output_type": "display_data"
    }
   ],
   "source": [
    "patient = 1 # 1\n",
    "\n",
    "ct = get_ct_by_index(patient)\n",
    "mask = get_mask_by_index(patient)\n",
    "\n",
    "image_shape = np.shape(ct)\n",
    "patch_shape = (64,64,64)\n",
    "\n",
    "overlap = 8\n",
    "\n",
    "patch_indices = compute_patch_indices(image_shape, patch_shape, overlap, start=None)\n",
    "\n",
    "print(len(patch_indices))\n",
    "\n",
    "def dshow():\n",
    "    ct_patch = get_patch_from_3d_data(ct, patch_shape, patch_indices[0])\n",
    "    mask_patch = get_patch_from_3d_data(mask, patch_shape, patch_indices[0])\n",
    "    def show_layer(layer_num,patch_num):\n",
    "        ct_patch = get_patch_from_3d_data(ct, patch_shape, patch_indices[patch_num])\n",
    "        c = ct_patch\n",
    "        mask_patch = get_patch_from_3d_data(mask, patch_shape, patch_indices[patch_num])\n",
    "        ct_patch = np.array(ct_patch,dtype=np.float32)\n",
    "        output_image = sitk.GetImageFromArray(ct_patch,)\n",
    "        output_image = sitk.N4BiasFieldCorrection(output_image, output_image > 0)\n",
    "        ct_patch = sitk.GetArrayFromImage(output_image)\n",
    "        \n",
    "        f = plt.figure(figsize=(20,10))\n",
    "        f.add_subplot(1,2, 1)\n",
    "        pylab.imshow(ct_patch[layer_num])\n",
    "        #print(np.unique(ct_patch[layer_num]))\n",
    "        f.add_subplot(1,2, 2)\n",
    "        pylab.imshow(c[layer_num])\n",
    "        #print(np.unique(c[layer_num]))\n",
    "        plt.show(block=True)\n",
    "    \n",
    "    interact(show_layer,\n",
    "             patch_num=widgets.IntSlider(min=0,max=len(patch_indices)-1,step=1,layout=layout,value=150),\n",
    "             layer_num=widgets.IntSlider(min=0,max=len(ct_patch)-1,step=1,layout=layout,value=63)\n",
    "            )\n",
    "\n",
    "dshow()"
   ]
  },
  {
   "cell_type": "code",
   "execution_count": 9,
   "metadata": {
    "ExecuteTime": {
     "end_time": "2018-08-08T15:49:25.820040Z",
     "start_time": "2018-08-08T15:49:25.478653Z"
    },
    "scrolled": false
   },
   "outputs": [
    {
     "data": {
      "text/plain": [
       "<matplotlib.image.AxesImage at 0x7fb470c77518>"
      ]
     },
     "execution_count": 9,
     "metadata": {},
     "output_type": "execute_result"
    },
    {
     "data": {
      "image/png": "[encoded data removed]",
      "text/plain": [
       "<Figure size 432x288 with 1 Axes>"
      ]
     },
     "metadata": {},
     "output_type": "display_data"
    }
   ],
   "source": [
    "#plt.imshow(get_mask_by_index(1)[19])\n",
    "plt.imshow(get_ct_by_index(1)[19])"
   ]
  },
  {
   "cell_type": "code",
   "execution_count": 10,
   "metadata": {
    "ExecuteTime": {
     "end_time": "2018-08-08T15:49:27.778537Z",
     "start_time": "2018-08-08T15:49:25.821216Z"
    }
   },
   "outputs": [
    {
     "data": {
      "application/vnd.jupyter.widget-view+json": {
       "model_id": "20b979d915e4441b87cf00653a2e4f4c",
       "version_major": 2,
       "version_minor": 0
      },
      "text/plain": [
       "interactive(children=(IntSlider(value=63, description='layer_num', layout=Layout(width='90%'), max=63), IntSli…"
      ]
     },
     "metadata": {},
     "output_type": "display_data"
    }
   ],
   "source": [
    "patient = 1 # 1\n",
    "\n",
    "ct = get_ct_by_index(patient)\n",
    "mask = get_mask_by_index(patient)\n",
    "\n",
    "image_shape = np.shape(ct)\n",
    "patch_shape = (64,64,64)\n",
    "\n",
    "overlap = 0\n",
    "\n",
    "patch_indices = compute_patch_indices(image_shape, patch_shape, overlap, start=None)\n",
    "\n",
    "def dshow():\n",
    "    ct_patch = get_patch_from_3d_data(ct, patch_shape, patch_indices[0])\n",
    "    mask_patch = get_patch_from_3d_data(mask, patch_shape, patch_indices[0])\n",
    "    @jit\n",
    "    def show_layer(layer_num,patch_num):\n",
    "        ct_patch = get_patch_from_3d_data(ct, patch_shape, patch_indices[patch_num])\n",
    "        mask_patch = get_patch_from_3d_data(mask, patch_shape, patch_indices[patch_num])\n",
    "        \n",
    "        f = plt.figure(figsize=(20,10))\n",
    "        f.add_subplot(1,2, 1)\n",
    "        pylab.imshow(ct_patch[layer_num])\n",
    "        #print(np.unique(ct_patch[layer_num]))\n",
    "        f.add_subplot(1,2, 2)\n",
    "        pylab.imshow(mask_patch[layer_num])\n",
    "        #print(np.unique(mask_patch[layer_num]))\n",
    "        plt.show(block=True)\n",
    "    \n",
    "    interact(show_layer,\n",
    "             patch_num=widgets.IntSlider(min=0,max=len(patch_indices)-1,step=1,layout=layout,value=150),\n",
    "             layer_num=widgets.IntSlider(min=0,max=len(ct_patch)-1,step=1,layout=layout,value=63)\n",
    "            )\n",
    "\n",
    "dshow()"
   ]
  },
  {
   "cell_type": "code",
   "execution_count": 11,
   "metadata": {
    "ExecuteTime": {
     "end_time": "2018-08-08T15:49:29.367088Z",
     "start_time": "2018-08-08T15:49:27.780190Z"
    },
    "scrolled": false
   },
   "outputs": [
    {
     "data": {
      "application/vnd.jupyter.widget-view+json": {
       "model_id": "d3d1d1227f584f4db75d0b210003c433",
       "version_major": 2,
       "version_minor": 0
      },
      "text/plain": [
       "interactive(children=(IntSlider(value=63, description='layer_num', layout=Layout(width='90%'), max=63), IntSli…"
      ]
     },
     "metadata": {},
     "output_type": "display_data"
    }
   ],
   "source": [
    "patient = 1 # 1\n",
    "\n",
    "ct = get_ct_by_index(patient)\n",
    "mask = get_mask_by_index(patient)\n",
    "\n",
    "image_shape = np.shape(ct)\n",
    "patch_shape = (64,64,64)\n",
    "\n",
    "overlap = 0\n",
    "\n",
    "patch_indices = compute_patch_indices(image_shape, patch_shape, overlap, start=None)\n",
    "\n",
    "def dshow():\n",
    "    ct_patch = get_patch_from_3d_data(ct, patch_shape, patch_indices[0])\n",
    "    mask_patch = get_patch_from_3d_data(mask, patch_shape, patch_indices[0])\n",
    "    def show_layer(layer_num,patch_num):\n",
    "        ct_patch = get_patch_from_3d_data(ct, patch_shape, patch_indices[patch_num])\n",
    "        mask_patch = get_patch_from_3d_data(mask, patch_shape, patch_indices[patch_num])\n",
    "        \n",
    "        ct_patch = ct_patch/np.linalg.norm(ct_patch, ord=2,axis=-1,keepdims=1)\n",
    "        \n",
    "        f = plt.figure(figsize=(20,10))\n",
    "        f.add_subplot(1,2, 1)\n",
    "        normalized_X = preprocessing.normalize(get_patch_from_3d_data(ct, patch_shape, patch_indices[patch_num])[layer_num])\n",
    "        pylab.imshow(normalized_X)\n",
    "        print(normalized_X.dtype)\n",
    "        print(np.unique(normalized_X))\n",
    "        f.add_subplot(1,2, 2)\n",
    "        X = ct_patch[layer_num]\n",
    "        pylab.imshow(X)\n",
    "        print(X.dtype)\n",
    "        print(np.unique(X))\n",
    "        plt.show(block=True)\n",
    "    \n",
    "    interact(show_layer,\n",
    "             patch_num=widgets.IntSlider(min=0,max=len(patch_indices)-1,step=1,layout=layout,value=150),\n",
    "             layer_num=widgets.IntSlider(min=0,max=len(ct_patch)-1,step=1,layout=layout,value=63)\n",
    "            )\n",
    "\n",
    "dshow()"
   ]
  },
  {
   "cell_type": "code",
   "execution_count": 12,
   "metadata": {
    "ExecuteTime": {
     "end_time": "2018-08-08T15:49:34.711075Z",
     "start_time": "2018-08-08T15:49:29.368653Z"
    },
    "scrolled": false
   },
   "outputs": [
    {
     "data": {
      "application/vnd.jupyter.widget-view+json": {
       "model_id": "2564713e3d7f4e26a2d57f2fd3832c21",
       "version_major": 2,
       "version_minor": 0
      },
      "text/plain": [
       "interactive(children=(IntSlider(value=63, description='layer_num', layout=Layout(width='90%'), max=63), IntSli…"
      ]
     },
     "metadata": {},
     "output_type": "display_data"
    }
   ],
   "source": [
    "patient = 1 # 1\n",
    "\n",
    "ct = get_ct_by_index(patient)\n",
    "mask = get_mask_by_index(patient)\n",
    "\n",
    "image_shape = np.shape(ct)\n",
    "patch_shape = (64,64,64)\n",
    "\n",
    "overlap = 0\n",
    "\n",
    "patch_indices = compute_patch_indices(image_shape, patch_shape, overlap, start=None)\n",
    "\n",
    "def dshow():\n",
    "    ct_patch = get_patch_from_3d_data(ct, patch_shape, patch_indices[0])\n",
    "    mask_patch = get_patch_from_3d_data(mask, patch_shape, patch_indices[0])\n",
    "    @jit\n",
    "    def show_layer(layer_num,patch_num):\n",
    "        ct_patch = get_patch_from_3d_data(ct, patch_shape, patch_indices[patch_num])\n",
    "        c = ct_patch\n",
    "        mask_patch = get_patch_from_3d_data(mask, patch_shape, patch_indices[patch_num])\n",
    "        ct_patch = np.array(ct_patch,dtype=np.float32)\n",
    "        output_image = sitk.GetImageFromArray(ct_patch,)\n",
    "        output_image = sitk.N4BiasFieldCorrection(output_image, output_image > 0)\n",
    "        ct_patch = sitk.GetArrayFromImage(output_image)\n",
    "        \n",
    "        f = plt.figure(figsize=(20,10))\n",
    "        f.add_subplot(1,2, 1)\n",
    "        pylab.imshow(ct_patch[layer_num])\n",
    "        print(np.unique(ct_patch[layer_num]))\n",
    "        f.add_subplot(1,2, 2)\n",
    "        pylab.imshow(c[layer_num])\n",
    "        print(np.unique(c[layer_num]))\n",
    "        plt.show(block=True)\n",
    "    \n",
    "    interact(show_layer,\n",
    "             patch_num=widgets.IntSlider(min=0,max=len(patch_indices)-1,step=1,layout=layout,value=150),\n",
    "             layer_num=widgets.IntSlider(min=0,max=len(ct_patch)-1,step=1,layout=layout,value=63)\n",
    "            )\n",
    "\n",
    "dshow()"
   ]
  },
  {
   "cell_type": "code",
   "execution_count": 14,
   "metadata": {
    "ExecuteTime": {
     "end_time": "2018-08-08T15:49:39.140954Z",
     "start_time": "2018-08-08T15:49:35.322988Z"
    }
   },
   "outputs": [],
   "source": [
    "tbCallBack = keras.callbacks.TensorBoard(log_dir='./logs',\n",
    "                                         histogram_freq=0,\n",
    "                                         write_graph=True,\n",
    "                                         write_images=True)"
   ]
  },
  {
   "cell_type": "code",
   "execution_count": 15,
   "metadata": {
    "ExecuteTime": {
     "end_time": "2018-08-08T15:49:39.168044Z",
     "start_time": "2018-08-08T15:49:39.142576Z"
    }
   },
   "outputs": [],
   "source": [
    "def train_model(model, model_file, training_generator, validation_generator, steps_per_epoch, validation_steps,\n",
    "                initial_learning_rate=0.001, learning_rate_drop=0.5, learning_rate_epochs=None, n_epochs=100,\n",
    "                learning_rate_patience=20, early_stopping_patience=None):\n",
    "    \"\"\"\n",
    "    Train a Keras model.\n",
    "    :param early_stopping_patience: If set, training will end early if the validation loss does not improve after the\n",
    "    specified number of epochs.\n",
    "    :param learning_rate_patience: If learning_rate_epochs is not set, the learning rate will decrease if the validation\n",
    "    loss does not improve after the specified number of epochs. (default is 20)\n",
    "    :param model: Keras model that will be trained.\n",
    "    :param model_file: Where to save the Keras model.\n",
    "    :param training_generator: Generator that iterates through the training data.\n",
    "    :param validation_generator: Generator that iterates through the validation data.\n",
    "    :param steps_per_epoch: Number of batches that the training generator will provide during a given epoch.\n",
    "    :param validation_steps: Number of batches that the validation generator will provide during a given epoch.\n",
    "    :param initial_learning_rate: Learning rate at the beginning of training.\n",
    "    :param learning_rate_drop: How much at which to the learning rate will decay.\n",
    "    :param learning_rate_epochs: Number of epochs after which the learning rate will drop.\n",
    "    :param n_epochs: Total number of epochs to train the model.\n",
    "    :return: \n",
    "    \"\"\"\n",
    "    \n",
    "    this_callbacks = get_callbacks(model_file,\n",
    "                  initial_learning_rate=initial_learning_rate,\n",
    "                  learning_rate_drop=learning_rate_drop,\n",
    "                  learning_rate_epochs=learning_rate_epochs,\n",
    "                  learning_rate_patience=learning_rate_patience,\n",
    "                  early_stopping_patience=early_stopping_patience)\n",
    "    \n",
    "    this_callbacks.append(tbCallBack)\n",
    "\n",
    "    model.fit_generator(generator=training_generator,\n",
    "                        steps_per_epoch=steps_per_epoch,\n",
    "                        epochs=n_epochs,\n",
    "                        validation_data=validation_generator,\n",
    "                        validation_steps=validation_steps,\n",
    "                        callbacks=this_callbacks)\n",
    "    return model"
   ]
  },
  {
   "cell_type": "code",
   "execution_count": 16,
   "metadata": {
    "ExecuteTime": {
     "end_time": "2018-08-08T15:49:39.193271Z",
     "start_time": "2018-08-08T15:49:39.169405Z"
    }
   },
   "outputs": [],
   "source": [
    "class DicomAccess():    \n",
    "    @classmethod\n",
    "    def get_ct(self,idx):\n",
    "        try:\n",
    "            iter(idx)\n",
    "        except TypeError:\n",
    "            idx = [idx]\n",
    "        return np.array([dcm.read_file(str(path)).pixel_array for path in ct_dcms[idx]])\n",
    "\n",
    "    @classmethod\n",
    "    def get_mask(self,idx):\n",
    "        try:\n",
    "            iter(idx)\n",
    "        except TypeError:\n",
    "            idx = [idx]\n",
    "        return np.array([dcm.read_file(str(path)).pixel_array for path in mask_dcms[idx]])"
   ]
  },
  {
   "cell_type": "code",
   "execution_count": 17,
   "metadata": {
    "ExecuteTime": {
     "end_time": "2018-08-08T15:49:39.219535Z",
     "start_time": "2018-08-08T15:49:39.194497Z"
    }
   },
   "outputs": [],
   "source": [
    "from functools import reduce\n",
    "\n",
    "class DataSet():\n",
    "    def __init__(self,imgs,masks):\n",
    "        self.len = len(imgs)\n",
    "        self.current = 0\n",
    "        self.imgs = imgs\n",
    "        self.masks = masks\n",
    "        if not self.check_data():\n",
    "            print(\"Something is wrong with the data.\")\n",
    "        else:\n",
    "            print(\"Data seems to be fine.\")\n",
    "\n",
    "    def check_data(self):\n",
    "        imgs = np.array([Path(f.stem).stem for f in self.imgs])\n",
    "        masks = np.array([Path(f.stem).stem for f in self.masks])\n",
    "        return (reduce(np.intersect1d, (imgs,masks)) == imgs).all()\n",
    "        \n",
    "    def get_ct(self,idx):\n",
    "        try:\n",
    "            iter(idx)\n",
    "        except TypeError:\n",
    "            idx = [idx]\n",
    "        return np.array([dcm.read_file(str(path)).pixel_array for path in self.imgs[idx]])\n",
    "\n",
    "    def get_mask(self,idx):\n",
    "        try:\n",
    "            iter(idx)\n",
    "        except TypeError:\n",
    "            idx = [idx]\n",
    "        return np.array([dcm.read_file(str(path)).pixel_array for path in self.masks[idx]])\n",
    "        \n",
    "    def __len__(self):\n",
    "        return self.len\n",
    "    \n",
    "    def __getitem__(self,idx):\n",
    "        yield tuple((self.get_ct(idx),self.get_mask(idx)))\n",
    "        \n",
    "    def __iter__(self):\n",
    "        return self\n",
    "    \n",
    "    def __next__(self):\n",
    "        if self.current >= len(self):\n",
    "            raise StopIteration\n",
    "        else:\n",
    "            self.current += 1\n",
    "            return tuple((self.get_ct(self.current),self.get_mask(self.current)))\n"
   ]
  },
  {
   "cell_type": "code",
   "execution_count": 18,
   "metadata": {
    "ExecuteTime": {
     "end_time": "2018-08-08T15:49:39.242756Z",
     "start_time": "2018-08-08T15:49:39.220671Z"
    }
   },
   "outputs": [],
   "source": [
    "# shapes = [np.shape(list(dataset[x]))[3:] for x in range(10)]"
   ]
  },
  {
   "cell_type": "code",
   "execution_count": 68,
   "metadata": {
    "ExecuteTime": {
     "end_time": "2018-08-08T16:22:52.717426Z",
     "start_time": "2018-08-08T16:22:52.669632Z"
    },
    "code_folding": []
   },
   "outputs": [
    {
     "name": "stdout",
     "output_type": "stream",
     "text": [
      "Data seems to be fine.\n"
     ]
    }
   ],
   "source": [
    "class DataPreparator():\n",
    "    def __init__(self,dataset,patch_shape,batch_size,overlap,output_dir):\n",
    "        self.dataset = dataset\n",
    "        self.patch_shape = patch_shape\n",
    "        self.batch_size = batch_size\n",
    "        self.overlap = overlap\n",
    "        self.patches = []\n",
    "        self.masked = []\n",
    "        self.output_dir = output_dir\n",
    "        self.metadata = {\n",
    "            \"ct_idx\": [],\n",
    "            \"patches_shape\": [],\n",
    "            \"masked\": [],\n",
    "            \"pickles\": [],\n",
    "            \"patch_indices\": [],\n",
    "        }\n",
    "        \n",
    "    def load_metadata(self,file=None):\n",
    "        if not file:\n",
    "            file = str(self.output_dir/'metadata.p')\n",
    "        else:\n",
    "            file = str(file)\n",
    "        self.metadata = self.pickle_load(file)\n",
    "        return self.metadata\n",
    "        \n",
    "    def prepare(self):\n",
    "        for idx in range(len(self.dataset)):\n",
    "            arr = list(self.dataset[idx])\n",
    "            x,y = arr[0][0][0],arr[0][1][0]\n",
    "            image_shape = np.shape(x)\n",
    "            print(f\"Image,Mask ({idx}): {image_shape}\")\n",
    "            patch_indices = compute_patch_indices(image_shape, self.patch_shape, self.overlap, start=None)\n",
    "            \n",
    "            with ThreadPoolExecutor(6) as e:\n",
    "                e.map(\n",
    "                    self.save_patches,\n",
    "                    repeat(patch_indices),\n",
    "                    repeat(x),\n",
    "                    repeat(y),\n",
    "                    range(len(patch_indices)),\n",
    "                    repeat(idx),\n",
    "                     )\n",
    "            \n",
    "            data_obj = {\n",
    "                'patches': self.patches,\n",
    "                'masked': self.masked,\n",
    "            }\n",
    "            \n",
    "            fname = \"data_%05d.p\" % (idx)\n",
    "            out_file = str(self.output_dir/fname)\n",
    "            print(f\"\\nDumping a pickle at {out_file}... \",end='')\n",
    "            print(np.shape(self.patches))\n",
    "            self.pickle_dump(item=data_obj, out_file=out_file)\n",
    "            print(\"Done.\")\n",
    "            self.metadata['pickles'].append(fname)\n",
    "            \n",
    "            self.patches = []\n",
    "            self.masked = []\n",
    "            \n",
    "        metadate_out_file = str(self.output_dir/f\"metadata.p\")\n",
    "        self.pickle_dump(item=self.metadata, out_file=metadate_out_file)\n",
    "        print(f\"Metadata has been saved in {metadate_out_file}\")\n",
    "\n",
    "    def save_patches(self,patch_indices,x,y,patch_index,ct_idx):\n",
    "        y_patch = self.get_patch(y,patch_indices,patch_index)\n",
    "        has_mask = self.has_mask(y_patch)\n",
    "        \n",
    "        take = chance(0.02)\n",
    "        if has_mask:\n",
    "            print('m',end='')\n",
    "        elif take:\n",
    "            print('t',end='') # took an empty patch by chance\n",
    "        else:\n",
    "            print('.',end='') # skiped an empty patch\n",
    "            return\n",
    "            \n",
    "\n",
    "        x_patch = self.get_patch(x,patch_indices,patch_index)\n",
    "        x_patch = self.normalize_patch(x_patch)\n",
    "        y_patch = self.to_binary_mask(y_patch)\n",
    "        \n",
    "        xy_patch_out = tuple(np.array([[x_patch],[y_patch]]))\n",
    "        has_mask = self.has_mask(y_patch)\n",
    "        self.masked.append(has_mask)\n",
    "        self.patches.append(xy_patch_out)\n",
    "        self.metadata[\"patches_shape\"].append(np.shape(xy_patch_out))\n",
    "        self.metadata[\"masked\"].append(has_mask)\n",
    "        self.metadata[\"ct_idx\"].append(ct_idx)\n",
    "        self.metadata[\"patch_indices\"].append(patch_index)\n",
    "        #print(f\"Patch ({idx}) {np.shape(patch_indices)}: {np.shape(xy_patch_out)}\")\n",
    "            \n",
    "    def get_patch(self,data,patch_indices,idx):\n",
    "        return self.reshape_array(\n",
    "            get_patch_from_3d_data(data, self.patch_shape, patch_indices[idx]))\n",
    "        \n",
    "    @classmethod\n",
    "    def pickle_dump(self,item, out_file):\n",
    "        with open(str(out_file), \"wb\") as opened_file:\n",
    "            pickle.dump(item, opened_file, protocol=pickle.HIGHEST_PROTOCOL)\n",
    "\n",
    "    @classmethod\n",
    "    def pickle_load(self,in_file):\n",
    "        with open(str(in_file), \"rb\") as opened_file:\n",
    "            return pickle.load(opened_file)\n",
    "\n",
    "    @classmethod\n",
    "    def reshape_array(self,arr):\n",
    "        new_shape = tuple(np.insert(np.shape(arr),0,1))\n",
    "        return np.reshape(arr,new_shape)\n",
    "    \n",
    "    @classmethod\n",
    "    def has_mask(self,patch):            \n",
    "        if np.any(patch):\n",
    "            return True\n",
    "        else:\n",
    "            return False\n",
    "            \n",
    "    @classmethod       \n",
    "    def normalize_patch_1(self,patch):\n",
    "        return patch/np.linalg.norm(patch, ord=2,axis=-1,keepdims=1)\n",
    "    \n",
    "    @classmethod\n",
    "    @jit\n",
    "    def normalize_patch(self,x):\n",
    "        return (x - x.min()) / (x.max() - x.min())\n",
    "    \n",
    "    @classmethod\n",
    "    def to_binary_mask(self,patch):\n",
    "        patch[patch > 0] = 1\n",
    "        return patch\n",
    "\n",
    "ct_dcms = np.array(sorted(list(CT_DCM.iterdir())))\n",
    "mask_dcms = np.array(sorted(list(MASK_DCM.iterdir())))\n",
    "        \n",
    "params = {\n",
    "    'patch_shape': (64,64,64),\n",
    "    'batch_size': 1,\n",
    "    'overlap': 8,\n",
    "    'output_dir': PATCHES\n",
    "}\n",
    "\n",
    "dataset = DataSet(imgs=ct_dcms,masks=mask_dcms)\n",
    "dp = DataPreparator(dataset,**params)"
   ]
  },
  {
   "cell_type": "code",
   "execution_count": 19,
   "metadata": {
    "ExecuteTime": {
     "end_time": "2018-07-24T21:50:46.687872Z",
     "start_time": "2018-07-24T20:49:46.175602Z"
    },
    "code_folding": [],
    "deletable": false,
    "editable": false,
    "run_control": {
     "frozen": true
    },
    "scrolled": true
   },
   "outputs": [
    {
     "name": "stdout",
     "output_type": "stream",
     "text": [
      "Image,Mask (0): (439, 512, 512)\n",
      "..............t.......t...........................................................................................t............................t.............................................................................mm.........mm..........................................................t...........................m.mm......m.mm...........................t................t...........................................m.......t.m......t............t..............................t..................................................t......................t.......................................................t....................................t....t.....................................................................t...................t......................................................\n",
      "Dumping a pickle at /home/group1/data/aneurysm/bigdisk/Processed_data/data_00000.p... (30, 2, 1, 1, 64, 64, 64)\n",
      "Done.\n",
      "Image,Mask (1): (439, 512, 512)\n",
      "............................................m..m.........mm...............t.......................................................mm........m.mm.....t...mm.......t..........................................................m.m......mm.m......m.m.............................t...t........................................t...mmm.......mm.m.....mm..........................................................t............t...................................................................................................................t.........................................................t..............t.............................t..............t...............................................................t..............t...................................t.....................................\n",
      "Dumping a pickle at /home/group1/data/aneurysm/bigdisk/Processed_data/data_00001.p... (42, 2, 1, 1, 64, 64, 64)\n",
      "Done.\n",
      "Image,Mask (2): (439, 512, 512)\n",
      "...................tt.............................t............................................................................t............................t............................................................................................t...........................................t........................m.m.......m.mm.......mm.............t.........................................................................m..........t......................................................t................t................................t.........................................................................................................................................................................................t...............t.....................................................\n",
      "Dumping a pickle at /home/group1/data/aneurysm/bigdisk/Processed_data/data_00002.p... (22, 2, 1, 1, 64, 64, 64)\n",
      "Done.\n",
      "Image,Mask (3): (439, 512, 512)\n",
      "..........................................t...t.................................................................................t...........m.......................................................................................mm.........mm..............................t...............................................m.........m.m..........m..................................................t..........................m.......m.tmm.........m.......................................................................t...................t...................................t.........t............................................................................t...t...........t...............t....................................................................t........tt..........t....................\n",
      "Dumping a pickle at /home/group1/data/aneurysm/bigdisk/Processed_data/data_00003.p... (32, 2, 1, 1, 64, 64, 64)\n",
      "Done.\n",
      "Image,Mask (4): (878, 512, 512)\n",
      "............................................m.mm.....t.mmm....................t............t....t..................................mm........mmm........mm.t................................................................mmm........mmm........mm.....................................t.............................t.........mm.......m..mm.....m.............................t............................t.................................................................t................................................................................t................................................................t..........................................................................................t.....................t................................t.....t....................................................................................................................................t.t..............t.............t..........................................t............................................t....t........t................................t.......t........................t.............t..............................................................................................t...................................................t..............t....................................................................t.......................................................................................................t............t..............................t...............................................................................................................\n",
      "Dumping a pickle at /home/group1/data/aneurysm/bigdisk/Processed_data/data_00004.p... (62, 2, 1, 1, 64, 64, 64)\n",
      "Done.\n",
      "Image,Mask (5): (455, 512, 512)\n",
      "...................................t.......m.m.......m.m......................................t.....t...........t.............................mm......mm...............t........................t.............................m.......mm.......mm................................t.....t...t...t..................................m.....m.mm.m....mmmm.........................................................t............t.......m........m.m.......tmm..................................................................................t....m..........m........................................t..................................................................................................................................................................................................................t......t................................................t................t..................................\n",
      "Dumping a pickle at /home/group1/data/aneurysm/bigdisk/Processed_data/data_00005.p... (48, 2, 1, 1, 64, 64, 64)\n",
      "Done.\n",
      "Image,Mask (6): (439, 512, 512)\n",
      ".................................t...............m......t.........................................................................mm.......mm........mmm...........................................................................mmmm......m..mm.m.....mm.............................................................................mmmm......mm.mm................t.....................................................................................................................................t...........................................................................................................t.........................................................................................................t....................................t......................t........t.......................\n",
      "Dumping a pickle at /home/group1/data/aneurysm/bigdisk/Processed_data/data_00006.p... (35, 2, 1, 1, 64, 64, 64)\n",
      "Done.\n",
      "Image,Mask (7): (439, 512, 512)\n",
      ".................................................t................t.......................................................t..................t..................t.t...................................................................mm..........m......................t.......................................................mm......mmm.t......mmm......................................................................................mm......t....m.....................................................................t.................................................t.........................t...........................t.................................................t....................................................t................................................................t...............\n",
      "Dumping a pickle at /home/group1/data/aneurysm/bigdisk/Processed_data/data_00007.p... (30, 2, 1, 1, 64, 64, 64)\n",
      "Done.\n",
      "Image,Mask (8): (439, 512, 512)\n",
      "........................................................................t...........................................t..m.........mmm.......mm.m.t.....t..........t.........................................................m..t.....m..m.m......mmm..............................................................t.......................mm.....t..mm........................t..............................................................t.......................................t..........................................................................t.............................................................t......t.......................t............t..........................t.t................t...........................................................................t............................\n",
      "Dumping a pickle at /home/group1/data/aneurysm/bigdisk/Processed_data/data_00008.p... (38, 2, 1, 1, 64, 64, 64)\n",
      "Done.\n",
      "Image,Mask (9): (440, 512, 512)\n",
      ".....t....................................................tt.................................................................t..mmm..........m....m..mm...............t..............................................................mmm.....mm..m.......mm................................................t...........................mm........................................t......................................t..t.....................................................t..............................................................................t................................................................................................................................................................................................t..............................................................\n",
      "Dumping a pickle at /home/group1/data/aneurysm/bigdisk/Processed_data/data_00009.p... (29, 2, 1, 1, 64, 64, 64)\n",
      "Done.\n",
      "Image,Mask (10): (439, 512, 512)\n",
      ".........................................................................................................................t..........t...t..........t.......t......................................t....................................mm.t.....m...........................t.................t.................................mm........mmm.......mmm................................................t............................mm........mm.........................................................................................................................................t...............................t....................................................t..........................................................................t...........................................................tt.....t...\n",
      "Dumping a pickle at /home/group1/data/aneurysm/bigdisk/Processed_data/data_00010.p... (32, 2, 1, 1, 64, 64, 64)\n",
      "Done.\n",
      "Image,Mask (11): (439, 512, 512)\n",
      "...........................................................................................................................................mm.........mm....................t...............t......................t...................mm....t..m.....m...mm........................t.....................................................m.........m...m.........t................................t..............................................................t............................................................t..................................................................t...........................t..................t....t................t.....................t.......t.......................................................................................................t..................\n",
      "Dumping a pickle at /home/group1/data/aneurysm/bigdisk/Processed_data/data_00011.p... (30, 2, 1, 1, 64, 64, 64)\n",
      "Done.\n",
      "Image,Mask (12): (440, 512, 512)\n",
      "................................................................................t................t..................t.t.............m..........m..........tt..........t....................................................t...m....t.m.m.m.m....mmmm......................t................................................................mmm.m....mmm...................................................t...........................t..................................t.....................t..................................................................................................................................................................t........................................................................................................t...................................................\n",
      "Dumping a pickle at /home/group1/data/aneurysm/bigdisk/Processed_data/data_00012.p... (34, 2, 1, 1, 64, 64, 64)\n",
      "Done.\n",
      "Image,Mask (13): (439, 512, 512)\n",
      ".......................tt........................m...m........mm..........................................................................m.m........mm.t.....mm.................t.....................................................t......mmm.......m.mm........................................t.......................................m......t..m..mm...mm..............t.....................t...........................................m......m..mm...........................................t.............................................................t..........t..................................................................................................................................t............................................................................................................\n",
      "Dumping a pickle at /home/group1/data/aneurysm/bigdisk/Processed_data/data_00013.p... (39, 2, 1, 1, 64, 64, 64)\n",
      "Done.\n",
      "Image,Mask (14): (439, 512, 512)\n",
      "....t................................t.m..m........m.........................................................................t......t.....mm........mm..............................................................................mm.........mmm......m.............................t.......................................m.m.......m.m.......m.m........m......t...........................t.........................................tmmm........mmm.........m............................................................t............................................................................................t...t.................................................t................................................................................................t......................................t.....\n",
      "Dumping a pickle at /home/group1/data/aneurysm/bigdisk/Processed_data/data_00014.p... (41, 2, 1, 1, 64, 64, 64)\n",
      "Done.\n",
      "Image,Mask (15): (439, 512, 512)\n"
     ]
    },
    {
     "name": "stdout",
     "output_type": "stream",
     "text": [
      "...t........t..............................t........t..........................t................................................................................................................t.....................t........t.......mm........m...m..........................................................................m.m......m..mm.......mm......t......................................................t...............mm........m.mm......mmm.......................................t....................t...t.............m........m..............................t...........................t...........................................................................................t..................................................t...t................t...t...........t..............................\n",
      "Dumping a pickle at /home/group1/data/aneurysm/bigdisk/Processed_data/data_00015.p... (42, 2, 1, 1, 64, 64, 64)\n",
      "Done.\n",
      "Image,Mask (16): (455, 512, 512)\n",
      "..................................m..m......m.mt.......................t................................................m..........mm........mm.............................................t...............................mm........mm.........mm.............t...........................................................t...m.m.......m..........t...................................................................................................................................................................................t...................t..............................................................................................................................t................t.........................t........t.......t.........................................................................................................................t................t................................\n",
      "Dumping a pickle at /home/group1/data/aneurysm/bigdisk/Processed_data/data_00016.p... (33, 2, 1, 1, 64, 64, 64)\n",
      "Done.\n",
      "Image,Mask (17): (439, 512, 512)\n",
      "..................t......................m.....................................................................................m..mm......mm...........t.......................................................................t...m.mm.......mm.m....................t.............................t............................................................................................................................................t.....................................t....................................................................................t............t...................................t.t.......................................................t..............t.....................................t.................................t..........t......................................\n",
      "Dumping a pickle at /home/group1/data/aneurysm/bigdisk/Processed_data/data_00017.p... (28, 2, 1, 1, 64, 64, 64)\n",
      "Done.\n",
      "Image,Mask (18): (439, 512, 512)\n",
      "..............t........................m.m..tm.......mmm.....m..t............................t.......................t...........m.m......m.mm......m.mm.............................................................................mm........mm...................................................................................................................................................................................................t.....................t................................t.........................................................t.........................t.................................................................................................t..............................................................................................................................\n",
      "Dumping a pickle at /home/group1/data/aneurysm/bigdisk/Processed_data/data_00018.p... (30, 2, 1, 1, 64, 64, 64)\n",
      "Done.\n",
      "Image,Mask (19): (439, 512, 512)\n",
      "..........................................................t..t....................................................................m.m........mm..t......................t....................................................mm.......mm........mm.......................................t.............t.........................mmt.....m.m.m.....m.mm.........t........................................................................t.....mm........m.m.................................................................................................................t........................................t.........................................................................................................................................................................................................\n",
      "Dumping a pickle at /home/group1/data/aneurysm/bigdisk/Processed_data/data_00019.p... (33, 2, 1, 1, 64, 64, 64)\n",
      "Done.\n",
      "Image,Mask (20): (455, 512, 512)\n",
      "..........................t......................t..............t..................................................t.............m..m......m.m.................t...........................................................mm........mm.........mm.......................................................t....t................m.mm.....mmmm.........mm..............................................................................m.m......m.m...................................................................................................................................................t..t.......................t...........................................................................................................................................................t............................tt..........................................................................................................\n",
      "Dumping a pickle at /home/group1/data/aneurysm/bigdisk/Processed_data/data_00020.p... (36, 2, 1, 1, 64, 64, 64)\n",
      "Done.\n",
      "Image,Mask (21): (439, 512, 512)\n",
      "............t...................t........................................t.....................................................t.m..........m..........................................t....t.........................t.....m........mm......tm.m.....................t........................................................mm........mmm.......mmm..................................................t...........t........................mm.....t...mm......................................................................................................................................................................................................................................................................................................................................................................\n",
      "Dumping a pickle at /home/group1/data/aneurysm/bigdisk/Processed_data/data_00021.p... (31, 2, 1, 1, 64, 64, 64)\n",
      "Done.\n",
      "Image,Mask (22): (439, 512, 512)\n",
      "..............................t.....................t........t............................................................m......mm..........m.........m....................................t...........t..t.................m........mm.mm....mmm.m......................................................................................mmmm....m.mmm................t.....................t...................................................................................t..............................................................t...............t.......................................................t...........................................t...........................................................................................................t...........................t...................\n",
      "Dumping a pickle at /home/group1/data/aneurysm/bigdisk/Processed_data/data_00022.p... (37, 2, 1, 1, 64, 64, 64)\n",
      "Done.\n",
      "Image,Mask (23): (439, 512, 512)\n",
      "....t.................................t.................t.................................................................................mm.......m.mm............................t................................................m.....m...m...m.....mmm......................................t......................................m.m........mm............................................t.....................................................................................................t......................................................t...............................................................................................t..........................................................t..................................................................t.............t.....................\n",
      "Dumping a pickle at /home/group1/data/aneurysm/bigdisk/Processed_data/data_00023.p... (28, 2, 1, 1, 64, 64, 64)\n",
      "Done.\n",
      "Image,Mask (24): (439, 512, 512)\n",
      "..................................................................................................................................m.......mm...................................................t............................mm........m..m......mm.......m.m....................................................................mm.......m.mm.....mmm.........mm..........................................................................t.....................t.............................................................................................................t.................................................................t..................................................................................t...................t........................................................................\n",
      "Dumping a pickle at /home/group1/data/aneurysm/bigdisk/Processed_data/data_00024.p... (28, 2, 1, 1, 64, 64, 64)\n",
      "Done.\n",
      "Image,Mask (25): (878, 512, 512)\n",
      "....................................................................................................t............t...............m.m..........m..m...........................t..............................................m.......tm.m.......mm...........................................................................t....m.......mm........m..................................................t................................t.............................t.........t.........................................................................t..t............................................................................................................t.....t.........................................t......................................................................t............................................................................................................t................................................................t..................t..............................t..................t.........................t..................t.....................................................................................................................t......t.......t...............................................................................t..........................................................................................................................................................................................................................................................................................t.........t.....................................\n",
      "Dumping a pickle at /home/group1/data/aneurysm/bigdisk/Processed_data/data_00025.p... (41, 2, 1, 1, 64, 64, 64)\n",
      "Done.\n",
      "Image,Mask (26): (439, 512, 512)\n",
      ".......t..........t......................mm..........m..m.................................................................................m.mm.....mm................t...............t.t...............t...................m.........m.m..t.....mm..................................................................t...................mmm.........mm......................t............................t.....................................t.........................t..........................tt................................................................................t..............................t........................................t....................t.....................................................................t..............................................................t.......\n",
      "Dumping a pickle at /home/group1/data/aneurysm/bigdisk/Processed_data/data_00026.p... (39, 2, 1, 1, 64, 64, 64)\n",
      "Done.\n",
      "Image,Mask (27): (439, 512, 512)\n",
      "..t...........................t................................t......m...m.....................................................................t..............mmm........m....m................t...................t....................................mm........mmm.......m..................................................t............t................m........m................................t................................................................................................................................................................................................................................t..........t.................................................................................t..........................................t..............................................\n",
      "Dumping a pickle at /home/group1/data/aneurysm/bigdisk/Processed_data/data_00027.p... (28, 2, 1, 1, 64, 64, 64)\n",
      "Done.\n",
      "Image,Mask (28): (439, 512, 512)\n",
      "...................................t.........................................................t.............t...............................................................................................................m.m.......m.m........mm........t..................t.................................................mm.........mm.....................................................................................t.m.m.......mm...............................................tt.t....................................................................................................................t..............................t........t....................................................t......................................t...........t.........................................................\n",
      "Dumping a pickle at /home/group1/data/aneurysm/bigdisk/Processed_data/data_00028.p... (29, 2, 1, 1, 64, 64, 64)\n",
      "Done.\n",
      "Image,Mask (29): (878, 512, 512)\n",
      "........................................m...........................t.............................................................t.......m...........m.............................................................................mm........mm..........m......................................................................m.......mm.........m.mm............t..........................t.................................mmmm......m.mmm........mm.........t.................................................................mm.........mmmm........mm.....t.......................................................................t.......................................................................................................t............................................................................................................................t.....................................t.....................................................................t.t..............t..t...............................................................................................................................................................................................................t..............................................................................................t......................................................t............t.....................................................................................................................t.....................................................t................................................................................\n",
      "Dumping a pickle at /home/group1/data/aneurysm/bigdisk/Processed_data/data_00029.p... (52, 2, 1, 1, 64, 64, 64)\n"
     ]
    },
    {
     "name": "stdout",
     "output_type": "stream",
     "text": [
      "Done.\n",
      "Image,Mask (30): (439, 512, 512)\n",
      ".......................................................................................t..........................................m.........m.mt.......mm............................t...............................................mmm.......mmm....t....m.....t.........................................................................mm..t.....m.m..................................................t...........................t.......................t..................................................................................t.....................t.......................t............................................................t..........................................t.......................t.....................................t..................................................t.......\n",
      "Dumping a pickle at /home/group1/data/aneurysm/bigdisk/Processed_data/data_00030.p... (33, 2, 1, 1, 64, 64, 64)\n",
      "Done.\n",
      "Image,Mask (31): (439, 512, 512)\n",
      ".....................................................................................................................................................................................................................t..............mm........mm.........mm...............................t.......................................................mmm........mmm.........................................................................t..............mm.....................................................t.....t.................t.........................................................t...............................................................................................................................................t..................................t......t....................................\n",
      "Dumping a pickle at /home/group1/data/aneurysm/bigdisk/Processed_data/data_00031.p... (24, 2, 1, 1, 64, 64, 64)\n",
      "Done.\n",
      "Image,Mask (32): (439, 512, 512)\n",
      "................................t..........t............................................tt.........t..................mm........mm........mm...t................................t.........................................mm........mm........m..m...................................................................t..................m..m.....t..m....................................t.................................................t........................................................t...................................................................................................................................................................................................................t.......................................................t...............................................\n",
      "Dumping a pickle at /home/group1/data/aneurysm/bigdisk/Processed_data/data_00032.p... (29, 2, 1, 1, 64, 64, 64)\n",
      "Done.\n",
      "Image,Mask (33): (439, 512, 512)\n",
      ".........t.....................................................t............t.....................................................mm........m.m........................................................................................mm........mm...............................................t........................................m........m..m................................................................t...............................................t..................................................................................................................................................................................................................................................t....................................................................................................\n",
      "Dumping a pickle at /home/group1/data/aneurysm/bigdisk/Processed_data/data_00033.p... (18, 2, 1, 1, 64, 64, 64)\n",
      "Done.\n",
      "Image,Mask (34): (439, 512, 512)\n",
      "..................................................t.................................................................................................................t......................................................mm......mm.m.........................................................t.............................mmm......mm.m............................t...................t.................................t..t..m..................................................................................................................................................................t................t.............................................................t..................................................t.........................t.............................................................\n",
      "Dumping a pickle at /home/group1/data/aneurysm/bigdisk/Processed_data/data_00034.p... (24, 2, 1, 1, 64, 64, 64)\n",
      "Done.\n",
      "Image,Mask (35): (878, 512, 512)\n",
      ".......................................................m................................................t................t..................mm.........mm.............................................................................mm........mm.........mm..................................................................m.m........mmmm......mmm.............................................................................mm....t.....mmmm......mm....................t..................................................................................................................................................................................................................t....................................................................t................................................................................................................................tt............................t.........................................t.......................t...............t.....................................................................................t...t......................................................................................................tt...t.............t........................t................................................................................t...............................................................................t.............t..............t...................................................................................................................t...................t.t.................................t...............\n",
      "Dumping a pickle at /home/group1/data/aneurysm/bigdisk/Processed_data/data_00035.p... (55, 2, 1, 1, 64, 64, 64)\n",
      "Done.\n",
      "Image,Mask (36): (439, 512, 512)\n",
      ".....................................................t....t..t.............................................................................................................................................................mm.........m.m.......................................t...........t...................................mm.......m.m.................................................................................................m.m............................................................................................................................................t....................................................................t..................................................................................t.............t.........................................t...................\n",
      "Dumping a pickle at /home/group1/data/aneurysm/bigdisk/Processed_data/data_00036.p... (20, 2, 1, 1, 64, 64, 64)\n",
      "Done.\n",
      "Image,Mask (37): (439, 512, 512)\n",
      "..............................................t...................................................................................m.........m.........t.....................................................................mm.......mm..........m..............................................................................mm........m.mm......mm........................t.......................................t.....................................................................................................t............................t.............................................................................t..........................t...................................t.........................................................t...........................t...................t..............t\n",
      "Dumping a pickle at /home/group1/data/aneurysm/bigdisk/Processed_data/data_00037.p... (27, 2, 1, 1, 64, 64, 64)\n",
      "Done.\n",
      "Image,Mask (38): (439, 512, 512)\n",
      "......t........................t..........m.m.........m...............................t..........................................mm.t.......mmm.......m......................................t.t....................t.......mm.......mmm.......mmt.......................t......................................................mm......m.mm.......m.................................................................................t..................t................................t....................................................................................................t...........................t............................................................................................................t.....................................................t.............................t....\n",
      "Dumping a pickle at /home/group1/data/aneurysm/bigdisk/Processed_data/data_00038.p... (39, 2, 1, 1, 64, 64, 64)\n",
      "Done.\n",
      "Image,Mask (39): (439, 512, 512)\n",
      "..................................m.m........mmm........mm........................................t.....................m.m.......mm.m......m..mm......m.m..........................................................t..............t.m..mmm......m.m...........................................................t...........t.................................................t..................................................................................................................................................................................t..........................t.........................................................................t........t..........................................................................................................................t......................\n",
      "Dumping a pickle at /home/group1/data/aneurysm/bigdisk/Processed_data/data_00039.p... (34, 2, 1, 1, 64, 64, 64)\n",
      "Done.\n",
      "Image,Mask (40): (439, 512, 512)\n",
      "...............................................................................................t.............t......................t............mm..........................................................................m...........mt....t.mm..............................................................................m........m.mm......m..m.........t.............................................................................mmm.t......m............t.....................................................t..................................................................................................................................................t....................................................................................................................................t..........\n",
      "Dumping a pickle at /home/group1/data/aneurysm/bigdisk/Processed_data/data_00040.p... (27, 2, 1, 1, 64, 64, 64)\n",
      "Done.\n",
      "Image,Mask (41): (455, 512, 512)\n",
      "...................t........t...............................................................................................................................................t..............................................mm.......mm.........mm..................................t..........ttt........................t......mmm.....mmm.t..t...mm.................................t......................t.....................m.m......m.mm.........m..................................................................................................t................................................t............t...............................t................................t..................................................t..............................t............................................................t.......................................t..............................................t..\n",
      "Dumping a pickle at /home/group1/data/aneurysm/bigdisk/Processed_data/data_00041.p... (42, 2, 1, 1, 64, 64, 64)\n",
      "Done.\n",
      "Image,Mask (42): (439, 512, 512)\n",
      ".............................................t..................m...m....t.............................................t...................t.m........mm.........m...............t....................................................mmm....t...m.m.......mm........m.......t.t...............................................m.m.......mm.m.......mm.m........................................................t.................................................................................................t.......................................t..................t..............................................t...................t..........t............................t...t......................................................................t..............t.............................................\n",
      "Dumping a pickle at /home/group1/data/aneurysm/bigdisk/Processed_data/data_00042.p... (41, 2, 1, 1, 64, 64, 64)\n",
      "Done.\n",
      "Image,Mask (43): (439, 512, 512)\n",
      ".....................................t........m.m.....m...m.............tt..................................................t.....mm........mmt.......mm................................................................................m...m....mm.........m.....................................................t........................................t.............t...........................................t..............................................................................................................t...........................t.............................................................t........................t......................t....t............................................t...............................................................................................\n",
      "Dumping a pickle at /home/group1/data/aneurysm/bigdisk/Processed_data/data_00043.p... (31, 2, 1, 1, 64, 64, 64)\n",
      "Done.\n",
      "Image,Mask (44): (439, 512, 512)\n",
      "................................................................................t.......................................................................................................................t................................m.m.....mm.......t..............t.........t..............................t..t...........mm........mm........mm.......t.....................................................................mmm.......mmm.......m..............................................................t................mm........mm................................................................t......................................................t....................................................................................................................................................\n",
      "Dumping a pickle at /home/group1/data/aneurysm/bigdisk/Processed_data/data_00044.p... (32, 2, 1, 1, 64, 64, 64)\n",
      "Done.\n",
      "Image,Mask (45): (878, 512, 512)\n"
     ]
    },
    {
     "name": "stdout",
     "output_type": "stream",
     "text": [
      "............t.....................................m..m......mm.....................................................................m......mm........mmm......m.m.........................................................t...........mmm......m.mm......................................................t.............................t.mmm.......mmm...........................................t......................................t...........................t............................................................................................t...................................................t.....................................t.....................................................................................................t.........................t...............................t....................................................................................................................................................................................................t...............t...................................................................................t.......................t.........................t....................t...................................................................................................................................................................................................................t........................................................................................................t.........................................t........t.....................................................................\n",
      "Dumping a pickle at /home/group1/data/aneurysm/bigdisk/Processed_data/data_00045.p... (47, 2, 1, 1, 64, 64, 64)\n",
      "Done.\n",
      "Image,Mask (46): (439, 512, 512)\n",
      "........................................................................t........................................................m...........................................................t..............................mm.........mm......m....................................................................t....t......mm.........mm.m.....m........................................................t.....................mm........mmm.......m.........t..............t.....t..............t.........................................................................t........t...................................................t.................t.................................................................................................................................................................\n",
      "Dumping a pickle at /home/group1/data/aneurysm/bigdisk/Processed_data/data_00046.p... (31, 2, 1, 1, 64, 64, 64)\n",
      "Done.\n",
      "Image,Mask (47): (439, 512, 512)\n",
      "............................................................t...t.......................tt.....t....................t........................m.........m..m..........................t.....................t....................................mmm..........mm.t...............................................................m.m........m.m.......mm...t.................t...................................t....................mm......mmm........m.m..................t...........t.............................................m.m.......mm............t.....................t...................t......................t..............................t.............................................................................................................................t..................................\n",
      "Dumping a pickle at /home/group1/data/aneurysm/bigdisk/Processed_data/data_00047.p... (45, 2, 1, 1, 64, 64, 64)\n",
      "Done.\n",
      "Image,Mask (48): (439, 512, 512)\n",
      ".............................t..............m.m...................................................................................mm..........mmm............................................................................m..m......mm.......mm.........................t....................................t................mm........m.m......m.....................................t..........................t............................t.......................................................................................................................................................................................................................................................................................................................................t..........................t........t.\n",
      "Dumping a pickle at /home/group1/data/aneurysm/bigdisk/Processed_data/data_00048.p... (27, 2, 1, 1, 64, 64, 64)\n",
      "Done.\n",
      "Image,Mask (49): (439, 512, 512)\n",
      "...................................t..........t.......m..m......................t...............................t.................m.........mm....t....mm.........................................t........................m.m.......mm........mmm..........mt.m...................................................t............mm........mm.m.....t..................t.........................t.............................................mm..............................................................................t.........................................................................t.......................................t.............................t..............................................................................................t...................t..............................\n",
      "Dumping a pickle at /home/group1/data/aneurysm/bigdisk/Processed_data/data_00049.p... (40, 2, 1, 1, 64, 64, 64)\n",
      "Done.\n",
      "Image,Mask (50): (439, 512, 512)\n",
      ".......................t............t...................t.........................................................t........................mm.m.....m.m..............................................................t...............mmmm.....m.mmt....................................................................................mmmm........mmmm....................................t.........t..........................................t.....m......................................................t....................................................................................................................................t........................t...............................t....................................................................................................................\n",
      "Dumping a pickle at /home/group1/data/aneurysm/bigdisk/Processed_data/data_00050.p... (34, 2, 1, 1, 64, 64, 64)\n",
      "Done.\n",
      "Image,Mask (51): (439, 512, 512)\n",
      "....................................t.........mm........mm..............t..........................................................m..m.t....mmm........mm...................................................................mm.t.....m.....m....mmm............................................................................m.m.......mm.m......m.m..........................................t.........................................................t..........t.........t.......................t...................................................................t..........................................................................................................t..............................................................t........................................t................................\n",
      "Dumping a pickle at /home/group1/data/aneurysm/bigdisk/Processed_data/data_00051.p... (38, 2, 1, 1, 64, 64, 64)\n",
      "Done.\n",
      "Image,Mask (52): (439, 512, 512)\n",
      "...........................t....t.................mm........mm...................................................................m............m.....m.mm.....m.m....................................................................mmmm.....m.m.mm.......m.........................................................................t...m..mm...m.mmmm.............................t............................t....................t.....mt........m.......................t........t............t...................................................t...............t.........t............................................................................................t................................................................................................t............................t...................\n",
      "Dumping a pickle at /home/group1/data/aneurysm/bigdisk/Processed_data/data_00052.p... (46, 2, 1, 1, 64, 64, 64)\n",
      "Done.\n",
      "Metadata has been saved in /home/group1/data/aneurysm/bigdisk/Processed_data/metadata.p\n"
     ]
    }
   ],
   "source": [
    "dp.prepare()"
   ]
  },
  {
   "cell_type": "code",
   "execution_count": 69,
   "metadata": {
    "ExecuteTime": {
     "end_time": "2018-08-08T16:23:12.416357Z",
     "start_time": "2018-08-08T16:22:56.060621Z"
    },
    "scrolled": true
   },
   "outputs": [
    {
     "name": "stdout",
     "output_type": "stream",
     "text": [
      "Data seems to be fine.\n",
      "Image,Mask (0): (220, 256, 256)\n",
      "........mm.m.m..............mm...mm.............................t...................................\n",
      "Dumping a pickle at /media/amer/BigDisk/some_fixed_files/256Test.processed/data_00000.p... (9, 2, 1, 1, 64, 64, 64)\n",
      "Done.\n",
      "Image,Mask (1): (220, 256, 256)\n",
      "...........................mm..mm..................m...m...mmt......................................\n",
      "Dumping a pickle at /media/amer/BigDisk/some_fixed_files/256Test.processed/data_00001.p... (9, 2, 1, 1, 64, 64, 64)\n",
      "Done.\n",
      "Image,Mask (2): (220, 256, 256)\n",
      ".........mm.....mm...............mm..m.m...........t...t............................................\n",
      "Dumping a pickle at /media/amer/BigDisk/some_fixed_files/256Test.processed/data_00002.p... (10, 2, 1, 1, 64, 64, 64)\n",
      "Done.\n",
      "Image,Mask (3): (220, 256, 256)\n",
      "..m.....m.......t............m.m..........t.......t..................t..............................\n",
      "Dumping a pickle at /media/amer/BigDisk/some_fixed_files/256Test.processed/data_00003.p... (8, 2, 1, 1, 64, 64, 64)\n",
      "Done.\n",
      "Image,Mask (4): (220, 256, 256)\n",
      "..m.t.m.t.mm.............m.t.m.....t................t...............................t...............\n",
      "Dumping a pickle at /media/amer/BigDisk/some_fixed_files/256Test.processed/data_00004.p... (12, 2, 1, 1, 64, 64, 64)\n",
      "Done.\n",
      "Image,Mask (5): (220, 256, 256)\n",
      ".........m...m.............m.m..mm...................mm.t.m.........................................\n",
      "Dumping a pickle at /media/amer/BigDisk/some_fixed_files/256Test.processed/data_00005.p... (10, 2, 1, 1, 64, 64, 64)\n",
      "Done.\n",
      "Image,Mask (6): (220, 256, 256)\n",
      "......mm....mm........t.....mm...m.m................................................................\n",
      "Dumping a pickle at /media/amer/BigDisk/some_fixed_files/256Test.processed/data_00006.p... (9, 2, 1, 1, 64, 64, 64)\n",
      "Done.\n",
      "Image,Mask (7): (220, 256, 256)\n",
      "....mm...m...mm...........m.m.t.m.m..........t......................................................\n",
      "Dumping a pickle at /media/amer/BigDisk/some_fixed_files/256Test.processed/data_00007.p... (11, 2, 1, 1, 64, 64, 64)\n",
      "Done.\n",
      "Image,Mask (8): (220, 256, 256)\n",
      ".........m..m..............mm..m.m......................................................tt..........\n",
      "Dumping a pickle at /media/amer/BigDisk/some_fixed_files/256Test.processed/data_00008.p... (8, 2, 1, 1, 64, 64, 64)\n",
      "Done.\n",
      "Image,Mask (9): (220, 256, 256)\n",
      "........m.t..m....m........m.t..mm...........................t........t.............................\n",
      "Dumping a pickle at /media/amer/BigDisk/some_fixed_files/256Test.processed/data_00009.p... (10, 2, 1, 1, 64, 64, 64)\n",
      "Done.\n",
      "Image,Mask (10): (220, 256, 256)\n",
      ".......m.mm..m.............m.m...mm......................................................t..........\n",
      "Dumping a pickle at /media/amer/BigDisk/some_fixed_files/256Test.processed/data_00010.p... (9, 2, 1, 1, 64, 64, 64)\n",
      "Done.\n",
      "Image,Mask (11): (220, 256, 256)\n",
      "....m..m..m..m......................................................................................\n",
      "Dumping a pickle at /media/amer/BigDisk/some_fixed_files/256Test.processed/data_00011.p... (4, 2, 1, 1, 64, 64, 64)\n",
      "Done.\n",
      "Image,Mask (12): (220, 256, 256)\n",
      "......mm....mm.............m.m..m.mm...t.........m.t..m..............t.............................t\n",
      "Dumping a pickle at /media/amer/BigDisk/some_fixed_files/256Test.processed/data_00012.p... (15, 2, 1, 1, 64, 64, 64)\n",
      "Done.\n",
      "Image,Mask (13): (220, 256, 256)\n",
      ".......mm.m...............mmm...mm..................mt............................t.................\n",
      "Dumping a pickle at /media/amer/BigDisk/some_fixed_files/256Test.processed/data_00013.p... (11, 2, 1, 1, 64, 64, 64)\n",
      "Done.\n",
      "Metadata has been saved in /media/amer/BigDisk/some_fixed_files/256Test.processed/metadata.p\n"
     ]
    }
   ],
   "source": [
    "test_imgs = np.array(sorted(list(TEST_DCM.iterdir())))\n",
    "test_masks = np.array(sorted(list(TEST_DCM_MASK.iterdir())))\n",
    "\n",
    "\n",
    "\n",
    "params = {\n",
    "    'patch_shape': (64,64,64),\n",
    "    'batch_size': 1,\n",
    "    'overlap': 8,\n",
    "    'output_dir': TEST_PRO, \n",
    "}\n",
    "\n",
    "test_dataset = DataSet(test_imgs,test_masks)\n",
    "test_dp = DataPreparator(test_dataset,**params)\n",
    "\n",
    "test_dp.prepare()"
   ]
  },
  {
   "cell_type": "code",
   "execution_count": 20,
   "metadata": {
    "ExecuteTime": {
     "end_time": "2018-08-08T15:49:39.300896Z",
     "start_time": "2018-08-08T15:49:39.279897Z"
    }
   },
   "outputs": [],
   "source": [
    "# print(np.count_nonzero(dp.pickle_load(PATCHES/\"metadata.p\")[\"masked\"]))\n",
    "\n",
    "# len(dp.pickle_load(PATCHES/\"metadata.p\")[\"masked\"]) - np.count_nonzero(dp.pickle_load(PATCHES/\"metadata.p\")[\"masked\"])\n",
    "\n",
    "# # masked = dp.pickle_load(\"/home/amer/data/aneurysm/patches/data_0.p\")[\"masked\"]"
   ]
  },
  {
   "cell_type": "code",
   "execution_count": 106,
   "metadata": {
    "ExecuteTime": {
     "end_time": "2018-08-08T16:40:40.297900Z",
     "start_time": "2018-08-08T16:40:40.256523Z"
    },
    "scrolled": false
   },
   "outputs": [],
   "source": [
    "class DataGen(Sequence):\n",
    "    def __init__(self,processed_data_dir,mode=0):\n",
    "        \"\"\"\n",
    "        :param mode: 0 for training or 1 validation, 3 for all\n",
    "        \"\"\"\n",
    "        self.processed_data_dir = processed_data_dir\n",
    "        self.mode = mode\n",
    "        self.pickles = np.array([Path(file) for file in sorted(gb.glob(str(self.processed_data_dir/'data*.p')))])\n",
    "        self.metadata = dp.pickle_load(self.processed_data_dir/\"metadata.p\")\n",
    "        self.file_list = np.array([self.pickles[idx] for idx in self.metadata[\"ct_idx\"]])\n",
    "        self.all_data = np.column_stack((self.file_list, self.metadata['patch_indices']))\n",
    "        if self.mode == 3:\n",
    "            self.data_set = self.all_data\n",
    "            self.internal_patch_index = self.get_internal_patch_index()\n",
    "        else:\n",
    "            self.data_set = split_list(self.all_data, split=0.8, shuffle_list=False)[self.mode]\n",
    "            self.internal_patch_index = split_list(self.get_internal_patch_index(), split=0.8, shuffle_list=False)[self.mode]\n",
    "        \n",
    "    def __len__(self):\n",
    "        return len(self.data_set)    \n",
    "    \n",
    "    def __getitem__(self, idx):\n",
    "        pickle_path = self.data_set[idx][0]\n",
    "        x,y = self.get_pickle(pickle_path)[self.internal_patch_index[idx]]\n",
    "        return x,y\n",
    "    \n",
    "    def get_internal_patch_index(self):        \n",
    "        internal_patch_count = {}\n",
    "        internal_patch_index = []\n",
    "        for x in self.all_data:\n",
    "            try:\n",
    "                internal_patch_count[x[0]] += 1\n",
    "            except KeyError as e:\n",
    "                internal_patch_count[x[0]] = 0\n",
    "            internal_patch_index.append(internal_patch_count[x[0]])\n",
    "        return np.array(internal_patch_index)\n",
    "    \n",
    "    def get_pickle(self,path):\n",
    "        return self.pickle_load(path)['patches']\n",
    "    \n",
    "    @classmethod\n",
    "    def pickle_load(self,in_file):\n",
    "        with open(str(in_file), \"rb\") as opened_file:\n",
    "            return pickle.load(opened_file)\n",
    "\n",
    "    @classmethod\n",
    "    def reshape_array(self,arr):\n",
    "        new_shape = tuple(np.insert(np.shape(arr),0,1))\n",
    "        return np.reshape(arr,new_shape)"
   ]
  },
  {
   "cell_type": "code",
   "execution_count": 79,
   "metadata": {
    "ExecuteTime": {
     "end_time": "2018-08-08T16:25:21.208972Z",
     "start_time": "2018-08-08T16:25:21.167275Z"
    },
    "code_folding": []
   },
   "outputs": [],
   "source": [
    "class TrainValTensorBoard(TensorBoard):\n",
    "    def __init__(self, log_dir='./logs', **kwargs):\n",
    "        # Make the original `TensorBoard` log to a subdirectory 'training'\n",
    "        training_log_dir = os.path.join(log_dir, 'training')\n",
    "        super(TrainValTensorBoard, self).__init__(training_log_dir, **kwargs)\n",
    "\n",
    "        # Log the validation metrics to a separate subdirectory\n",
    "        self.val_log_dir = os.path.join(log_dir, 'validation')\n",
    "\n",
    "    def set_model(self, model):\n",
    "        # Setup writer for validation metrics\n",
    "        self.val_writer = tf.summary.FileWriter(self.val_log_dir)\n",
    "        super(TrainValTensorBoard, self).set_model(model)\n",
    "\n",
    "    def on_epoch_end(self, epoch, logs=None):\n",
    "        # Pop the validation logs and handle them separately with\n",
    "        # `self.val_writer`. Also rename the keys so that they can\n",
    "        # be plotted on the same figure with the training metrics\n",
    "        logs = logs or {}\n",
    "        val_logs = {k.replace('val_', ''): v for k, v in logs.items() if k.startswith('val_')}\n",
    "        for name, value in val_logs.items():\n",
    "            summary = tf.Summary()\n",
    "            summary_value = summary.value.add()\n",
    "            summary_value.simple_value = value.item()\n",
    "            summary_value.tag = name\n",
    "            self.val_writer.add_summary(summary, epoch)\n",
    "        self.val_writer.flush()\n",
    "\n",
    "        # Pass the remaining logs to `TensorBoard.on_epoch_end`\n",
    "        logs = {k: v for k, v in logs.items() if not k.startswith('val_')}\n",
    "        super(TrainValTensorBoard, self).on_epoch_end(epoch, logs)\n",
    "\n",
    "    def on_train_end(self, logs=None):\n",
    "        super(TrainValTensorBoard, self).on_train_end(logs)\n",
    "        self.val_writer.close()\n",
    "\n",
    "\n",
    "def model_file():\n",
    "    t = dtime.now().strftime('%Y-%m-%d_%H:%M:%S')\n",
    "    return str(MODELS/f\"UnetModel_{t}.h5\")"
   ]
  },
  {
   "cell_type": "code",
   "execution_count": 80,
   "metadata": {
    "ExecuteTime": {
     "end_time": "2018-08-08T16:25:21.820719Z",
     "start_time": "2018-08-08T16:25:21.667744Z"
    }
   },
   "outputs": [
    {
     "name": "stdout",
     "output_type": "stream",
     "text": [
      "[1. 0. 1. 1. 1. 1.]\n"
     ]
    }
   ],
   "source": [
    "import keras\n",
    "from keras import backend as K\n",
    "\n",
    "def threshold_binary_accuracy(y_true, y_pred):\n",
    "    threshold = 0.8\n",
    "    if K.backend() == 'tensorflow':\n",
    "        return K.mean(K.equal(y_true, K.tf.cast(K.less(y_pred,threshold), y_true.dtype)))\n",
    "    else:\n",
    "        return K.mean(K.equal(y_true, K.lesser(y_pred,threshold)))\n",
    "\n",
    "a_pred = K.variable([.1, 0.04, .6, .79, .8, .9])\n",
    "\n",
    "\n",
    "\n",
    "def threshold_binarize(x, threshold=0.1):\n",
    "    greater = K.greater_equal(x, K.constant(threshold))\n",
    "    return K.cast(greater, dtype=K.floatx())\n",
    "\n",
    "print( K.eval(threshold_binarize(a_pred)))\n"
   ]
  },
  {
   "cell_type": "code",
   "execution_count": 81,
   "metadata": {
    "ExecuteTime": {
     "end_time": "2018-08-08T16:25:22.431139Z",
     "start_time": "2018-08-08T16:25:22.387638Z"
    }
   },
   "outputs": [],
   "source": [
    "from functools import partial\n",
    "\n",
    "from keras.layers import Input, LeakyReLU, Add, UpSampling3D, Activation, SpatialDropout3D, Conv3D\n",
    "from keras.engine import Model\n",
    "from keras.optimizers import Adam\n",
    "\n",
    "\n",
    "from unet3d import *\n",
    "from unet3d.utils.patches import *\n",
    "from unet3d.metrics import *\n",
    "from unet3d.model import *\n",
    "from unet3d.generator import *\n",
    "from unet3d.training import *\n",
    "from unet3d.augment import *\n",
    "from brats.preprocess import *\n",
    "\n",
    "from unet3d.model.unet import create_convolution_block, concatenate\n",
    "from unet3d.metrics import weighted_dice_coefficient_loss\n",
    "\n",
    "\n",
    "create_convolution_block = partial(create_convolution_block, activation=LeakyReLU, instance_normalization=True)\n",
    "\n",
    "def isensee2017_model(input_shape=(4, 128, 128, 128), n_base_filters=16, depth=5, dropout_rate=0.3,\n",
    "                      n_segmentation_levels=3, n_labels=4, optimizer=Adam, initial_learning_rate=5e-4,\n",
    "                      loss_function=weighted_dice_coefficient_loss, activation_name=\"sigmoid\"):\n",
    "    \"\"\"\n",
    "    This function builds a model proposed by Isensee et al. for the BRATS 2017 competition:\n",
    "    https://www.cbica.upenn.edu/sbia/Spyridon.Bakas/MICCAI_BraTS/MICCAI_BraTS_2017_proceedings_shortPapers.pdf\n",
    "\n",
    "    This network is highly similar to the model proposed by Kayalibay et al. \"CNN-based Segmentation of Medical\n",
    "    Imaging Data\", 2017: https://arxiv.org/pdf/1701.03056.pdf\n",
    "\n",
    "\n",
    "    :param input_shape:\n",
    "    :param n_base_filters:\n",
    "    :param depth:\n",
    "    :param dropout_rate:\n",
    "    :param n_segmentation_levels:\n",
    "    :param n_labels:\n",
    "    :param optimizer:\n",
    "    :param initial_learning_rate:\n",
    "    :param loss_function:\n",
    "    :param activation_name:\n",
    "    :return:\n",
    "    \"\"\"\n",
    "    inputs = Input(input_shape)\n",
    "\n",
    "    current_layer = inputs\n",
    "    level_output_layers = list()\n",
    "    level_filters = list()\n",
    "    for level_number in range(depth):\n",
    "        n_level_filters = (2**level_number) * n_base_filters\n",
    "        level_filters.append(n_level_filters)\n",
    "\n",
    "        if current_layer is inputs:\n",
    "            in_conv = create_convolution_block(current_layer, n_level_filters)\n",
    "        else:\n",
    "            in_conv = create_convolution_block(current_layer, n_level_filters, strides=(2, 2, 2))\n",
    "\n",
    "        context_output_layer = create_context_module(in_conv, n_level_filters, dropout_rate=dropout_rate)\n",
    "\n",
    "        summation_layer = Add()([in_conv, context_output_layer])\n",
    "        level_output_layers.append(summation_layer)\n",
    "        current_layer = summation_layer\n",
    "\n",
    "    segmentation_layers = list()\n",
    "    for level_number in range(depth - 2, -1, -1):\n",
    "        up_sampling = create_up_sampling_module(current_layer, level_filters[level_number])\n",
    "        concatenation_layer = concatenate([level_output_layers[level_number], up_sampling], axis=1)\n",
    "        localization_output = create_localization_module(concatenation_layer, level_filters[level_number])\n",
    "        current_layer = localization_output\n",
    "        if level_number < n_segmentation_levels:\n",
    "            segmentation_layers.insert(0, Conv3D(n_labels, (1, 1, 1))(current_layer))\n",
    "\n",
    "    output_layer = None\n",
    "    for level_number in reversed(range(n_segmentation_levels)):\n",
    "        segmentation_layer = segmentation_layers[level_number]\n",
    "        if output_layer is None:\n",
    "            output_layer = segmentation_layer\n",
    "        else:\n",
    "            output_layer = Add()([output_layer, segmentation_layer])\n",
    "\n",
    "        if level_number > 0:\n",
    "            output_layer = UpSampling3D(size=(2, 2, 2))(output_layer)\n",
    "\n",
    "    activation_block = Activation(activation_name)(output_layer)\n",
    "\n",
    "    model = Model(inputs=inputs, outputs=activation_block)\n",
    "    model.compile(optimizer=optimizer(lr=initial_learning_rate), loss=loss_function)\n",
    "    return model\n",
    "\n",
    "\n",
    "def create_localization_module(input_layer, n_filters):\n",
    "    convolution1 = create_convolution_block(input_layer, n_filters)\n",
    "    convolution2 = create_convolution_block(convolution1, n_filters, kernel=(1, 1, 1))\n",
    "    return convolution2\n",
    "\n",
    "\n",
    "def create_up_sampling_module(input_layer, n_filters, size=(2, 2, 2)):\n",
    "    up_sample = UpSampling3D(size=size)(input_layer)\n",
    "    convolution = create_convolution_block(up_sample, n_filters)\n",
    "    return convolution\n",
    "\n",
    "\n",
    "def create_context_module(input_layer, n_level_filters, dropout_rate=0.3, data_format=\"channels_first\"):\n",
    "    convolution1 = create_convolution_block(input_layer=input_layer, n_filters=n_level_filters)\n",
    "    dropout = SpatialDropout3D(rate=dropout_rate, data_format=data_format)(convolution1)\n",
    "    convolution2 = create_convolution_block(input_layer=dropout, n_filters=n_level_filters)\n",
    "    return convolution2"
   ]
  },
  {
   "cell_type": "code",
   "execution_count": 34,
   "metadata": {
    "ExecuteTime": {
     "end_time": "2018-08-06T23:56:31.158464Z",
     "start_time": "2018-08-06T23:56:30.122843Z"
    }
   },
   "outputs": [],
   "source": [
    "UnetModel = isensee2017_model(input_shape=(1,64,64,64),n_labels=1)"
   ]
  },
  {
   "cell_type": "code",
   "execution_count": 82,
   "metadata": {
    "ExecuteTime": {
     "end_time": "2018-08-08T16:25:24.530394Z",
     "start_time": "2018-08-08T16:25:24.491649Z"
    }
   },
   "outputs": [
    {
     "data": {
      "text/plain": [
       "['UnetModel_2018-08-08_15:15:51.h5.h5',\n",
       " 'UnetModel_2018-08-08_14:57:17.h5',\n",
       " 'UnetModel-2018-07-25_00:48:12.h5',\n",
       " 'UnetModel-2018-07-25_12:25:18.h5',\n",
       " 'UnetModel_2018-07-25_14:26:40.h5',\n",
       " 'UnetModel-2018-07-22_00:48:44.h5',\n",
       " 'UnetModel-2018-07-22_01:03:07.h5',\n",
       " 'UnetModel-2018-07-25_00:09:21.h5',\n",
       " 'UnetModel-2018-07-21_23:30:08.h5',\n",
       " 'UnetModel-2018-07-22_00:46:24.h5',\n",
       " 'UnetModel-2018-07-25_11:05:23.h5',\n",
       " 'UnetModel_2018-07-25_13:05:58.h5',\n",
       " 'UnetModel_83-epochs_2018-07-25_11:03:04.h5',\n",
       " 'UnetModel_2018-07-26_02:16:03.h5',\n",
       " 'UnetModel-2018-07-22_00:37:11.h5',\n",
       " 'UnetModel-2018-07-22_00:43:00.h5',\n",
       " 'UnetModel-2018-07-25_00:01:26.h5',\n",
       " 'UnetModel-2018-07-22_02:28:41.h5',\n",
       " 'UnetModel-2018-07-22_00:57:57.h5',\n",
       " 'UnetModel_2018-07-25_14:26:58.h5',\n",
       " 'UnetModel_2018-07-25_14:26:30.h5',\n",
       " 'UnetModel_2018-08-08_15:19:13.h5.h5']"
      ]
     },
     "execution_count": 82,
     "metadata": {},
     "output_type": "execute_result"
    }
   ],
   "source": [
    "models = [Path(m).name for m in (gb.glob(str(MODELS/'UnetModel*.h5')))]\n",
    "models"
   ]
  },
  {
   "cell_type": "code",
   "execution_count": 83,
   "metadata": {
    "ExecuteTime": {
     "end_time": "2018-08-08T16:25:31.328975Z",
     "start_time": "2018-08-08T16:25:29.090697Z"
    }
   },
   "outputs": [
    {
     "name": "stdout",
     "output_type": "stream",
     "text": [
      "Loading pre-trained model\n"
     ]
    }
   ],
   "source": [
    "UnetModel = load_old_model(MODELS/models[-1])\n",
    "#UnetModel = load_old_model(MODELS/'UnetModel_83-epochs_2018-07-25_11:03:04.h5')"
   ]
  },
  {
   "cell_type": "code",
   "execution_count": 84,
   "metadata": {
    "ExecuteTime": {
     "end_time": "2018-08-08T16:25:32.380261Z",
     "start_time": "2018-08-08T16:25:32.340438Z"
    }
   },
   "outputs": [],
   "source": [
    "from keras import backend as K\n",
    "from keras.engine.topology import Layer\n",
    "from keras.layers import ThresholdedReLU\n",
    "import numpy as np\n",
    "\n",
    "class ThresholdedBinarize(Layer):\n",
    "    def __init__(self, theta=0.1, **kwargs):\n",
    "        super(ThresholdedBinarize, self).__init__(**kwargs)\n",
    "        self.theta = K.cast_to_floatx(theta)\n",
    "\n",
    "    def build(self, input_shape):\n",
    "        super(ThresholdedBinarize, self).build(input_shape)\n",
    "        self.trainable = False\n",
    "\n",
    "    def call(self, inputs):\n",
    "        #return inputs * K.cast(K.greater(inputs, self.theta), K.floatx())\n",
    "        return (inputs * 0)  +  K.cast(K.greater(inputs, self.theta), dtype=K.floatx())\n",
    "\n",
    "    def compute_output_shape(self, input_shape):\n",
    "        return input_shape\n",
    "    \n",
    "    def get_config(self):\n",
    "        config = {'theta': float(self.theta)}\n",
    "        base_config = super(ThresholdedBinarize, self).get_config()\n",
    "        return dict(list(base_config.items()) + list(config.items()))"
   ]
  },
  {
   "cell_type": "code",
   "execution_count": 85,
   "metadata": {
    "ExecuteTime": {
     "end_time": "2018-08-08T16:25:34.664633Z",
     "start_time": "2018-08-08T16:25:34.620552Z"
    }
   },
   "outputs": [],
   "source": [
    "training_gen = DataGen(PATCHES,mode=0)\n",
    "validation_gen = DataGen(PATCHES,mode=1)"
   ]
  },
  {
   "cell_type": "code",
   "execution_count": 88,
   "metadata": {
    "ExecuteTime": {
     "end_time": "2018-08-08T16:26:09.022071Z",
     "start_time": "2018-08-08T16:26:08.981746Z"
    }
   },
   "outputs": [],
   "source": [
    "test_training_gen = DataGen(TEST_PRO,mode=0)\n",
    "test_validation_gen = DataGen(TEST_PRO,mode=1)\n",
    "all_test_data_gen = DataGen(TEST_PRO,mode=3)"
   ]
  },
  {
   "cell_type": "code",
   "execution_count": 87,
   "metadata": {
    "ExecuteTime": {
     "end_time": "2018-08-08T16:25:37.963956Z",
     "start_time": "2018-08-08T16:25:37.923999Z"
    }
   },
   "outputs": [],
   "source": [
    "# UnetModel = train_model(UnetModel,model_file(),\n",
    "#                         training_generator=training_gen,\n",
    "#                         validation_generator=validation_gen,\n",
    "#                         steps_per_epoch=get_number_of_steps(n_samples=len(training_gen), batch_size=1),\n",
    "#                         validation_steps=get_number_of_steps(n_samples=len(validation_gen), batch_size=1),\n",
    "#                         n_epochs=1\n",
    "#                        )"
   ]
  },
  {
   "cell_type": "code",
   "execution_count": 138,
   "metadata": {
    "ExecuteTime": {
     "end_time": "2018-08-08T13:18:52.420665Z",
     "start_time": "2018-08-08T13:18:51.868642Z"
    },
    "deletable": false,
    "editable": false,
    "run_control": {
     "frozen": true
    }
   },
   "outputs": [
    {
     "name": "stdout",
     "output_type": "stream",
     "text": [
      "_________________________________________________________________\n",
      "Layer (type)                 Output Shape              Param #   \n",
      "=================================================================\n",
      "model_2 (Model)              (None, 1, 64, 64, 64)     8268035   \n",
      "_________________________________________________________________\n",
      "thresholded_binarize_13 (Thr (None, 1, 64, 64, 64)     0         \n",
      "=================================================================\n",
      "Total params: 8,268,035\n",
      "Trainable params: 8,268,035\n",
      "Non-trainable params: 0\n",
      "_________________________________________________________________\n"
     ]
    }
   ],
   "source": [
    "NewUnet = keras.Sequential()\n",
    "NewUnet.add(UnetModel)\n",
    "NewUnet.add(ThresholdedBinarize(theta=0.1))\n",
    "#NewUnet.add(keras.layers.Lambda(lambda x: threshold_binarize(x),trainable=False))\n",
    "#UnetModel = NewUnet\n",
    "NewUnet.compile(optimizer=Adam(lr=5e-4), loss=weighted_dice_coefficient_loss)\n",
    "NewUnet.summary()"
   ]
  },
  {
   "cell_type": "code",
   "execution_count": 103,
   "metadata": {
    "ExecuteTime": {
     "end_time": "2018-08-08T13:04:56.337841Z",
     "start_time": "2018-08-08T12:57:17.279763Z"
    },
    "deletable": false,
    "editable": false,
    "run_control": {
     "frozen": true
    }
   },
   "outputs": [
    {
     "name": "stdout",
     "output_type": "stream",
     "text": [
      "Epoch 1/1\n",
      "1448/1448 [==============================] - 450s 311ms/step - loss: -0.8103 - val_loss: -0.7411\n"
     ]
    }
   ],
   "source": [
    "NewUnet = train_model(NewUnet,model_file(),\n",
    "                        training_generator=training_gen,\n",
    "                        validation_generator=validation_gen,\n",
    "                        steps_per_epoch=get_number_of_steps(n_samples=len(training_gen), batch_size=1),\n",
    "                        validation_steps=get_number_of_steps(n_samples=len(validation_gen), batch_size=1),\n",
    "                        n_epochs=1\n",
    "                       )"
   ]
  },
  {
   "cell_type": "code",
   "execution_count": 107,
   "metadata": {
    "ExecuteTime": {
     "end_time": "2018-08-08T13:06:50.150013Z",
     "start_time": "2018-08-08T13:06:50.110691Z"
    }
   },
   "outputs": [],
   "source": [
    "# # Save model\n",
    "# t = dtime.now().strftime('%Y-%m-%d_%H:%M:%S')\n",
    "# e = len(UnetModel.history.epoch)\n",
    "# UnetModel.save(str(MODELS / f\"UnetModel_{e}-epochs_{t}.h5\"))"
   ]
  },
  {
   "cell_type": "code",
   "execution_count": 139,
   "metadata": {
    "ExecuteTime": {
     "end_time": "2018-08-08T13:19:26.383250Z",
     "start_time": "2018-08-08T13:19:13.236999Z"
    }
   },
   "outputs": [],
   "source": [
    "NewUnet.save(str(MODELS / f\"{model_file()}\"))"
   ]
  },
  {
   "cell_type": "code",
   "execution_count": 89,
   "metadata": {
    "ExecuteTime": {
     "end_time": "2018-08-08T16:26:16.293092Z",
     "start_time": "2018-08-08T16:26:14.053670Z"
    }
   },
   "outputs": [
    {
     "name": "stdout",
     "output_type": "stream",
     "text": [
      "Loading pre-trained model\n"
     ]
    }
   ],
   "source": [
    "NewUnet = load_old_model(MODELS/models[-1])"
   ]
  },
  {
   "cell_type": "code",
   "execution_count": 90,
   "metadata": {
    "ExecuteTime": {
     "end_time": "2018-08-08T16:26:16.321125Z",
     "start_time": "2018-08-08T16:26:16.294581Z"
    }
   },
   "outputs": [
    {
     "name": "stdout",
     "output_type": "stream",
     "text": [
      "_________________________________________________________________\n",
      "Layer (type)                 Output Shape              Param #   \n",
      "=================================================================\n",
      "model_2 (Model)              (None, 1, 64, 64, 64)     8268035   \n",
      "_________________________________________________________________\n",
      "thresholded_binarize_13 (Thr (None, 1, 64, 64, 64)     0         \n",
      "=================================================================\n",
      "Total params: 8,268,035\n",
      "Trainable params: 8,268,035\n",
      "Non-trainable params: 0\n",
      "_________________________________________________________________\n"
     ]
    }
   ],
   "source": [
    "NewUnet.summary()"
   ]
  },
  {
   "cell_type": "code",
   "execution_count": 91,
   "metadata": {
    "ExecuteTime": {
     "end_time": "2018-08-08T16:26:20.178375Z",
     "start_time": "2018-08-08T16:26:20.134648Z"
    },
    "code_folding": [],
    "scrolled": false
   },
   "outputs": [],
   "source": [
    "class DataBrowser():\n",
    "    def __init__(self,model,gen):\n",
    "        self.gen = gen\n",
    "        self.model = model\n",
    "        plt.rc('font', size=14)  \n",
    "        \n",
    "    def __len__(self):\n",
    "        return len(self.gen)\n",
    "        \n",
    "    def get_x(self,patch_idx):\n",
    "        return self.gen[patch_idx][0]\n",
    "    \n",
    "    def get_y(self,patch_idx):\n",
    "        return self.gen[patch_idx][1]\n",
    "    @jit\n",
    "    def get_predicted_y(self,patch_idx):\n",
    "        predicted_y = self.model.predict(self.get_x(patch_idx))\n",
    "        return predicted_y\n",
    "    \n",
    "    def show_x(self,patch_idx,slice_id):\n",
    "        plt.imshow(self.get_x(patch_idx)[0][0][slice_id])\n",
    "        \n",
    "    def show_y(self,patch_idx,slice_id):\n",
    "        plt.imshow(self.get_y(patch_idx)[0][0][slice_id])\n",
    "        \n",
    "    def show_predicted_y(self,patch_idx,slice_id):\n",
    "        plt.imshow(self.get_predicted_y(patch_idx)[0][0][slice_id])\n",
    "    \n",
    "\n",
    "    def show_block(self,patch_idx,slice_id):\n",
    "        f = plt.figure(figsize=(20,10))\n",
    "        \n",
    "        #f = plt.figure()\n",
    "        f.add_subplot(1,3, 1)\n",
    "        plt.title(f\"CT Image   slice: ({slice_id})\")\n",
    "        plt.imshow(self.get_x(patch_idx)[0][0][slice_id])\n",
    "        \n",
    "        f.add_subplot(1,3, 2)\n",
    "        plt.title(f\"Ground truth mask   slice: ({slice_id})\")\n",
    "        plt.imshow(self.get_y(patch_idx)[0][0][slice_id])\n",
    "        \n",
    "        f.add_subplot(1,3, 3)\n",
    "        plt.title(f\"Predicted Mask   slice: ({slice_id})\")\n",
    "        plt.imshow(self.get_predicted_y(patch_idx)[0][0][slice_id])\n",
    "\n",
    "def model_browser(data_browser):\n",
    "    print(len(data_browser))\n",
    "    def show_block(patch_idx,slice_id):\n",
    "        data_browser.show_block(patch_idx,slice_id)\n",
    "    interact(show_block,\n",
    "             patch_idx=widgets.IntSlider(min=0,max=len(data_browser)-1,step=1,layout=layout,value=159),\n",
    "             slice_id=widgets.IntSlider(min=0,max=63,step=1,layout=layout,value=63)\n",
    "            )"
   ]
  },
  {
   "cell_type": "code",
   "execution_count": 92,
   "metadata": {
    "ExecuteTime": {
     "end_time": "2018-08-08T16:26:24.478618Z",
     "start_time": "2018-08-08T16:26:23.125634Z"
    },
    "scrolled": false
   },
   "outputs": [
    {
     "name": "stdout",
     "output_type": "stream",
     "text": [
      "362\n"
     ]
    },
    {
     "data": {
      "application/vnd.jupyter.widget-view+json": {
       "model_id": "d7921dec45064b4894bf841c54eea704",
       "version_major": 2,
       "version_minor": 0
      },
      "text/plain": [
       "interactive(children=(IntSlider(value=159, description='patch_idx', layout=Layout(width='90%'), max=361), IntS…"
      ]
     },
     "metadata": {},
     "output_type": "display_data"
    }
   ],
   "source": [
    "db = DataBrowser(NewUnet,validation_gen)\n",
    "model_browser(db)\n",
    "# # patch 221\n",
    "# print(np.shape(db.get_x(1)))\n",
    "# print(UnetModel.input_shape)\n",
    "# x =np.array(db.get_y(159))\n",
    "# print(np.shape(x))\n",
    "# UnetModel.predict(x)\n",
    "#print(np.shape())\n",
    "#np.unique( NewUnet.predict(db.get_x(159)))\n",
    "\n",
    "#db.get_predicted_y(1)"
   ]
  },
  {
   "cell_type": "code",
   "execution_count": 93,
   "metadata": {
    "ExecuteTime": {
     "end_time": "2018-08-08T16:26:55.024651Z",
     "start_time": "2018-08-08T16:26:54.610040Z"
    },
    "scrolled": false
   },
   "outputs": [
    {
     "name": "stdout",
     "output_type": "stream",
     "text": [
      "135\n"
     ]
    },
    {
     "data": {
      "application/vnd.jupyter.widget-view+json": {
       "model_id": "df286cdf0a944ccf88d1fd0b1749b8b1",
       "version_major": 2,
       "version_minor": 0
      },
      "text/plain": [
       "interactive(children=(IntSlider(value=134, description='patch_idx', layout=Layout(width='90%'), max=134), IntS…"
      ]
     },
     "metadata": {},
     "output_type": "display_data"
    }
   ],
   "source": [
    "model_browser(DataBrowser(NewUnet,all_test_data_gen))"
   ]
  },
  {
   "cell_type": "code",
   "execution_count": null,
   "metadata": {},
   "outputs": [],
   "source": [
    "reconstruct_from_patches()"
   ]
  },
  {
   "cell_type": "code",
   "execution_count": null,
   "metadata": {
    "ExecuteTime": {
     "start_time": "2018-08-08T15:32:49.716Z"
    },
    "scrolled": true
   },
   "outputs": [],
   "source": [
    "def make_gif(patch_idx,from_slice,to_slice):\n",
    "    for slice_id in range(from_slice,to_slice):\n",
    "        db.show_block(patch_idx=patch_idx,slice_id=slice_id)\n",
    "        plt.savefig(str(GRAPHS/f\"block_{patch_idx}_{slice_id}.png\"),bbox_inches='tight')\n",
    "\n",
    "    pngs = [m for m in sorted(gb.glob(str(GRAPHS/f\"block_{patch_idx}_*.png\")))]\n",
    "    images = [imageio.imread(png) for png in pngs]\n",
    "    gif_name = str(GRAPHS/f\"patch_{patch_idx}.gif\")\n",
    "    imageio.mimsave(gif_name, images,duration=0.25)\n",
    "    Image.open(gif_name)\n",
    "    \n",
    "\n",
    "\n",
    "#make_gif(patch_idx=159,from_slice=25,to_slice=63)\n",
    "#make_gif(patch_idx=221,from_slice=18,to_slice=31)\n",
    "#make_gif(patch_idx=260,from_slice=12,to_slice=41)\n",
    "#make_gif(patch_idx=258,from_slice=28,to_slice=50)"
   ]
  },
  {
   "cell_type": "code",
   "execution_count": 111,
   "metadata": {
    "ExecuteTime": {
     "end_time": "2018-08-08T13:07:32.074187Z",
     "start_time": "2018-08-08T13:07:31.692424Z"
    }
   },
   "outputs": [
    {
     "data": {
      "text/plain": [
       "Text(0.5,0,'epochs')"
      ]
     },
     "execution_count": 111,
     "metadata": {},
     "output_type": "execute_result"
    },
    {
     "data": {
      "image/png": "[encoded data removed]",
      "text/plain": [
       "<Figure size 1080x504 with 1 Axes>"
      ]
     },
     "metadata": {},
     "output_type": "display_data"
    },
    {
     "data": {
      "image/png": "[encoded data removed]",
      "text/plain": [
       "<Figure size 1080x504 with 1 Axes>"
      ]
     },
     "metadata": {},
     "output_type": "display_data"
    }
   ],
   "source": [
    "\n",
    "df = pd.read_csv(\"training.log\")\n",
    "\n",
    "df = df.drop(range(0,20))\n",
    "df = df.reset_index()\n",
    "\n",
    "df = df.drop(['epoch'], axis=1)\n",
    "\n",
    "df -= df.min()\n",
    "df /= df.max()\n",
    "\n",
    "# df = df.resample('S')\n",
    "# df = df.interpolate(method='cubic')\n",
    "\n",
    "df.columns=[\"epochs\",\"Training accuracy\",\"Training loss\",\"Validation accuracy\",\"Validation loss\"]\n",
    "\n",
    "\n",
    "params = {\n",
    "    'grid':True,\n",
    "    #'lw':2,\n",
    "    'colormap':'jet',\n",
    "    #'marker':'.',\n",
    "    #'markersize':10,\n",
    "    'figsize':(15,7),\n",
    "#    'title':'Training accuracy vs loss'\n",
    "}\n",
    "\n",
    "ax = df[[\"Training loss\",\"Validation loss\"]].plot(title=\"Training & Validation loss\", **params)\n",
    "ax.set_xlabel(\"epochs\")\n",
    "ax = df[[\"Training accuracy\",\"Validation accuracy\"]].plot(title=\"Training & Validation accuracy\", **params)\n",
    "ax.set_xlabel(\"epochs\")"
   ]
  },
  {
   "cell_type": "code",
   "execution_count": 36,
   "metadata": {
    "ExecuteTime": {
     "end_time": "2018-07-30T10:16:06.405230Z",
     "start_time": "2018-07-30T10:16:05.766452Z"
    }
   },
   "outputs": [
    {
     "name": "stdout",
     "output_type": "stream",
     "text": [
      "448\n"
     ]
    },
    {
     "data": {
      "image/png": "[encoded data removed]",
      "text/plain": [
       "<Figure size 936x720 with 1 Axes>"
      ]
     },
     "metadata": {},
     "output_type": "display_data"
    }
   ],
   "source": [
    "patient = 1 # 1\n",
    "\n",
    "ct = get_ct_by_index(patient)\n",
    "mask = get_mask_by_index(patient)\n",
    "\n",
    "image_shape = np.shape(ct)\n",
    "patch_shape = 64\n",
    "overlap = 32\n",
    "\n",
    "def patches_number(image_shape,patch_shape,overlap):\n",
    "    return len(compute_patch_indices(image_shape, patch_shape, overlap, start=None))\n",
    "\n",
    "\n",
    "plt.rc('font', size=14)\n",
    "f = plt.figure(figsize=(13,10))\n",
    "p = [patches_number(image_shape,patch_shape,overlap) for overlap in range(48)]\n",
    "\n",
    "print(p[0])\n",
    "\n",
    "plt.plot(p)\n",
    "\n",
    "plt.grid()\n",
    "plt.title(f\"Image dimantions {image_shape}, Patches dimantions {patch_shape,patch_shape,patch_shape}\")\n",
    "plt.ylabel('Patches number')\n",
    "plt.xlabel('Overlap')\n",
    "plt.show()\n"
   ]
  },
  {
   "cell_type": "code",
   "execution_count": 160,
   "metadata": {
    "ExecuteTime": {
     "end_time": "2018-08-08T17:36:20.364046Z",
     "start_time": "2018-08-08T17:34:16.227496Z"
    }
   },
   "outputs": [
    {
     "name": "stdout",
     "output_type": "stream",
     "text": [
      "Case: A038_1\n",
      "patches: (64, 64, 64, 64)\n",
      "mask_patches: (64, 64, 64, 64)\n",
      "None\n",
      "Saved: /media/amer/BigDisk/testdata_predictions/A038_1\n",
      "Case: A038_2\n",
      "patches: (64, 64, 64, 64)\n",
      "mask_patches: (64, 64, 64, 64)\n",
      "None\n",
      "Saved: /media/amer/BigDisk/testdata_predictions/A038_2\n",
      "Case: A038_3\n",
      "patches: (64, 64, 64, 64)\n",
      "mask_patches: (64, 64, 64, 64)\n",
      "None\n",
      "Saved: /media/amer/BigDisk/testdata_predictions/A038_3\n",
      "Case: A059_1\n",
      "patches: (64, 64, 64, 64)\n",
      "mask_patches: (64, 64, 64, 64)\n",
      "None\n",
      "Saved: /media/amer/BigDisk/testdata_predictions/A059_1\n",
      "Case: A059_2\n",
      "patches: (64, 64, 64, 64)\n",
      "mask_patches: (64, 64, 64, 64)\n",
      "None\n",
      "Saved: /media/amer/BigDisk/testdata_predictions/A059_2\n",
      "Case: A062\n",
      "patches: (64, 64, 64, 64)\n",
      "mask_patches: (64, 64, 64, 64)\n",
      "None\n",
      "Saved: /media/amer/BigDisk/testdata_predictions/A062\n",
      "Case: A078_1\n",
      "patches: (64, 64, 64, 64)\n",
      "mask_patches: (64, 64, 64, 64)\n",
      "None\n",
      "Saved: /media/amer/BigDisk/testdata_predictions/A078_1\n",
      "Case: A078_2\n",
      "patches: (64, 64, 64, 64)\n",
      "mask_patches: (64, 64, 64, 64)\n",
      "None\n",
      "Saved: /media/amer/BigDisk/testdata_predictions/A078_2\n",
      "Case: A094_1\n",
      "patches: (64, 64, 64, 64)\n",
      "mask_patches: (64, 64, 64, 64)\n",
      "None\n",
      "Saved: /media/amer/BigDisk/testdata_predictions/A094_1\n",
      "Case: A094_2\n",
      "patches: (64, 64, 64, 64)\n",
      "mask_patches: (64, 64, 64, 64)\n",
      "None\n",
      "Saved: /media/amer/BigDisk/testdata_predictions/A094_2\n",
      "Case: A096_1\n",
      "patches: (64, 64, 64, 64)\n",
      "mask_patches: (64, 64, 64, 64)\n",
      "None\n",
      "Saved: /media/amer/BigDisk/testdata_predictions/A096_1\n",
      "Case: A096_2\n",
      "patches: (64, 64, 64, 64)\n",
      "mask_patches: (64, 64, 64, 64)\n",
      "None\n",
      "Saved: /media/amer/BigDisk/testdata_predictions/A096_2\n",
      "Case: A105_1\n",
      "patches: (64, 64, 64, 64)\n",
      "mask_patches: (64, 64, 64, 64)\n",
      "None\n",
      "Saved: /media/amer/BigDisk/testdata_predictions/A105_1\n",
      "Case: A105_2\n",
      "patches: (64, 64, 64, 64)\n",
      "mask_patches: (64, 64, 64, 64)\n",
      "None\n",
      "Saved: /media/amer/BigDisk/testdata_predictions/A105_2\n"
     ]
    }
   ],
   "source": [
    "def get_img(index):\n",
    "    return dcm.read_file(str(test_imgs[index])).pixel_array\n",
    "\n",
    "def get_mask(index):\n",
    "    pa = dcm.read_file(str(test_masks[index])).pixel_array.copy()\n",
    "    pa[pa > 0] = 1\n",
    "    return pa\n",
    "\n",
    "def normalize_img(x):\n",
    "        return (x - x.min()) / (x.max() - x.min())\n",
    "\n",
    "for i in range(len(test_imgs)):\n",
    "    case_name = test_imgs[i].stem\n",
    "    print(f\"Case: {test_imgs[i].stem}\")\n",
    "    img = normalize_img(get_img(i))\n",
    "    mask = get_mask(i)\n",
    "\n",
    "    image_shape = np.shape(img)\n",
    "    patch_shape = (64,64,64)\n",
    "    overlap = 0\n",
    "    patch_indices = compute_patch_indices(image_shape, patch_shape, overlap, start=None)\n",
    "\n",
    "    patches = np.array([get_patch_from_3d_data(img, patch_shape, patch_index) for patch_index in patch_indices])\n",
    "    print(f\"patches: {np.shape(patches)}\")\n",
    "    mask_patches = np.array([UnetModel.predict([[[p]]]) for p in patches])\n",
    "    mask_patches = mask_patches.reshape((64, 64, 64, 64))\n",
    "    print(f\"mask_patches: {np.shape(mask_patches)}\")\n",
    "\n",
    "    predected_mask = reconstruct_from_patches(mask_patches, patch_indices, image_shape, default_value=0)\n",
    "    np.save( str(TESTDATA_PREDICTIONS/case_name), predected_mask )\n",
    "    print(f\"Saved: {TESTDATA_PREDICTIONS/case_name}.npy\")"
   ]
  },
  {
   "cell_type": "code",
   "execution_count": 161,
   "metadata": {
    "ExecuteTime": {
     "end_time": "2018-08-08T17:36:20.391975Z",
     "start_time": "2018-08-08T17:36:20.365482Z"
    }
   },
   "outputs": [
    {
     "data": {
      "text/plain": [
       "((220, 256, 256), (220, 256, 256))"
      ]
     },
     "execution_count": 161,
     "metadata": {},
     "output_type": "execute_result"
    }
   ],
   "source": [
    "np.shape(predected_mask),np.shape(mask)"
   ]
  },
  {
   "cell_type": "code",
   "execution_count": 163,
   "metadata": {
    "ExecuteTime": {
     "end_time": "2018-08-08T17:37:10.951325Z",
     "start_time": "2018-08-08T17:37:10.880324Z"
    }
   },
   "outputs": [
    {
     "data": {
      "text/plain": [
       "4051.0"
      ]
     },
     "execution_count": 163,
     "metadata": {},
     "output_type": "execute_result"
    }
   ],
   "source": [
    "np.sum(predected_mask - mask)"
   ]
  },
  {
   "cell_type": "code",
   "execution_count": 166,
   "metadata": {
    "ExecuteTime": {
     "end_time": "2018-08-08T17:38:12.317971Z",
     "start_time": "2018-08-08T17:38:12.258830Z"
    }
   },
   "outputs": [
    {
     "data": {
      "text/plain": [
       "(15989.0, 11938)"
      ]
     },
     "execution_count": 166,
     "metadata": {},
     "output_type": "execute_result"
    }
   ],
   "source": [
    "np.sum(predected_mask),np.sum(mask)"
   ]
  }
 ],
 "metadata": {
  "kernelspec": {
   "display_name": "fast",
   "language": "python",
   "name": "fast"
  },
  "language_info": {
   "codemirror_mode": {
    "name": "ipython",
    "version": 3
   },
   "file_extension": ".py",
   "mimetype": "text/x-python",
   "name": "python",
   "nbconvert_exporter": "python",
   "pygments_lexer": "ipython3",
   "version": "3.6.5"
  }
 },
 "nbformat": 4,
 "nbformat_minor": 2
}
