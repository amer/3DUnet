{
 "cells": [
  {
   "cell_type": "code",
   "execution_count": 1,
   "metadata": {
    "ExecuteTime": {
     "end_time": "2018-07-30T10:12:42.699649Z",
     "start_time": "2018-07-30T10:12:41.233150Z"
    }
   },
   "outputs": [
    {
     "data": {
      "text/html": [
       "<script>requirejs.config({paths: { 'plotly': ['https://cdn.plot.ly/plotly-latest.min']},});if(!window.Plotly) {{require(['plotly'],function(plotly) {window.Plotly=plotly;});}}</script>"
      ],
      "text/vnd.plotly.v1+html": [
       "<script>requirejs.config({paths: { 'plotly': ['https://cdn.plot.ly/plotly-latest.min']},});if(!window.Plotly) {{require(['plotly'],function(plotly) {window.Plotly=plotly;});}}</script>"
      ]
     },
     "metadata": {},
     "output_type": "display_data"
    },
    {
     "name": "stderr",
     "output_type": "stream",
     "text": [
      "Using TensorFlow backend.\n"
     ]
    }
   ],
   "source": [
    "%matplotlib inline\n",
    "%reload_ext autoreload\n",
    "%autoreload 2\n",
    "\n",
    "from IPython.display import HTML\n",
    "from IPython.display import FileLink, FileLinks\n",
    "import multiprocessing, logging\n",
    "mpl = multiprocessing.log_to_stderr()\n",
    "mpl.setLevel(logging.INFO)\n",
    "\n",
    "import os\n",
    "import sys\n",
    "import glob as gb\n",
    "import re\n",
    "from datetime import datetime as dtime\n",
    "from pathlib import Path\n",
    "from itertools import repeat\n",
    "import pickle\n",
    "from concurrent.futures import ThreadPoolExecutor\n",
    "\n",
    "import random\n",
    "\n",
    "import numpy as np\n",
    "import pandas as pd\n",
    "\n",
    "from PIL import Image\n",
    "import imageio\n",
    "\n",
    "from sklearn.preprocessing import MinMaxScaler\n",
    "from sklearn.preprocessing import scale\n",
    "\n",
    "from mlxtend.preprocessing import minmax_scaling\n",
    "\n",
    "from numba import jit\n",
    "\n",
    "\n",
    "import matplotlib\n",
    "import matplotlib.pyplot as plt\n",
    "import matplotlib.style\n",
    "import matplotlib as mpl\n",
    "import matplotlib.image as mpimg\n",
    "from matplotlib import cm\n",
    "from matplotlib.pyplot import savefig\n",
    "import matplotlib.animation as animation\n",
    "mpl.style.use('classic')\n",
    "\n",
    "import pydicom as dcm\n",
    "import pylab\n",
    "\n",
    "from __future__ import print_function\n",
    "from ipywidgets import interact, interactive, fixed, interact_manual, Layout\n",
    "import ipywidgets as widgets\n",
    "\n",
    "\n",
    "# from fastai.conv_learner import *\n",
    "# from fastai.dataset import *\n",
    "# from fastai.models.resnet import vgg_resnet50\n",
    "\n",
    "from pathlib import Path\n",
    "import json\n",
    "# torch.cuda.set_device(0)\n",
    "# torch.backends.cudnn.benchmark=True\n",
    "\n",
    "from numba import cuda\n",
    "\n",
    "import getpass\n",
    "import os\n",
    "\n",
    "from plotly.offline import download_plotlyjs, init_notebook_mode, plot, iplot\n",
    "import plotly.graph_objs as go\n",
    "\n",
    "init_notebook_mode(True)\n",
    "\n",
    "import keras\n",
    "from keras.utils.data_utils import Sequence\n",
    "from keras.callbacks import TensorBoard\n",
    "from keras.models import load_model\n",
    "\n",
    "import tensorflow as tf\n",
    "\n",
    "\n",
    "from sklearn import preprocessing\n",
    "import matplotlib.animation as animation\n",
    "\n",
    "# See https://stackoverflow.com/questions/14722540/smoothing-between-pixels-of-imagesc-imshow-in-matlab-like-the-matplotlib-imshow\n",
    "mpl.rcParams['image.interpolation'] = 'none' # default 'bilinear'\n",
    "\n",
    "layout=Layout(width='90%') # For ipywidgets\n",
    "\n",
    "plt.rcParams['figure.figsize']= [7.0, 7.0]\n",
    "\n",
    "#import ipdb; ipdb.set_trace()"
   ]
  },
  {
   "cell_type": "code",
   "execution_count": 2,
   "metadata": {
    "ExecuteTime": {
     "end_time": "2018-07-30T10:12:45.306083Z",
     "start_time": "2018-07-30T10:12:45.026293Z"
    }
   },
   "outputs": [],
   "source": [
    "from unet3d import *\n",
    "from unet3d.utils.patches import *\n",
    "from unet3d.metrics import *\n",
    "from unet3d.model import *\n",
    "from unet3d.generator import *\n",
    "from unet3d.training import *\n",
    "from unet3d.training import *\n",
    "from unet3d.augment import *\n",
    "from brats.preprocess import *"
   ]
  },
  {
   "cell_type": "code",
   "execution_count": 3,
   "metadata": {
    "ExecuteTime": {
     "end_time": "2018-07-30T10:12:45.329776Z",
     "start_time": "2018-07-30T10:12:45.307727Z"
    }
   },
   "outputs": [],
   "source": [
    "# Pathes\n",
    "HOME = Path.home()\n",
    "\n",
    "DATA = HOME / 'data/aneurysm'\n",
    "PATH = DATA\n",
    "\n",
    "BIGDISK = DATA / 'bigdisk'\n",
    "BIGDISK.mkdir(exist_ok=True)\n",
    "\n",
    "CT_DCM = DATA / 'ct-512'\n",
    "MASK_DCM = DATA / 'mask-512'\n",
    "\n",
    "PATCHES = BIGDISK/'Processed_data'\n",
    "PATCHES.mkdir(exist_ok=True)\n",
    "\n",
    "GRAPHS = DATA/'Graphs'\n",
    "GRAPHS.mkdir(exist_ok=True)\n",
    "\n",
    "MODELS = PATH/'models'\n",
    "MODELS.mkdir(exist_ok=True)\n",
    "\n",
    "TMP = DATA / 'tmp'"
   ]
  },
  {
   "cell_type": "code",
   "execution_count": 4,
   "metadata": {
    "ExecuteTime": {
     "end_time": "2018-07-30T10:12:45.527939Z",
     "start_time": "2018-07-30T10:12:45.491159Z"
    }
   },
   "outputs": [],
   "source": [
    "ct_dcms = np.array(sorted(list(CT_DCM.iterdir())))\n",
    "mask_dcms = np.array(sorted(list(MASK_DCM.iterdir())))"
   ]
  },
  {
   "cell_type": "code",
   "execution_count": 5,
   "metadata": {
    "ExecuteTime": {
     "end_time": "2018-07-30T10:12:45.793436Z",
     "start_time": "2018-07-30T10:12:45.754463Z"
    }
   },
   "outputs": [],
   "source": [
    "def dicom_shape(path):\n",
    "    name = path.stem\n",
    "    pixel_array = dcm.read_file(str(path)).pixel_array\n",
    "    return name,np.shape(pixel_array),pixel_array\n",
    "\n",
    "def first_nonempty_slice_index(tensor):\n",
    "    last = np.shape(tensor)[0]\n",
    "    for i in range(0,last):\n",
    "        max_val = np.max(tensor[i])\n",
    "        if max_val > 0:\n",
    "            return i\n",
    "        \n",
    "def last_nonempty_slice_index(tensor):\n",
    "    last = np.shape(tensor)[0]\n",
    "    for i in range(0,last)[::-1]:\n",
    "        max_val = np.max(tensor[i])\n",
    "        if max_val > 0:\n",
    "            return i\n",
    "\n",
    "def imshow(pixel_array):\n",
    "    pixel_array[pixel_array > 0] = 255\n",
    "    pixel_array = pixel_array.astype(np.uint8)\n",
    "    return Image.fromarray(pixel_array)\n",
    "\n",
    "def mask_dcm_to_png(path,target_dir,size=False):\n",
    "    name = path.stem\n",
    "    pixel_array = dcm.read_file(str(path)).pixel_array[:-2] # remove the last to layers\n",
    "    layers = np.shape(pixel_array)[0]\n",
    "    if size:\n",
    "        for i in range(layers):\n",
    "            clean_mask(pixel_array[i]).resize(size).save(str(target_dir/f\"{name}_{i}.png\"))\n",
    "    else:\n",
    "        for i in range(layers):\n",
    "            clean_mask(pixel_array[i]).save(str(target_dir/f\"{name}_{i}.png\"))\n",
    "    print(f\"{name}\",end=\", \")\n",
    "    \n",
    "def ct_dcm_to_png(path,target_dir,size=False):\n",
    "    name = path.stem\n",
    "    pixel_array = dcm.read_file(str(path)).pixel_array[:-2] # remove the last to layers\n",
    "    layers = np.shape(pixel_array)[0]\n",
    "    if size:\n",
    "        for i in range(layers):\n",
    "            Image.fromarray(pixel_array[i]).resize(size).save(str(target_dir/f\"{name}_{i}.png\"))\n",
    "    else:\n",
    "        for i in range(layers):\n",
    "            Image.fromarray(pixel_array[i]).save(str(target_dir/f\"{name}_{i}.png\"))\n",
    "    print(f\"{name}\",end=\", \")\n",
    "    \n",
    "def get_ct_by_index(index):\n",
    "    return dcm.read_file(str(ct_dcms[index])).pixel_array\n",
    "\n",
    "def get_mask_by_index(index):\n",
    "    pa = dcm.read_file(str(mask_dcms[index])).pixel_array.copy()\n",
    "    pa[pa > 0] = 1\n",
    "    return pa\n",
    "\n",
    "def chance(probability):\n",
    "    return random.random() < probability"
   ]
  },
  {
   "cell_type": "code",
   "execution_count": 6,
   "metadata": {
    "ExecuteTime": {
     "end_time": "2018-07-30T10:12:46.061375Z",
     "start_time": "2018-07-30T10:12:46.008561Z"
    }
   },
   "outputs": [],
   "source": [
    "@jit\n",
    "def get_patch_from_3d_data(data, patch_shape, patch_index):\n",
    "    \"\"\"\n",
    "    Returns a patch from a numpy array.\n",
    "    :param data: numpy array from which to get the patch.\n",
    "    :param patch_shape: shape/size of the patch.\n",
    "    :param patch_index: corner index of the patch.\n",
    "    :return: numpy array take from the data with the patch shape specified.\n",
    "    \"\"\"\n",
    "    patch_index = np.asarray(patch_index, dtype=np.int16)\n",
    "    patch_shape = np.asarray(patch_shape)\n",
    "    image_shape = data.shape[-3:]\n",
    "    if np.any(patch_index < 0) or np.any((patch_index + patch_shape) > image_shape):\n",
    "        data, patch_index = fix_out_of_bound_patch_attempt(data, patch_shape, patch_index)\n",
    "    return data[..., patch_index[0]:patch_index[0]+patch_shape[0], patch_index[1]:patch_index[1]+patch_shape[1],\n",
    "                patch_index[2]:patch_index[2]+patch_shape[2]]\n",
    "@jit\n",
    "def fix_data_shape(data, patch_shape, patch_index):\n",
    "    if np.any(patch_index < 0) or np.any((patch_index + patch_shape) > image_shape):\n",
    "        data, patch_index = fix_out_of_bound_patch_attempt(data, patch_shape, patch_index)\n",
    "        return data\n",
    "\n",
    "@jit\n",
    "def fix_out_of_bound_patch_attempt(data, patch_shape, patch_index, ndim=3):\n",
    "    \"\"\"\n",
    "    Pads the data and alters the patch index so that a patch will be correct.\n",
    "    :param data:\n",
    "    :param patch_shape:\n",
    "    :param patch_index:\n",
    "    :return: padded data, fixed patch index\n",
    "    \"\"\"\n",
    "    image_shape = data.shape[-ndim:]\n",
    "    pad_before = np.abs((patch_index < 0) * patch_index)\n",
    "    pad_after = np.abs(((patch_index + patch_shape) > image_shape) * ((patch_index + patch_shape) - image_shape))\n",
    "    pad_args = np.stack([pad_before, pad_after], axis=1)\n",
    "    if pad_args.shape[0] < len(data.shape):\n",
    "        pad_args = [[0, 0]] * (len(data.shape) - pad_args.shape[0]) + pad_args.tolist()\n",
    "    data = np.pad(data, pad_args, mode=\"edge\")\n",
    "    patch_index += pad_before\n",
    "    return data, patch_index"
   ]
  },
  {
   "cell_type": "code",
   "execution_count": 7,
   "metadata": {
    "ExecuteTime": {
     "end_time": "2018-07-30T10:12:46.299918Z",
     "start_time": "2018-07-30T10:12:46.263450Z"
    },
    "code_folding": []
   },
   "outputs": [],
   "source": [
    "# a = np.ones((512, 512, 512))\n",
    "\n",
    "# def pad_data(data):\n",
    "#     d = data.shape[0]\n",
    "#     m = (d%64)\n",
    "#     print(m)\n",
    "#     return np.pad(a, pad_width=((0, m),(0,0),(0,0)), mode='edge')\n",
    "\n",
    "# print(pad_data(a).shape)"
   ]
  },
  {
   "cell_type": "code",
   "execution_count": 8,
   "metadata": {
    "ExecuteTime": {
     "end_time": "2018-07-30T10:12:52.617773Z",
     "start_time": "2018-07-30T10:12:46.525071Z"
    },
    "scrolled": false
   },
   "outputs": [
    {
     "name": "stdout",
     "output_type": "stream",
     "text": [
      "800\n"
     ]
    },
    {
     "data": {
      "application/vnd.jupyter.widget-view+json": {
       "model_id": "608635df09eb4167bfddf58738537ca3",
       "version_major": 2,
       "version_minor": 0
      },
      "text/plain": [
       "interactive(children=(IntSlider(value=63, description='layer_num', layout=Layout(width='90%'), max=63), IntSli…"
      ]
     },
     "metadata": {},
     "output_type": "display_data"
    }
   ],
   "source": [
    "patient = 1 # 1\n",
    "\n",
    "ct = get_ct_by_index(patient)\n",
    "mask = get_mask_by_index(patient)\n",
    "\n",
    "image_shape = np.shape(ct)\n",
    "patch_shape = (64,64,64)\n",
    "\n",
    "overlap = 8\n",
    "\n",
    "patch_indices = compute_patch_indices(image_shape, patch_shape, overlap, start=None)\n",
    "\n",
    "print(len(patch_indices))\n",
    "\n",
    "def dshow():\n",
    "    ct_patch = get_patch_from_3d_data(ct, patch_shape, patch_indices[0])\n",
    "    mask_patch = get_patch_from_3d_data(mask, patch_shape, patch_indices[0])\n",
    "    def show_layer(layer_num,patch_num):\n",
    "        ct_patch = get_patch_from_3d_data(ct, patch_shape, patch_indices[patch_num])\n",
    "        c = ct_patch\n",
    "        mask_patch = get_patch_from_3d_data(mask, patch_shape, patch_indices[patch_num])\n",
    "        ct_patch = np.array(ct_patch,dtype=np.float32)\n",
    "        output_image = sitk.GetImageFromArray(ct_patch,)\n",
    "        output_image = sitk.N4BiasFieldCorrection(output_image, output_image > 0)\n",
    "        ct_patch = sitk.GetArrayFromImage(output_image)\n",
    "        \n",
    "        f = plt.figure(figsize=(20,10))\n",
    "        f.add_subplot(1,2, 1)\n",
    "        pylab.imshow(ct_patch[layer_num])\n",
    "        #print(np.unique(ct_patch[layer_num]))\n",
    "        f.add_subplot(1,2, 2)\n",
    "        pylab.imshow(c[layer_num])\n",
    "        #print(np.unique(c[layer_num]))\n",
    "        plt.show(block=True)\n",
    "    \n",
    "    interact(show_layer,\n",
    "             patch_num=widgets.IntSlider(min=0,max=len(patch_indices)-1,step=1,layout=layout,value=150),\n",
    "             layer_num=widgets.IntSlider(min=0,max=len(ct_patch)-1,step=1,layout=layout,value=63)\n",
    "            )\n",
    "\n",
    "dshow()"
   ]
  },
  {
   "cell_type": "code",
   "execution_count": 9,
   "metadata": {
    "ExecuteTime": {
     "end_time": "2018-07-30T10:12:52.930078Z",
     "start_time": "2018-07-30T10:12:52.619284Z"
    },
    "scrolled": false
   },
   "outputs": [
    {
     "data": {
      "text/plain": [
       "<matplotlib.image.AxesImage at 0x7f4282cbf208>"
      ]
     },
     "execution_count": 9,
     "metadata": {},
     "output_type": "execute_result"
    },
    {
     "data": {
      "image/png": "[encoded data removed]",
      "text/plain": [
       "<Figure size 432x288 with 1 Axes>"
      ]
     },
     "metadata": {},
     "output_type": "display_data"
    }
   ],
   "source": [
    "#plt.imshow(get_mask_by_index(1)[19])\n",
    "plt.imshow(get_ct_by_index(1)[19])"
   ]
  },
  {
   "cell_type": "code",
   "execution_count": 10,
   "metadata": {
    "ExecuteTime": {
     "end_time": "2018-07-30T10:12:54.723884Z",
     "start_time": "2018-07-30T10:12:52.931345Z"
    }
   },
   "outputs": [
    {
     "data": {
      "application/vnd.jupyter.widget-view+json": {
       "model_id": "3072ccca420c40a6b7ee4f8b2238deb6",
       "version_major": 2,
       "version_minor": 0
      },
      "text/plain": [
       "interactive(children=(IntSlider(value=63, description='layer_num', layout=Layout(width='90%'), max=63), IntSli…"
      ]
     },
     "metadata": {},
     "output_type": "display_data"
    }
   ],
   "source": [
    "patient = 1 # 1\n",
    "\n",
    "ct = get_ct_by_index(patient)\n",
    "mask = get_mask_by_index(patient)\n",
    "\n",
    "image_shape = np.shape(ct)\n",
    "patch_shape = (64,64,64)\n",
    "\n",
    "overlap = 0\n",
    "\n",
    "patch_indices = compute_patch_indices(image_shape, patch_shape, overlap, start=None)\n",
    "\n",
    "def dshow():\n",
    "    ct_patch = get_patch_from_3d_data(ct, patch_shape, patch_indices[0])\n",
    "    mask_patch = get_patch_from_3d_data(mask, patch_shape, patch_indices[0])\n",
    "    @jit\n",
    "    def show_layer(layer_num,patch_num):\n",
    "        ct_patch = get_patch_from_3d_data(ct, patch_shape, patch_indices[patch_num])\n",
    "        mask_patch = get_patch_from_3d_data(mask, patch_shape, patch_indices[patch_num])\n",
    "        \n",
    "        f = plt.figure(figsize=(20,10))\n",
    "        f.add_subplot(1,2, 1)\n",
    "        pylab.imshow(ct_patch[layer_num])\n",
    "        #print(np.unique(ct_patch[layer_num]))\n",
    "        f.add_subplot(1,2, 2)\n",
    "        pylab.imshow(mask_patch[layer_num])\n",
    "        #print(np.unique(mask_patch[layer_num]))\n",
    "        plt.show(block=True)\n",
    "    \n",
    "    interact(show_layer,\n",
    "             patch_num=widgets.IntSlider(min=0,max=len(patch_indices)-1,step=1,layout=layout,value=150),\n",
    "             layer_num=widgets.IntSlider(min=0,max=len(ct_patch)-1,step=1,layout=layout,value=63)\n",
    "            )\n",
    "\n",
    "dshow()"
   ]
  },
  {
   "cell_type": "code",
   "execution_count": 11,
   "metadata": {
    "ExecuteTime": {
     "end_time": "2018-07-30T10:12:56.150278Z",
     "start_time": "2018-07-30T10:12:54.725279Z"
    },
    "scrolled": false
   },
   "outputs": [
    {
     "data": {
      "application/vnd.jupyter.widget-view+json": {
       "model_id": "7c362dc758184faa92962a8b387146f2",
       "version_major": 2,
       "version_minor": 0
      },
      "text/plain": [
       "interactive(children=(IntSlider(value=63, description='layer_num', layout=Layout(width='90%'), max=63), IntSli…"
      ]
     },
     "metadata": {},
     "output_type": "display_data"
    }
   ],
   "source": [
    "patient = 1 # 1\n",
    "\n",
    "ct = get_ct_by_index(patient)\n",
    "mask = get_mask_by_index(patient)\n",
    "\n",
    "image_shape = np.shape(ct)\n",
    "patch_shape = (64,64,64)\n",
    "\n",
    "overlap = 0\n",
    "\n",
    "patch_indices = compute_patch_indices(image_shape, patch_shape, overlap, start=None)\n",
    "\n",
    "def dshow():\n",
    "    ct_patch = get_patch_from_3d_data(ct, patch_shape, patch_indices[0])\n",
    "    mask_patch = get_patch_from_3d_data(mask, patch_shape, patch_indices[0])\n",
    "    def show_layer(layer_num,patch_num):\n",
    "        ct_patch = get_patch_from_3d_data(ct, patch_shape, patch_indices[patch_num])\n",
    "        mask_patch = get_patch_from_3d_data(mask, patch_shape, patch_indices[patch_num])\n",
    "        \n",
    "        ct_patch = ct_patch/np.linalg.norm(ct_patch, ord=2,axis=-1,keepdims=1)\n",
    "        \n",
    "        f = plt.figure(figsize=(20,10))\n",
    "        f.add_subplot(1,2, 1)\n",
    "        normalized_X = preprocessing.normalize(get_patch_from_3d_data(ct, patch_shape, patch_indices[patch_num])[layer_num])\n",
    "        pylab.imshow(normalized_X)\n",
    "        print(normalized_X.dtype)\n",
    "        print(np.unique(normalized_X))\n",
    "        f.add_subplot(1,2, 2)\n",
    "        X = ct_patch[layer_num]\n",
    "        pylab.imshow(X)\n",
    "        print(X.dtype)\n",
    "        print(np.unique(X))\n",
    "        plt.show(block=True)\n",
    "    \n",
    "    interact(show_layer,\n",
    "             patch_num=widgets.IntSlider(min=0,max=len(patch_indices)-1,step=1,layout=layout,value=150),\n",
    "             layer_num=widgets.IntSlider(min=0,max=len(ct_patch)-1,step=1,layout=layout,value=63)\n",
    "            )\n",
    "\n",
    "dshow()"
   ]
  },
  {
   "cell_type": "code",
   "execution_count": 12,
   "metadata": {
    "ExecuteTime": {
     "end_time": "2018-07-30T10:13:01.569265Z",
     "start_time": "2018-07-30T10:12:56.151512Z"
    },
    "scrolled": false
   },
   "outputs": [
    {
     "data": {
      "application/vnd.jupyter.widget-view+json": {
       "model_id": "aebabbd8185f4cf0a279c0b63d0c1afb",
       "version_major": 2,
       "version_minor": 0
      },
      "text/plain": [
       "interactive(children=(IntSlider(value=63, description='layer_num', layout=Layout(width='90%'), max=63), IntSli…"
      ]
     },
     "metadata": {},
     "output_type": "display_data"
    }
   ],
   "source": [
    "patient = 1 # 1\n",
    "\n",
    "ct = get_ct_by_index(patient)\n",
    "mask = get_mask_by_index(patient)\n",
    "\n",
    "image_shape = np.shape(ct)\n",
    "patch_shape = (64,64,64)\n",
    "\n",
    "overlap = 0\n",
    "\n",
    "patch_indices = compute_patch_indices(image_shape, patch_shape, overlap, start=None)\n",
    "\n",
    "def dshow():\n",
    "    ct_patch = get_patch_from_3d_data(ct, patch_shape, patch_indices[0])\n",
    "    mask_patch = get_patch_from_3d_data(mask, patch_shape, patch_indices[0])\n",
    "    @jit\n",
    "    def show_layer(layer_num,patch_num):\n",
    "        ct_patch = get_patch_from_3d_data(ct, patch_shape, patch_indices[patch_num])\n",
    "        c = ct_patch\n",
    "        mask_patch = get_patch_from_3d_data(mask, patch_shape, patch_indices[patch_num])\n",
    "        ct_patch = np.array(ct_patch,dtype=np.float32)\n",
    "        output_image = sitk.GetImageFromArray(ct_patch,)\n",
    "        output_image = sitk.N4BiasFieldCorrection(output_image, output_image > 0)\n",
    "        ct_patch = sitk.GetArrayFromImage(output_image)\n",
    "        \n",
    "        f = plt.figure(figsize=(20,10))\n",
    "        f.add_subplot(1,2, 1)\n",
    "        pylab.imshow(ct_patch[layer_num])\n",
    "        print(np.unique(ct_patch[layer_num]))\n",
    "        f.add_subplot(1,2, 2)\n",
    "        pylab.imshow(c[layer_num])\n",
    "        print(np.unique(c[layer_num]))\n",
    "        plt.show(block=True)\n",
    "    \n",
    "    interact(show_layer,\n",
    "             patch_num=widgets.IntSlider(min=0,max=len(patch_indices)-1,step=1,layout=layout,value=150),\n",
    "             layer_num=widgets.IntSlider(min=0,max=len(ct_patch)-1,step=1,layout=layout,value=63)\n",
    "            )\n",
    "\n",
    "dshow()"
   ]
  },
  {
   "cell_type": "code",
   "execution_count": 13,
   "metadata": {
    "ExecuteTime": {
     "end_time": "2018-07-30T10:13:02.052674Z",
     "start_time": "2018-07-30T10:13:01.570863Z"
    }
   },
   "outputs": [],
   "source": [
    "patient = 1\n",
    "\n",
    "ct = get_ct_by_index(patient)\n",
    "mask = get_mask_by_index(patient)\n",
    "\n",
    "\n",
    "image_shape = np.shape(ct)\n",
    "patch_shape = (64,64,64)\n",
    "overlap = 0\n",
    "\n",
    "patch_indices = compute_patch_indices(image_shape, patch_shape, overlap, start=None)"
   ]
  },
  {
   "cell_type": "code",
   "execution_count": 14,
   "metadata": {
    "ExecuteTime": {
     "end_time": "2018-07-30T10:13:05.793083Z",
     "start_time": "2018-07-30T10:13:02.054181Z"
    }
   },
   "outputs": [],
   "source": [
    "tbCallBack = keras.callbacks.TensorBoard(log_dir='./logs',\n",
    "                                         histogram_freq=0,\n",
    "                                         write_graph=True,\n",
    "                                         write_images=True)"
   ]
  },
  {
   "cell_type": "code",
   "execution_count": 15,
   "metadata": {
    "ExecuteTime": {
     "end_time": "2018-07-30T10:13:05.819912Z",
     "start_time": "2018-07-30T10:13:05.795088Z"
    }
   },
   "outputs": [],
   "source": [
    "def train_model(model, model_file, training_generator, validation_generator, steps_per_epoch, validation_steps,\n",
    "                initial_learning_rate=0.001, learning_rate_drop=0.5, learning_rate_epochs=None, n_epochs=100,\n",
    "                learning_rate_patience=20, early_stopping_patience=None):\n",
    "    \"\"\"\n",
    "    Train a Keras model.\n",
    "    :param early_stopping_patience: If set, training will end early if the validation loss does not improve after the\n",
    "    specified number of epochs.\n",
    "    :param learning_rate_patience: If learning_rate_epochs is not set, the learning rate will decrease if the validation\n",
    "    loss does not improve after the specified number of epochs. (default is 20)\n",
    "    :param model: Keras model that will be trained.\n",
    "    :param model_file: Where to save the Keras model.\n",
    "    :param training_generator: Generator that iterates through the training data.\n",
    "    :param validation_generator: Generator that iterates through the validation data.\n",
    "    :param steps_per_epoch: Number of batches that the training generator will provide during a given epoch.\n",
    "    :param validation_steps: Number of batches that the validation generator will provide during a given epoch.\n",
    "    :param initial_learning_rate: Learning rate at the beginning of training.\n",
    "    :param learning_rate_drop: How much at which to the learning rate will decay.\n",
    "    :param learning_rate_epochs: Number of epochs after which the learning rate will drop.\n",
    "    :param n_epochs: Total number of epochs to train the model.\n",
    "    :return: \n",
    "    \"\"\"\n",
    "    \n",
    "    this_callbacks = get_callbacks(model_file,\n",
    "                  initial_learning_rate=initial_learning_rate,\n",
    "                  learning_rate_drop=learning_rate_drop,\n",
    "                  learning_rate_epochs=learning_rate_epochs,\n",
    "                  learning_rate_patience=learning_rate_patience,\n",
    "                  early_stopping_patience=early_stopping_patience)\n",
    "    \n",
    "    this_callbacks.append(tbCallBack)\n",
    "\n",
    "    model.fit_generator(generator=training_generator,\n",
    "                        steps_per_epoch=steps_per_epoch,\n",
    "                        epochs=n_epochs,\n",
    "                        validation_data=validation_generator,\n",
    "                        validation_steps=validation_steps,\n",
    "                        callbacks=this_callbacks)\n",
    "    return model"
   ]
  },
  {
   "cell_type": "code",
   "execution_count": 16,
   "metadata": {
    "ExecuteTime": {
     "end_time": "2018-07-30T10:13:05.844513Z",
     "start_time": "2018-07-30T10:13:05.821205Z"
    }
   },
   "outputs": [],
   "source": [
    "class DicomAccess():    \n",
    "    @classmethod\n",
    "    def get_ct(self,idx):\n",
    "        try:\n",
    "            iter(idx)\n",
    "        except TypeError:\n",
    "            idx = [idx]\n",
    "        return np.array([dcm.read_file(str(path)).pixel_array for path in ct_dcms[idx]])\n",
    "\n",
    "    @classmethod\n",
    "    def get_mask(self,idx):\n",
    "        try:\n",
    "            iter(idx)\n",
    "        except TypeError:\n",
    "            idx = [idx]\n",
    "        return np.array([dcm.read_file(str(path)).pixel_array for path in mask_dcms[idx]])"
   ]
  },
  {
   "cell_type": "code",
   "execution_count": 17,
   "metadata": {
    "ExecuteTime": {
     "end_time": "2018-07-30T10:13:05.868976Z",
     "start_time": "2018-07-30T10:13:05.845788Z"
    }
   },
   "outputs": [],
   "source": [
    "class DataSet(DicomAccess):\n",
    "    def __init__(self):\n",
    "        self.len = len(ct_dcms)\n",
    "        self.current = 0\n",
    "        return\n",
    "        \n",
    "    def __len__(self):\n",
    "        return self.len\n",
    "    \n",
    "    def __getitem__(self,idx):\n",
    "        yield tuple((self.get_ct(idx),self.get_mask(idx)))\n",
    "        \n",
    "    def __iter__(self):\n",
    "        return self\n",
    "    \n",
    "    def __next__(self):\n",
    "        if self.current >= len(self):\n",
    "            raise StopIteration\n",
    "        else:\n",
    "            self.current += 1\n",
    "            return tuple((self.get_ct(self.current),self.get_mask(self.current)))\n",
    "\n",
    "dataset = DataSet()"
   ]
  },
  {
   "cell_type": "code",
   "execution_count": 18,
   "metadata": {
    "ExecuteTime": {
     "end_time": "2018-07-30T10:13:05.891413Z",
     "start_time": "2018-07-30T10:13:05.870150Z"
    }
   },
   "outputs": [],
   "source": [
    "# shapes = [np.shape(list(dataset[x]))[3:] for x in range(10)]"
   ]
  },
  {
   "cell_type": "code",
   "execution_count": 19,
   "metadata": {
    "ExecuteTime": {
     "end_time": "2018-07-30T10:13:05.922776Z",
     "start_time": "2018-07-30T10:13:05.892735Z"
    },
    "code_folding": []
   },
   "outputs": [],
   "source": [
    "class DataPreparator():\n",
    "    def __init__(self,dataset,patch_shape,batch_size,overlap):\n",
    "        self.dataset = dataset\n",
    "        self.patch_shape = patch_shape\n",
    "        self.batch_size = batch_size\n",
    "        self.overlap = overlap\n",
    "        self.patches = []\n",
    "        self.masked = []\n",
    "        self.metadata = {\n",
    "            \"ct_idx\": [],\n",
    "            \"patches_shape\": [],\n",
    "            \"masked\": [],\n",
    "            \"pickles\": [],\n",
    "            \"patch_indices\": [],\n",
    "        }\n",
    "        \n",
    "    def load_metadata(self,file=None):\n",
    "        if not file:\n",
    "            file = str(PATCHES/'metadata.p')\n",
    "        else:\n",
    "            file = str(file)\n",
    "        self.metadata = self.pickle_load(file)\n",
    "        return self.metadata\n",
    "        \n",
    "    def prepare(self):\n",
    "        for idx in range(len(dataset)):\n",
    "            arr = list(self.dataset[idx])\n",
    "            x,y = arr[0][0][0],arr[0][1][0]\n",
    "            image_shape = np.shape(x)\n",
    "            print(f\"Image,Mask ({idx}): {image_shape}\")\n",
    "            patch_indices = compute_patch_indices(image_shape, self.patch_shape, self.overlap, start=None)\n",
    "\n",
    "            with ThreadPoolExecutor(6) as e:\n",
    "                e.map(\n",
    "                    self.save_patches,\n",
    "                    repeat(patch_indices),\n",
    "                    repeat(x),\n",
    "                    repeat(y),\n",
    "                    range(len(patch_indices)),\n",
    "                    repeat(idx),\n",
    "                     )\n",
    "            \n",
    "            data_obj = {\n",
    "                'patches': self.patches,\n",
    "                'masked': self.masked,\n",
    "            }\n",
    "            \n",
    "            fname = \"data_%05d.p\" % (idx)\n",
    "            out_file = str(PATCHES/fname)\n",
    "            print(f\"\\nDumping a pickle at {out_file}... \",end='')\n",
    "            print(np.shape(self.patches))\n",
    "            self.pickle_dump(item=data_obj, out_file=out_file)\n",
    "            print(\"Done.\")\n",
    "            self.metadata['pickles'].append(fname)\n",
    "            \n",
    "            self.patches = []\n",
    "            self.masked = []\n",
    "            \n",
    "        metadate_out_file = str(PATCHES/f\"metadata.p\")\n",
    "        self.pickle_dump(item=self.metadata, out_file=metadate_out_file)\n",
    "        print(f\"Metadata has been saved in {metadate_out_file}\")\n",
    "\n",
    "    def save_patches(self,patch_indices,x,y,patch_index,ct_idx):\n",
    "        y_patch = self.get_patch(y,patch_indices,patch_index)\n",
    "        has_mask = self.has_mask(y_patch)\n",
    "        \n",
    "        take = chance(0.017)\n",
    "        if has_mask:\n",
    "            print('m',end='')\n",
    "        elif take:\n",
    "            print('t',end='') # took an empty patch by chance\n",
    "        else:\n",
    "            print('.',end='') # skiped an empty patch\n",
    "            return\n",
    "            \n",
    "\n",
    "        x_patch = self.get_patch(x,patch_indices,patch_index)\n",
    "        \n",
    "        \n",
    "        x_patch = self.normalize_patch(x_patch)\n",
    "        y_patch = self.to_binary_mask(y_patch)\n",
    "        \n",
    "        xy_patch_out = tuple(np.array([[x_patch],[y_patch]]))\n",
    "        has_mask = self.has_mask(y_patch)\n",
    "        self.masked.append(has_mask)\n",
    "        self.patches.append(xy_patch_out)\n",
    "        self.metadata[\"patches_shape\"].append(np.shape(xy_patch_out))\n",
    "        self.metadata[\"masked\"].append(has_mask)\n",
    "        self.metadata[\"ct_idx\"].append(ct_idx)\n",
    "        self.metadata[\"patch_indices\"].append(patch_index)\n",
    "        #print(f\"Patch ({idx}) {np.shape(patch_indices)}: {np.shape(xy_patch_out)}\")\n",
    "            \n",
    "    def get_patch(self,data,patch_indices,idx):\n",
    "        return self.reshape_array(\n",
    "            get_patch_from_3d_data(data, self.patch_shape, patch_indices[idx]))\n",
    "        \n",
    "    @classmethod\n",
    "    def pickle_dump(self,item, out_file):\n",
    "        with open(str(out_file), \"wb\") as opened_file:\n",
    "            pickle.dump(item, opened_file, protocol=pickle.HIGHEST_PROTOCOL)\n",
    "\n",
    "    @classmethod\n",
    "    def pickle_load(self,in_file):\n",
    "        with open(str(in_file), \"rb\") as opened_file:\n",
    "            return pickle.load(opened_file)\n",
    "\n",
    "    @classmethod\n",
    "    def reshape_array(self,arr):\n",
    "        new_shape = tuple(np.insert(np.shape(arr),0,1))\n",
    "        return np.reshape(arr,new_shape)\n",
    "    \n",
    "    @classmethod\n",
    "    def has_mask(self,patch):            \n",
    "        if np.any(patch):\n",
    "            return True\n",
    "        else:\n",
    "            return False\n",
    "            \n",
    "    @classmethod       \n",
    "    def normalize_patch_1(self,patch):\n",
    "        return patch/np.linalg.norm(patch, ord=2,axis=-1,keepdims=1)\n",
    "    \n",
    "    @classmethod\n",
    "    @jit\n",
    "    def normalize_patch(self,x):\n",
    "        return (x - x.min()) / (x.max() - x.min())\n",
    "    \n",
    "    @classmethod\n",
    "    def to_binary_mask(self,patch):\n",
    "        patch[patch > 0] = 1\n",
    "        return patch\n",
    "\n",
    "        \n",
    "        \n",
    "params = {\n",
    "    'patch_shape': (64,64,64),\n",
    "    'batch_size': 1,\n",
    "    'overlap': 8 \n",
    "}\n",
    "\n",
    "dataset = DataSet()\n",
    "dp = DataPreparator(dataset,**params)\n",
    "#dp.load_metadata(PATCHES/\"metadata.p\")"
   ]
  },
  {
   "cell_type": "code",
   "execution_count": 19,
   "metadata": {
    "ExecuteTime": {
     "end_time": "2018-07-24T21:50:46.687872Z",
     "start_time": "2018-07-24T20:49:46.175602Z"
    },
    "code_folding": [],
    "deletable": false,
    "editable": false,
    "run_control": {
     "frozen": true
    },
    "scrolled": true
   },
   "outputs": [
    {
     "name": "stdout",
     "output_type": "stream",
     "text": [
      "Image,Mask (0): (439, 512, 512)\n",
      "..............t.......t...........................................................................................t............................t.............................................................................mm.........mm..........................................................t...........................m.mm......m.mm...........................t................t...........................................m.......t.m......t............t..............................t..................................................t......................t.......................................................t....................................t....t.....................................................................t...................t......................................................\n",
      "Dumping a pickle at /home/group1/data/aneurysm/bigdisk/Processed_data/data_00000.p... (30, 2, 1, 1, 64, 64, 64)\n",
      "Done.\n",
      "Image,Mask (1): (439, 512, 512)\n",
      "............................................m..m.........mm...............t.......................................................mm........m.mm.....t...mm.......t..........................................................m.m......mm.m......m.m.............................t...t........................................t...mmm.......mm.m.....mm..........................................................t............t...................................................................................................................t.........................................................t..............t.............................t..............t...............................................................t..............t...................................t.....................................\n",
      "Dumping a pickle at /home/group1/data/aneurysm/bigdisk/Processed_data/data_00001.p... (42, 2, 1, 1, 64, 64, 64)\n",
      "Done.\n",
      "Image,Mask (2): (439, 512, 512)\n",
      "...................tt.............................t............................................................................t............................t............................................................................................t...........................................t........................m.m.......m.mm.......mm.............t.........................................................................m..........t......................................................t................t................................t.........................................................................................................................................................................................t...............t.....................................................\n",
      "Dumping a pickle at /home/group1/data/aneurysm/bigdisk/Processed_data/data_00002.p... (22, 2, 1, 1, 64, 64, 64)\n",
      "Done.\n",
      "Image,Mask (3): (439, 512, 512)\n",
      "..........................................t...t.................................................................................t...........m.......................................................................................mm.........mm..............................t...............................................m.........m.m..........m..................................................t..........................m.......m.tmm.........m.......................................................................t...................t...................................t.........t............................................................................t...t...........t...............t....................................................................t........tt..........t....................\n",
      "Dumping a pickle at /home/group1/data/aneurysm/bigdisk/Processed_data/data_00003.p... (32, 2, 1, 1, 64, 64, 64)\n",
      "Done.\n",
      "Image,Mask (4): (878, 512, 512)\n",
      "............................................m.mm.....t.mmm....................t............t....t..................................mm........mmm........mm.t................................................................mmm........mmm........mm.....................................t.............................t.........mm.......m..mm.....m.............................t............................t.................................................................t................................................................................t................................................................t..........................................................................................t.....................t................................t.....t....................................................................................................................................t.t..............t.............t..........................................t............................................t....t........t................................t.......t........................t.............t..............................................................................................t...................................................t..............t....................................................................t.......................................................................................................t............t..............................t...............................................................................................................\n",
      "Dumping a pickle at /home/group1/data/aneurysm/bigdisk/Processed_data/data_00004.p... (62, 2, 1, 1, 64, 64, 64)\n",
      "Done.\n",
      "Image,Mask (5): (455, 512, 512)\n",
      "...................................t.......m.m.......m.m......................................t.....t...........t.............................mm......mm...............t........................t.............................m.......mm.......mm................................t.....t...t...t..................................m.....m.mm.m....mmmm.........................................................t............t.......m........m.m.......tmm..................................................................................t....m..........m........................................t..................................................................................................................................................................................................................t......t................................................t................t..................................\n",
      "Dumping a pickle at /home/group1/data/aneurysm/bigdisk/Processed_data/data_00005.p... (48, 2, 1, 1, 64, 64, 64)\n",
      "Done.\n",
      "Image,Mask (6): (439, 512, 512)\n",
      ".................................t...............m......t.........................................................................mm.......mm........mmm...........................................................................mmmm......m..mm.m.....mm.............................................................................mmmm......mm.mm................t.....................................................................................................................................t...........................................................................................................t.........................................................................................................t....................................t......................t........t.......................\n",
      "Dumping a pickle at /home/group1/data/aneurysm/bigdisk/Processed_data/data_00006.p... (35, 2, 1, 1, 64, 64, 64)\n",
      "Done.\n",
      "Image,Mask (7): (439, 512, 512)\n"
     ]
    },
    {
     "name": "stdout",
     "output_type": "stream",
     "text": [
      ".................................................t................t.......................................................t..................t..................t.t...................................................................mm..........m......................t.......................................................mm......mmm.t......mmm......................................................................................mm......t....m.....................................................................t.................................................t.........................t...........................t.................................................t....................................................t................................................................t...............\n",
      "Dumping a pickle at /home/group1/data/aneurysm/bigdisk/Processed_data/data_00007.p... (30, 2, 1, 1, 64, 64, 64)\n",
      "Done.\n",
      "Image,Mask (8): (439, 512, 512)\n",
      "........................................................................t...........................................t..m.........mmm.......mm.m.t.....t..........t.........................................................m..t.....m..m.m......mmm..............................................................t.......................mm.....t..mm........................t..............................................................t.......................................t..........................................................................t.............................................................t......t.......................t............t..........................t.t................t...........................................................................t............................\n",
      "Dumping a pickle at /home/group1/data/aneurysm/bigdisk/Processed_data/data_00008.p... (38, 2, 1, 1, 64, 64, 64)\n",
      "Done.\n",
      "Image,Mask (9): (440, 512, 512)\n",
      ".....t....................................................tt.................................................................t..mmm..........m....m..mm...............t..............................................................mmm.....mm..m.......mm................................................t...........................mm........................................t......................................t..t.....................................................t..............................................................................t................................................................................................................................................................................................t..............................................................\n",
      "Dumping a pickle at /home/group1/data/aneurysm/bigdisk/Processed_data/data_00009.p... (29, 2, 1, 1, 64, 64, 64)\n",
      "Done.\n",
      "Image,Mask (10): (439, 512, 512)\n",
      ".........................................................................................................................t..........t...t..........t.......t......................................t....................................mm.t.....m...........................t.................t.................................mm........mmm.......mmm................................................t............................mm........mm.........................................................................................................................................t...............................t....................................................t..........................................................................t...........................................................tt.....t...\n",
      "Dumping a pickle at /home/group1/data/aneurysm/bigdisk/Processed_data/data_00010.p... (32, 2, 1, 1, 64, 64, 64)\n",
      "Done.\n",
      "Image,Mask (11): (439, 512, 512)\n",
      "...........................................................................................................................................mm.........mm....................t...............t......................t...................mm....t..m.....m...mm........................t.....................................................m.........m...m.........t................................t..............................................................t............................................................t..................................................................t...........................t..................t....t................t.....................t.......t.......................................................................................................t..................\n",
      "Dumping a pickle at /home/group1/data/aneurysm/bigdisk/Processed_data/data_00011.p... (30, 2, 1, 1, 64, 64, 64)\n",
      "Done.\n",
      "Image,Mask (12): (440, 512, 512)\n",
      "................................................................................t................t..................t.t.............m..........m..........tt..........t....................................................t...m....t.m.m.m.m....mmmm......................t................................................................mmm.m....mmm...................................................t...........................t..................................t.....................t..................................................................................................................................................................t........................................................................................................t...................................................\n",
      "Dumping a pickle at /home/group1/data/aneurysm/bigdisk/Processed_data/data_00012.p... (34, 2, 1, 1, 64, 64, 64)\n",
      "Done.\n",
      "Image,Mask (13): (439, 512, 512)\n",
      ".......................tt........................m...m........mm..........................................................................m.m........mm.t.....mm.................t.....................................................t......mmm.......m.mm........................................t.......................................m......t..m..mm...mm..............t.....................t...........................................m......m..mm...........................................t.............................................................t..........t..................................................................................................................................t............................................................................................................\n",
      "Dumping a pickle at /home/group1/data/aneurysm/bigdisk/Processed_data/data_00013.p... (39, 2, 1, 1, 64, 64, 64)\n",
      "Done.\n",
      "Image,Mask (14): (439, 512, 512)\n",
      "....t................................t.m..m........m.........................................................................t......t.....mm........mm..............................................................................mm.........mmm......m.............................t.......................................m.m.......m.m.......m.m........m......t...........................t.........................................tmmm........mmm.........m............................................................t............................................................................................t...t.................................................t................................................................................................t......................................t.....\n",
      "Dumping a pickle at /home/group1/data/aneurysm/bigdisk/Processed_data/data_00014.p... (41, 2, 1, 1, 64, 64, 64)\n",
      "Done.\n",
      "Image,Mask (15): (439, 512, 512)\n"
     ]
    },
    {
     "name": "stdout",
     "output_type": "stream",
     "text": [
      "...t........t..............................t........t..........................t................................................................................................................t.....................t........t.......mm........m...m..........................................................................m.m......m..mm.......mm......t......................................................t...............mm........m.mm......mmm.......................................t....................t...t.............m........m..............................t...........................t...........................................................................................t..................................................t...t................t...t...........t..............................\n",
      "Dumping a pickle at /home/group1/data/aneurysm/bigdisk/Processed_data/data_00015.p... (42, 2, 1, 1, 64, 64, 64)\n",
      "Done.\n",
      "Image,Mask (16): (455, 512, 512)\n",
      "..................................m..m......m.mt.......................t................................................m..........mm........mm.............................................t...............................mm........mm.........mm.............t...........................................................t...m.m.......m..........t...................................................................................................................................................................................t...................t..............................................................................................................................t................t.........................t........t.......t.........................................................................................................................t................t................................\n",
      "Dumping a pickle at /home/group1/data/aneurysm/bigdisk/Processed_data/data_00016.p... (33, 2, 1, 1, 64, 64, 64)\n",
      "Done.\n",
      "Image,Mask (17): (439, 512, 512)\n",
      "..................t......................m.....................................................................................m..mm......mm...........t.......................................................................t...m.mm.......mm.m....................t.............................t............................................................................................................................................t.....................................t....................................................................................t............t...................................t.t.......................................................t..............t.....................................t.................................t..........t......................................\n",
      "Dumping a pickle at /home/group1/data/aneurysm/bigdisk/Processed_data/data_00017.p... (28, 2, 1, 1, 64, 64, 64)\n",
      "Done.\n",
      "Image,Mask (18): (439, 512, 512)\n",
      "..............t........................m.m..tm.......mmm.....m..t............................t.......................t...........m.m......m.mm......m.mm.............................................................................mm........mm...................................................................................................................................................................................................t.....................t................................t.........................................................t.........................t.................................................................................................t..............................................................................................................................\n",
      "Dumping a pickle at /home/group1/data/aneurysm/bigdisk/Processed_data/data_00018.p... (30, 2, 1, 1, 64, 64, 64)\n",
      "Done.\n",
      "Image,Mask (19): (439, 512, 512)\n",
      "..........................................................t..t....................................................................m.m........mm..t......................t....................................................mm.......mm........mm.......................................t.............t.........................mmt.....m.m.m.....m.mm.........t........................................................................t.....mm........m.m.................................................................................................................t........................................t.........................................................................................................................................................................................................\n",
      "Dumping a pickle at /home/group1/data/aneurysm/bigdisk/Processed_data/data_00019.p... (33, 2, 1, 1, 64, 64, 64)\n",
      "Done.\n",
      "Image,Mask (20): (455, 512, 512)\n",
      "..........................t......................t..............t..................................................t.............m..m......m.m.................t...........................................................mm........mm.........mm.......................................................t....t................m.mm.....mmmm.........mm..............................................................................m.m......m.m...................................................................................................................................................t..t.......................t...........................................................................................................................................................t............................tt..........................................................................................................\n",
      "Dumping a pickle at /home/group1/data/aneurysm/bigdisk/Processed_data/data_00020.p... (36, 2, 1, 1, 64, 64, 64)\n",
      "Done.\n",
      "Image,Mask (21): (439, 512, 512)\n",
      "............t...................t........................................t.....................................................t.m..........m..........................................t....t.........................t.....m........mm......tm.m.....................t........................................................mm........mmm.......mmm..................................................t...........t........................mm.....t...mm......................................................................................................................................................................................................................................................................................................................................................................\n",
      "Dumping a pickle at /home/group1/data/aneurysm/bigdisk/Processed_data/data_00021.p... (31, 2, 1, 1, 64, 64, 64)\n",
      "Done.\n",
      "Image,Mask (22): (439, 512, 512)\n",
      "..............................t.....................t........t............................................................m......mm..........m.........m....................................t...........t..t.................m........mm.mm....mmm.m......................................................................................mmmm....m.mmm................t.....................t...................................................................................t..............................................................t...............t.......................................................t...........................................t...........................................................................................................t...........................t...................\n",
      "Dumping a pickle at /home/group1/data/aneurysm/bigdisk/Processed_data/data_00022.p... (37, 2, 1, 1, 64, 64, 64)\n",
      "Done.\n",
      "Image,Mask (23): (439, 512, 512)\n"
     ]
    },
    {
     "name": "stdout",
     "output_type": "stream",
     "text": [
      "....t.................................t.................t.................................................................................mm.......m.mm............................t................................................m.....m...m...m.....mmm......................................t......................................m.m........mm............................................t.....................................................................................................t......................................................t...............................................................................................t..........................................................t..................................................................t.............t.....................\n",
      "Dumping a pickle at /home/group1/data/aneurysm/bigdisk/Processed_data/data_00023.p... (28, 2, 1, 1, 64, 64, 64)\n",
      "Done.\n",
      "Image,Mask (24): (439, 512, 512)\n",
      "..................................................................................................................................m.......mm...................................................t............................mm........m..m......mm.......m.m....................................................................mm.......m.mm.....mmm.........mm..........................................................................t.....................t.............................................................................................................t.................................................................t..................................................................................t...................t........................................................................\n",
      "Dumping a pickle at /home/group1/data/aneurysm/bigdisk/Processed_data/data_00024.p... (28, 2, 1, 1, 64, 64, 64)\n",
      "Done.\n",
      "Image,Mask (25): (878, 512, 512)\n",
      "....................................................................................................t............t...............m.m..........m..m...........................t..............................................m.......tm.m.......mm...........................................................................t....m.......mm........m..................................................t................................t.............................t.........t.........................................................................t..t............................................................................................................t.....t.........................................t......................................................................t............................................................................................................t................................................................t..................t..............................t..................t.........................t..................t.....................................................................................................................t......t.......t...............................................................................t..........................................................................................................................................................................................................................................................................................t.........t.....................................\n",
      "Dumping a pickle at /home/group1/data/aneurysm/bigdisk/Processed_data/data_00025.p... (41, 2, 1, 1, 64, 64, 64)\n",
      "Done.\n",
      "Image,Mask (26): (439, 512, 512)\n",
      ".......t..........t......................mm..........m..m.................................................................................m.mm.....mm................t...............t.t...............t...................m.........m.m..t.....mm..................................................................t...................mmm.........mm......................t............................t.....................................t.........................t..........................tt................................................................................t..............................t........................................t....................t.....................................................................t..............................................................t.......\n",
      "Dumping a pickle at /home/group1/data/aneurysm/bigdisk/Processed_data/data_00026.p... (39, 2, 1, 1, 64, 64, 64)\n",
      "Done.\n",
      "Image,Mask (27): (439, 512, 512)\n",
      "..t...........................t................................t......m...m.....................................................................t..............mmm........m....m................t...................t....................................mm........mmm.......m..................................................t............t................m........m................................t................................................................................................................................................................................................................................t..........t.................................................................................t..........................................t..............................................\n",
      "Dumping a pickle at /home/group1/data/aneurysm/bigdisk/Processed_data/data_00027.p... (28, 2, 1, 1, 64, 64, 64)\n",
      "Done.\n",
      "Image,Mask (28): (439, 512, 512)\n",
      "...................................t.........................................................t.............t...............................................................................................................m.m.......m.m........mm........t..................t.................................................mm.........mm.....................................................................................t.m.m.......mm...............................................tt.t....................................................................................................................t..............................t........t....................................................t......................................t...........t.........................................................\n",
      "Dumping a pickle at /home/group1/data/aneurysm/bigdisk/Processed_data/data_00028.p... (29, 2, 1, 1, 64, 64, 64)\n",
      "Done.\n",
      "Image,Mask (29): (878, 512, 512)\n",
      "........................................m...........................t.............................................................t.......m...........m.............................................................................mm........mm..........m......................................................................m.......mm.........m.mm............t..........................t.................................mmmm......m.mmm........mm.........t.................................................................mm.........mmmm........mm.....t.......................................................................t.......................................................................................................t............................................................................................................................t.....................................t.....................................................................t.t..............t..t...............................................................................................................................................................................................................t..............................................................................................t......................................................t............t.....................................................................................................................t.....................................................t................................................................................\n",
      "Dumping a pickle at /home/group1/data/aneurysm/bigdisk/Processed_data/data_00029.p... (52, 2, 1, 1, 64, 64, 64)\n"
     ]
    },
    {
     "name": "stdout",
     "output_type": "stream",
     "text": [
      "Done.\n",
      "Image,Mask (30): (439, 512, 512)\n",
      ".......................................................................................t..........................................m.........m.mt.......mm............................t...............................................mmm.......mmm....t....m.....t.........................................................................mm..t.....m.m..................................................t...........................t.......................t..................................................................................t.....................t.......................t............................................................t..........................................t.......................t.....................................t..................................................t.......\n",
      "Dumping a pickle at /home/group1/data/aneurysm/bigdisk/Processed_data/data_00030.p... (33, 2, 1, 1, 64, 64, 64)\n",
      "Done.\n",
      "Image,Mask (31): (439, 512, 512)\n",
      ".....................................................................................................................................................................................................................t..............mm........mm.........mm...............................t.......................................................mmm........mmm.........................................................................t..............mm.....................................................t.....t.................t.........................................................t...............................................................................................................................................t..................................t......t....................................\n",
      "Dumping a pickle at /home/group1/data/aneurysm/bigdisk/Processed_data/data_00031.p... (24, 2, 1, 1, 64, 64, 64)\n",
      "Done.\n",
      "Image,Mask (32): (439, 512, 512)\n",
      "................................t..........t............................................tt.........t..................mm........mm........mm...t................................t.........................................mm........mm........m..m...................................................................t..................m..m.....t..m....................................t.................................................t........................................................t...................................................................................................................................................................................................................t.......................................................t...............................................\n",
      "Dumping a pickle at /home/group1/data/aneurysm/bigdisk/Processed_data/data_00032.p... (29, 2, 1, 1, 64, 64, 64)\n",
      "Done.\n",
      "Image,Mask (33): (439, 512, 512)\n",
      ".........t.....................................................t............t.....................................................mm........m.m........................................................................................mm........mm...............................................t........................................m........m..m................................................................t...............................................t..................................................................................................................................................................................................................................................t....................................................................................................\n",
      "Dumping a pickle at /home/group1/data/aneurysm/bigdisk/Processed_data/data_00033.p... (18, 2, 1, 1, 64, 64, 64)\n",
      "Done.\n",
      "Image,Mask (34): (439, 512, 512)\n",
      "..................................................t.................................................................................................................t......................................................mm......mm.m.........................................................t.............................mmm......mm.m............................t...................t.................................t..t..m..................................................................................................................................................................t................t.............................................................t..................................................t.........................t.............................................................\n",
      "Dumping a pickle at /home/group1/data/aneurysm/bigdisk/Processed_data/data_00034.p... (24, 2, 1, 1, 64, 64, 64)\n",
      "Done.\n",
      "Image,Mask (35): (878, 512, 512)\n",
      ".......................................................m................................................t................t..................mm.........mm.............................................................................mm........mm.........mm..................................................................m.m........mmmm......mmm.............................................................................mm....t.....mmmm......mm....................t..................................................................................................................................................................................................................t....................................................................t................................................................................................................................tt............................t.........................................t.......................t...............t.....................................................................................t...t......................................................................................................tt...t.............t........................t................................................................................t...............................................................................t.............t..............t...................................................................................................................t...................t.t.................................t...............\n",
      "Dumping a pickle at /home/group1/data/aneurysm/bigdisk/Processed_data/data_00035.p... (55, 2, 1, 1, 64, 64, 64)\n",
      "Done.\n",
      "Image,Mask (36): (439, 512, 512)\n",
      ".....................................................t....t..t.............................................................................................................................................................mm.........m.m.......................................t...........t...................................mm.......m.m.................................................................................................m.m............................................................................................................................................t....................................................................t..................................................................................t.............t.........................................t...................\n",
      "Dumping a pickle at /home/group1/data/aneurysm/bigdisk/Processed_data/data_00036.p... (20, 2, 1, 1, 64, 64, 64)\n",
      "Done.\n",
      "Image,Mask (37): (439, 512, 512)\n"
     ]
    },
    {
     "name": "stdout",
     "output_type": "stream",
     "text": [
      "..............................................t...................................................................................m.........m.........t.....................................................................mm.......mm..........m..............................................................................mm........m.mm......mm........................t.......................................t.....................................................................................................t............................t.............................................................................t..........................t...................................t.........................................................t...........................t...................t..............t\n",
      "Dumping a pickle at /home/group1/data/aneurysm/bigdisk/Processed_data/data_00037.p... (27, 2, 1, 1, 64, 64, 64)\n",
      "Done.\n",
      "Image,Mask (38): (439, 512, 512)\n",
      "......t........................t..........m.m.........m...............................t..........................................mm.t.......mmm.......m......................................t.t....................t.......mm.......mmm.......mmt.......................t......................................................mm......m.mm.......m.................................................................................t..................t................................t....................................................................................................t...........................t............................................................................................................t.....................................................t.............................t....\n",
      "Dumping a pickle at /home/group1/data/aneurysm/bigdisk/Processed_data/data_00038.p... (39, 2, 1, 1, 64, 64, 64)\n",
      "Done.\n",
      "Image,Mask (39): (439, 512, 512)\n",
      "..................................m.m........mmm........mm........................................t.....................m.m.......mm.m......m..mm......m.m..........................................................t..............t.m..mmm......m.m...........................................................t...........t.................................................t..................................................................................................................................................................................t..........................t.........................................................................t........t..........................................................................................................................t......................\n",
      "Dumping a pickle at /home/group1/data/aneurysm/bigdisk/Processed_data/data_00039.p... (34, 2, 1, 1, 64, 64, 64)\n",
      "Done.\n",
      "Image,Mask (40): (439, 512, 512)\n",
      "...............................................................................................t.............t......................t............mm..........................................................................m...........mt....t.mm..............................................................................m........m.mm......m..m.........t.............................................................................mmm.t......m............t.....................................................t..................................................................................................................................................t....................................................................................................................................t..........\n",
      "Dumping a pickle at /home/group1/data/aneurysm/bigdisk/Processed_data/data_00040.p... (27, 2, 1, 1, 64, 64, 64)\n",
      "Done.\n",
      "Image,Mask (41): (455, 512, 512)\n",
      "...................t........t...............................................................................................................................................t..............................................mm.......mm.........mm..................................t..........ttt........................t......mmm.....mmm.t..t...mm.................................t......................t.....................m.m......m.mm.........m..................................................................................................t................................................t............t...............................t................................t..................................................t..............................t............................................................t.......................................t..............................................t..\n",
      "Dumping a pickle at /home/group1/data/aneurysm/bigdisk/Processed_data/data_00041.p... (42, 2, 1, 1, 64, 64, 64)\n",
      "Done.\n",
      "Image,Mask (42): (439, 512, 512)\n",
      ".............................................t..................m...m....t.............................................t...................t.m........mm.........m...............t....................................................mmm....t...m.m.......mm........m.......t.t...............................................m.m.......mm.m.......mm.m........................................................t.................................................................................................t.......................................t..................t..............................................t...................t..........t............................t...t......................................................................t..............t.............................................\n",
      "Dumping a pickle at /home/group1/data/aneurysm/bigdisk/Processed_data/data_00042.p... (41, 2, 1, 1, 64, 64, 64)\n",
      "Done.\n",
      "Image,Mask (43): (439, 512, 512)\n",
      ".....................................t........m.m.....m...m.............tt..................................................t.....mm........mmt.......mm................................................................................m...m....mm.........m.....................................................t........................................t.............t...........................................t..............................................................................................................t...........................t.............................................................t........................t......................t....t............................................t...............................................................................................\n",
      "Dumping a pickle at /home/group1/data/aneurysm/bigdisk/Processed_data/data_00043.p... (31, 2, 1, 1, 64, 64, 64)\n",
      "Done.\n",
      "Image,Mask (44): (439, 512, 512)\n",
      "................................................................................t.......................................................................................................................t................................m.m.....mm.......t..............t.........t..............................t..t...........mm........mm........mm.......t.....................................................................mmm.......mmm.......m..............................................................t................mm........mm................................................................t......................................................t....................................................................................................................................................\n",
      "Dumping a pickle at /home/group1/data/aneurysm/bigdisk/Processed_data/data_00044.p... (32, 2, 1, 1, 64, 64, 64)\n",
      "Done.\n",
      "Image,Mask (45): (878, 512, 512)\n"
     ]
    },
    {
     "name": "stdout",
     "output_type": "stream",
     "text": [
      "............t.....................................m..m......mm.....................................................................m......mm........mmm......m.m.........................................................t...........mmm......m.mm......................................................t.............................t.mmm.......mmm...........................................t......................................t...........................t............................................................................................t...................................................t.....................................t.....................................................................................................t.........................t...............................t....................................................................................................................................................................................................t...............t...................................................................................t.......................t.........................t....................t...................................................................................................................................................................................................................t........................................................................................................t.........................................t........t.....................................................................\n",
      "Dumping a pickle at /home/group1/data/aneurysm/bigdisk/Processed_data/data_00045.p... (47, 2, 1, 1, 64, 64, 64)\n",
      "Done.\n",
      "Image,Mask (46): (439, 512, 512)\n",
      "........................................................................t........................................................m...........................................................t..............................mm.........mm......m....................................................................t....t......mm.........mm.m.....m........................................................t.....................mm........mmm.......m.........t..............t.....t..............t.........................................................................t........t...................................................t.................t.................................................................................................................................................................\n",
      "Dumping a pickle at /home/group1/data/aneurysm/bigdisk/Processed_data/data_00046.p... (31, 2, 1, 1, 64, 64, 64)\n",
      "Done.\n",
      "Image,Mask (47): (439, 512, 512)\n",
      "............................................................t...t.......................tt.....t....................t........................m.........m..m..........................t.....................t....................................mmm..........mm.t...............................................................m.m........m.m.......mm...t.................t...................................t....................mm......mmm........m.m..................t...........t.............................................m.m.......mm............t.....................t...................t......................t..............................t.............................................................................................................................t..................................\n",
      "Dumping a pickle at /home/group1/data/aneurysm/bigdisk/Processed_data/data_00047.p... (45, 2, 1, 1, 64, 64, 64)\n",
      "Done.\n",
      "Image,Mask (48): (439, 512, 512)\n",
      ".............................t..............m.m...................................................................................mm..........mmm............................................................................m..m......mm.......mm.........................t....................................t................mm........m.m......m.....................................t..........................t............................t.......................................................................................................................................................................................................................................................................................................................................t..........................t........t.\n",
      "Dumping a pickle at /home/group1/data/aneurysm/bigdisk/Processed_data/data_00048.p... (27, 2, 1, 1, 64, 64, 64)\n",
      "Done.\n",
      "Image,Mask (49): (439, 512, 512)\n",
      "...................................t..........t.......m..m......................t...............................t.................m.........mm....t....mm.........................................t........................m.m.......mm........mmm..........mt.m...................................................t............mm........mm.m.....t..................t.........................t.............................................mm..............................................................................t.........................................................................t.......................................t.............................t..............................................................................................t...................t..............................\n",
      "Dumping a pickle at /home/group1/data/aneurysm/bigdisk/Processed_data/data_00049.p... (40, 2, 1, 1, 64, 64, 64)\n",
      "Done.\n",
      "Image,Mask (50): (439, 512, 512)\n",
      ".......................t............t...................t.........................................................t........................mm.m.....m.m..............................................................t...............mmmm.....m.mmt....................................................................................mmmm........mmmm....................................t.........t..........................................t.....m......................................................t....................................................................................................................................t........................t...............................t....................................................................................................................\n",
      "Dumping a pickle at /home/group1/data/aneurysm/bigdisk/Processed_data/data_00050.p... (34, 2, 1, 1, 64, 64, 64)\n",
      "Done.\n",
      "Image,Mask (51): (439, 512, 512)\n",
      "....................................t.........mm........mm..............t..........................................................m..m.t....mmm........mm...................................................................mm.t.....m.....m....mmm............................................................................m.m.......mm.m......m.m..........................................t.........................................................t..........t.........t.......................t...................................................................t..........................................................................................................t..............................................................t........................................t................................\n",
      "Dumping a pickle at /home/group1/data/aneurysm/bigdisk/Processed_data/data_00051.p... (38, 2, 1, 1, 64, 64, 64)\n",
      "Done.\n",
      "Image,Mask (52): (439, 512, 512)\n"
     ]
    },
    {
     "name": "stdout",
     "output_type": "stream",
     "text": [
      "...........................t....t.................mm........mm...................................................................m............m.....m.mm.....m.m....................................................................mmmm.....m.m.mm.......m.........................................................................t...m..mm...m.mmmm.............................t............................t....................t.....mt........m.......................t........t............t...................................................t...............t.........t............................................................................................t................................................................................................t............................t...................\n",
      "Dumping a pickle at /home/group1/data/aneurysm/bigdisk/Processed_data/data_00052.p... (46, 2, 1, 1, 64, 64, 64)\n",
      "Done.\n",
      "Metadata has been saved in /home/group1/data/aneurysm/bigdisk/Processed_data/metadata.p\n"
     ]
    }
   ],
   "source": [
    "dp.prepare()"
   ]
  },
  {
   "cell_type": "code",
   "execution_count": 22,
   "metadata": {
    "ExecuteTime": {
     "end_time": "2018-07-30T10:13:05.945660Z",
     "start_time": "2018-07-30T10:13:05.924021Z"
    }
   },
   "outputs": [],
   "source": [
    "# print(np.count_nonzero(dp.pickle_load(PATCHES/\"metadata.p\")[\"masked\"]))\n",
    "\n",
    "# len(dp.pickle_load(PATCHES/\"metadata.p\")[\"masked\"]) - np.count_nonzero(dp.pickle_load(PATCHES/\"metadata.p\")[\"masked\"])\n",
    "\n",
    "# # masked = dp.pickle_load(\"/home/amer/data/aneurysm/patches/data_0.p\")[\"masked\"]"
   ]
  },
  {
   "cell_type": "code",
   "execution_count": 20,
   "metadata": {
    "ExecuteTime": {
     "end_time": "2018-07-30T10:13:05.971769Z",
     "start_time": "2018-07-30T10:13:05.946847Z"
    },
    "scrolled": false
   },
   "outputs": [],
   "source": [
    "class DataGen(Sequence):\n",
    "    def __init__(self,mode=0):\n",
    "        \"\"\"\n",
    "        :param mode: 0 for training or 1 validation\n",
    "        \"\"\"\n",
    "        self.mode = mode\n",
    "        self.pickles = np.array([Path(file) for file in sorted(gb.glob(str(PATCHES/'data*.p')))])\n",
    "        self.metadata = dp.pickle_load(PATCHES/\"metadata.p\")\n",
    "        self.file_list = np.array([self.pickles[idx] for idx in self.metadata[\"ct_idx\"]])\n",
    "        self.all_data = np.column_stack((self.file_list, self.metadata['patch_indices']))\n",
    "        self.data_set = split_list(self.all_data, split=0.8, shuffle_list=False)[self.mode]\n",
    "        self.internal_patch_index = split_list(self.get_internal_patch_index(), split=0.8, shuffle_list=False)[self.mode]\n",
    "        \n",
    "    def __len__(self):\n",
    "        return 5 #len(self.data_set)\n",
    "    \n",
    "    def __getitem__(self, idx):\n",
    "        pickle_path = self.data_set[idx][0]\n",
    "        x,y = self.get_pickle(pickle_path)[self.internal_patch_index[idx]]\n",
    "        return x,y\n",
    "    \n",
    "    def get_internal_patch_index(self):        \n",
    "        internal_patch_count = {}\n",
    "        internal_patch_index = []\n",
    "        for x in self.all_data:\n",
    "            try:\n",
    "                internal_patch_count[x[0]] += 1\n",
    "            except KeyError as e:\n",
    "                internal_patch_count[x[0]] = 0\n",
    "            internal_patch_index.append(internal_patch_count[x[0]])\n",
    "        return np.array(internal_patch_index)\n",
    "    \n",
    "    def get_pickle(self,path):\n",
    "        return self.pickle_load(path)['patches']\n",
    "    \n",
    "    @classmethod\n",
    "    def pickle_load(self,in_file):\n",
    "        with open(str(in_file), \"rb\") as opened_file:\n",
    "            return pickle.load(opened_file)\n",
    "\n",
    "    @classmethod\n",
    "    def reshape_array(self,arr):\n",
    "        new_shape = tuple(np.insert(np.shape(arr),0,1))\n",
    "        return np.reshape(arr,new_shape)\n",
    "    \n",
    "\n",
    "# training_gen = DataGen(mode=0)\n",
    "# validation_gen = DataGen(mode=1)\n",
    "\n",
    "# print(len(training_gen))\n",
    "# print(len(validation_gen))\n",
    "# ref = training_gen.internal_patch_index\n",
    "# print(len(ref))\n",
    "\n",
    "# print(len(training_gen[ref[880]]))\n",
    "\n",
    "# training_gen[880]"
   ]
  },
  {
   "cell_type": "code",
   "execution_count": 21,
   "metadata": {
    "ExecuteTime": {
     "end_time": "2018-07-30T10:13:05.998064Z",
     "start_time": "2018-07-30T10:13:05.972915Z"
    },
    "code_folding": []
   },
   "outputs": [],
   "source": [
    "class TrainValTensorBoard(TensorBoard):\n",
    "    def __init__(self, log_dir='./logs', **kwargs):\n",
    "        # Make the original `TensorBoard` log to a subdirectory 'training'\n",
    "        training_log_dir = os.path.join(log_dir, 'training')\n",
    "        super(TrainValTensorBoard, self).__init__(training_log_dir, **kwargs)\n",
    "\n",
    "        # Log the validation metrics to a separate subdirectory\n",
    "        self.val_log_dir = os.path.join(log_dir, 'validation')\n",
    "\n",
    "    def set_model(self, model):\n",
    "        # Setup writer for validation metrics\n",
    "        self.val_writer = tf.summary.FileWriter(self.val_log_dir)\n",
    "        super(TrainValTensorBoard, self).set_model(model)\n",
    "\n",
    "    def on_epoch_end(self, epoch, logs=None):\n",
    "        # Pop the validation logs and handle them separately with\n",
    "        # `self.val_writer`. Also rename the keys so that they can\n",
    "        # be plotted on the same figure with the training metrics\n",
    "        logs = logs or {}\n",
    "        val_logs = {k.replace('val_', ''): v for k, v in logs.items() if k.startswith('val_')}\n",
    "        for name, value in val_logs.items():\n",
    "            summary = tf.Summary()\n",
    "            summary_value = summary.value.add()\n",
    "            summary_value.simple_value = value.item()\n",
    "            summary_value.tag = name\n",
    "            self.val_writer.add_summary(summary, epoch)\n",
    "        self.val_writer.flush()\n",
    "\n",
    "        # Pass the remaining logs to `TensorBoard.on_epoch_end`\n",
    "        logs = {k: v for k, v in logs.items() if not k.startswith('val_')}\n",
    "        super(TrainValTensorBoard, self).on_epoch_end(epoch, logs)\n",
    "\n",
    "    def on_train_end(self, logs=None):\n",
    "        super(TrainValTensorBoard, self).on_train_end(logs)\n",
    "        self.val_writer.close()\n",
    "\n",
    "\n",
    "def model_file():\n",
    "    t = dtime.now().strftime('%Y-%m-%d_%H:%M:%S')\n",
    "    return str(MODELS/f\"UnetModel_{t}.h5\")"
   ]
  },
  {
   "cell_type": "code",
   "execution_count": 107,
   "metadata": {},
   "outputs": [
    {
     "name": "stdout",
     "output_type": "stream",
     "text": [
      "[1. 0. 1. 1. 1. 1.]\n"
     ]
    }
   ],
   "source": [
    "import keras\n",
    "from keras import backend as K\n",
    "\n",
    "def threshold_binary_accuracy(y_true, y_pred):\n",
    "    threshold = 0.8\n",
    "    if K.backend() == 'tensorflow':\n",
    "        return K.mean(K.equal(y_true, K.tf.cast(K.less(y_pred,threshold), y_true.dtype)))\n",
    "    else:\n",
    "        return K.mean(K.equal(y_true, K.lesser(y_pred,threshold)))\n",
    "\n",
    "a_pred = K.variable([.1, 0.04, .6, .79, .8, .9])\n",
    "\n",
    "\n",
    "\n",
    "def threshold_binarize(x, threshold=0.1):\n",
    "    greater = K.greater_equal(x, K.constant(threshold))\n",
    "    return K.cast(greater, dtype=K.floatx())\n",
    "\n",
    "print( K.eval(threshold_binarize(a_pred)))\n"
   ]
  },
  {
   "cell_type": "code",
   "execution_count": 109,
   "metadata": {},
   "outputs": [],
   "source": [
    "from functools import partial\n",
    "\n",
    "from keras.layers import Input, LeakyReLU, Add, UpSampling3D, Activation, SpatialDropout3D, Conv3D\n",
    "from keras.engine import Model\n",
    "from keras.optimizers import Adam\n",
    "\n",
    "\n",
    "from unet3d import *\n",
    "from unet3d.utils.patches import *\n",
    "from unet3d.metrics import *\n",
    "from unet3d.model import *\n",
    "from unet3d.generator import *\n",
    "from unet3d.training import *\n",
    "from unet3d.augment import *\n",
    "from brats.preprocess import *\n",
    "\n",
    "from unet3d.model.unet import create_convolution_block, concatenate\n",
    "from unet3d.metrics import weighted_dice_coefficient_loss\n",
    "\n",
    "\n",
    "create_convolution_block = partial(create_convolution_block, activation=LeakyReLU, instance_normalization=True)\n",
    "\n",
    "def isensee2017_model(input_shape=(4, 128, 128, 128), n_base_filters=16, depth=5, dropout_rate=0.3,\n",
    "                      n_segmentation_levels=3, n_labels=4, optimizer=Adam, initial_learning_rate=5e-4,\n",
    "                      loss_function=weighted_dice_coefficient_loss, activation_name=\"sigmoid\"):\n",
    "    \"\"\"\n",
    "    This function builds a model proposed by Isensee et al. for the BRATS 2017 competition:\n",
    "    https://www.cbica.upenn.edu/sbia/Spyridon.Bakas/MICCAI_BraTS/MICCAI_BraTS_2017_proceedings_shortPapers.pdf\n",
    "\n",
    "    This network is highly similar to the model proposed by Kayalibay et al. \"CNN-based Segmentation of Medical\n",
    "    Imaging Data\", 2017: https://arxiv.org/pdf/1701.03056.pdf\n",
    "\n",
    "\n",
    "    :param input_shape:\n",
    "    :param n_base_filters:\n",
    "    :param depth:\n",
    "    :param dropout_rate:\n",
    "    :param n_segmentation_levels:\n",
    "    :param n_labels:\n",
    "    :param optimizer:\n",
    "    :param initial_learning_rate:\n",
    "    :param loss_function:\n",
    "    :param activation_name:\n",
    "    :return:\n",
    "    \"\"\"\n",
    "    inputs = Input(input_shape)\n",
    "\n",
    "    current_layer = inputs\n",
    "    level_output_layers = list()\n",
    "    level_filters = list()\n",
    "    for level_number in range(depth):\n",
    "        n_level_filters = (2**level_number) * n_base_filters\n",
    "        level_filters.append(n_level_filters)\n",
    "\n",
    "        if current_layer is inputs:\n",
    "            in_conv = create_convolution_block(current_layer, n_level_filters)\n",
    "        else:\n",
    "            in_conv = create_convolution_block(current_layer, n_level_filters, strides=(2, 2, 2))\n",
    "\n",
    "        context_output_layer = create_context_module(in_conv, n_level_filters, dropout_rate=dropout_rate)\n",
    "\n",
    "        summation_layer = Add()([in_conv, context_output_layer])\n",
    "        level_output_layers.append(summation_layer)\n",
    "        current_layer = summation_layer\n",
    "\n",
    "    segmentation_layers = list()\n",
    "    for level_number in range(depth - 2, -1, -1):\n",
    "        up_sampling = create_up_sampling_module(current_layer, level_filters[level_number])\n",
    "        concatenation_layer = concatenate([level_output_layers[level_number], up_sampling], axis=1)\n",
    "        localization_output = create_localization_module(concatenation_layer, level_filters[level_number])\n",
    "        current_layer = localization_output\n",
    "        if level_number < n_segmentation_levels:\n",
    "            segmentation_layers.insert(0, Conv3D(n_labels, (1, 1, 1))(current_layer))\n",
    "\n",
    "    output_layer = None\n",
    "    for level_number in reversed(range(n_segmentation_levels)):\n",
    "        segmentation_layer = segmentation_layers[level_number]\n",
    "        if output_layer is None:\n",
    "            output_layer = segmentation_layer\n",
    "        else:\n",
    "            output_layer = Add()([output_layer, segmentation_layer])\n",
    "\n",
    "        if level_number > 0:\n",
    "            output_layer = UpSampling3D(size=(2, 2, 2))(output_layer)\n",
    "\n",
    "    activation_block = Activation(activation_name)(output_layer)\n",
    "\n",
    "    model = Model(inputs=inputs, outputs=activation_block)\n",
    "    NewUnet = keras.Sequential()\n",
    "    NewUnet.add(model)\n",
    "\n",
    "    #NewUnet.add(keras.layers.ThresholdedReLU(theta=.1))\n",
    "    NewUnet.add(keras.layers.Lambda(lambda x: threshold_binarize(x)))\n",
    "    model = NewUnet\n",
    "    model.compile(optimizer=optimizer(lr=initial_learning_rate), loss=loss_function)\n",
    "    return model\n",
    "\n",
    "\n",
    "def create_localization_module(input_layer, n_filters):\n",
    "    convolution1 = create_convolution_block(input_layer, n_filters)\n",
    "    convolution2 = create_convolution_block(convolution1, n_filters, kernel=(1, 1, 1))\n",
    "    return convolution2\n",
    "\n",
    "\n",
    "def create_up_sampling_module(input_layer, n_filters, size=(2, 2, 2)):\n",
    "    up_sample = UpSampling3D(size=size)(input_layer)\n",
    "    convolution = create_convolution_block(up_sample, n_filters)\n",
    "    return convolution\n",
    "\n",
    "\n",
    "def create_context_module(input_layer, n_level_filters, dropout_rate=0.3, data_format=\"channels_first\"):\n",
    "    convolution1 = create_convolution_block(input_layer=input_layer, n_filters=n_level_filters)\n",
    "    dropout = SpatialDropout3D(rate=dropout_rate, data_format=data_format)(convolution1)\n",
    "    convolution2 = create_convolution_block(input_layer=dropout, n_filters=n_level_filters)\n",
    "    return convolution2"
   ]
  },
  {
   "cell_type": "code",
   "execution_count": 110,
   "metadata": {
    "ExecuteTime": {
     "end_time": "2018-07-30T10:13:06.039374Z",
     "start_time": "2018-07-30T10:13:06.001186Z"
    }
   },
   "outputs": [],
   "source": [
    "UnetModel = isensee2017_model(input_shape=(1,64,64,64),n_labels=1)"
   ]
  },
  {
   "cell_type": "code",
   "execution_count": 83,
   "metadata": {
    "ExecuteTime": {
     "end_time": "2018-07-30T10:13:06.063406Z",
     "start_time": "2018-07-30T10:13:06.040730Z"
    }
   },
   "outputs": [
    {
     "data": {
      "text/plain": [
       "['UnetModel_2018-08-06_18:07:56.h5']"
      ]
     },
     "execution_count": 83,
     "metadata": {},
     "output_type": "execute_result"
    }
   ],
   "source": [
    "models = [Path(m).name for m in (gb.glob(str(MODELS/'UnetModel*.h5')))]\n",
    "models"
   ]
  },
  {
   "cell_type": "code",
   "execution_count": 31,
   "metadata": {
    "ExecuteTime": {
     "end_time": "2018-07-30T10:13:15.303346Z",
     "start_time": "2018-07-30T10:13:06.066216Z"
    }
   },
   "outputs": [
    {
     "name": "stdout",
     "output_type": "stream",
     "text": [
      "Loading pre-trained model\n"
     ]
    }
   ],
   "source": [
    "UnetModel = load_old_model(MODELS/models[-1])\n",
    "#UnetModel = load_old_model(MODELS/'UnetModel_83-epochs_2018-07-25_11:03:04.h5')"
   ]
  },
  {
   "cell_type": "code",
   "execution_count": 84,
   "metadata": {
    "ExecuteTime": {
     "end_time": "2018-07-30T10:13:15.335968Z",
     "start_time": "2018-07-30T10:13:15.306220Z"
    }
   },
   "outputs": [],
   "source": [
    "training_gen = DataGen(mode=0)\n",
    "validation_gen = DataGen(mode=1)"
   ]
  },
  {
   "cell_type": "code",
   "execution_count": 85,
   "metadata": {
    "ExecuteTime": {
     "end_time": "2018-07-30T10:13:15.359792Z",
     "start_time": "2018-07-30T10:13:15.337175Z"
    }
   },
   "outputs": [
    {
     "data": {
      "text/plain": [
       "(None, 1, 64, 64, 64)"
      ]
     },
     "execution_count": 85,
     "metadata": {},
     "output_type": "execute_result"
    }
   ],
   "source": [
    "UnetModel.input_shape"
   ]
  },
  {
   "cell_type": "code",
   "execution_count": 121,
   "metadata": {},
   "outputs": [
    {
     "ename": "ValueError",
     "evalue": "An operation has `None` for gradient. Please make sure that all of your ops have a gradient defined (i.e. are differentiable). Common ops without gradient: K.argmax, K.round, K.eval.",
     "output_type": "error",
     "traceback": [
      "\u001b[0;31m---------------------------------------------------------------------------\u001b[0m",
      "\u001b[0;31mValueError\u001b[0m                                Traceback (most recent call last)",
      "\u001b[0;32m<ipython-input-121-531eeed01971>\u001b[0m in \u001b[0;36m<module>\u001b[0;34m()\u001b[0m\n\u001b[1;32m      4\u001b[0m                         \u001b[0msteps_per_epoch\u001b[0m\u001b[0;34m=\u001b[0m\u001b[0mget_number_of_steps\u001b[0m\u001b[0;34m(\u001b[0m\u001b[0mn_samples\u001b[0m\u001b[0;34m=\u001b[0m\u001b[0mlen\u001b[0m\u001b[0;34m(\u001b[0m\u001b[0mtraining_gen\u001b[0m\u001b[0;34m)\u001b[0m\u001b[0;34m,\u001b[0m \u001b[0mbatch_size\u001b[0m\u001b[0;34m=\u001b[0m\u001b[0;36m1\u001b[0m\u001b[0;34m)\u001b[0m\u001b[0;34m,\u001b[0m\u001b[0;34m\u001b[0m\u001b[0m\n\u001b[1;32m      5\u001b[0m                         \u001b[0mvalidation_steps\u001b[0m\u001b[0;34m=\u001b[0m\u001b[0mget_number_of_steps\u001b[0m\u001b[0;34m(\u001b[0m\u001b[0mn_samples\u001b[0m\u001b[0;34m=\u001b[0m\u001b[0mlen\u001b[0m\u001b[0;34m(\u001b[0m\u001b[0mvalidation_gen\u001b[0m\u001b[0;34m)\u001b[0m\u001b[0;34m,\u001b[0m \u001b[0mbatch_size\u001b[0m\u001b[0;34m=\u001b[0m\u001b[0;36m1\u001b[0m\u001b[0;34m)\u001b[0m\u001b[0;34m,\u001b[0m\u001b[0;34m\u001b[0m\u001b[0m\n\u001b[0;32m----> 6\u001b[0;31m                         \u001b[0mn_epochs\u001b[0m\u001b[0;34m=\u001b[0m\u001b[0;36m1\u001b[0m\u001b[0;34m\u001b[0m\u001b[0m\n\u001b[0m\u001b[1;32m      7\u001b[0m                        )\n",
      "\u001b[0;32m~/Code/3DUnet/unet3d/training.py\u001b[0m in \u001b[0;36mtrain_model\u001b[0;34m(model, model_file, training_generator, validation_generator, steps_per_epoch, validation_steps, initial_learning_rate, learning_rate_drop, learning_rate_epochs, n_epochs, learning_rate_patience, early_stopping_patience)\u001b[0m\n\u001b[1;32m     90\u001b[0m                                                 \u001b[0mlearning_rate_epochs\u001b[0m\u001b[0;34m=\u001b[0m\u001b[0mlearning_rate_epochs\u001b[0m\u001b[0;34m,\u001b[0m\u001b[0;34m\u001b[0m\u001b[0m\n\u001b[1;32m     91\u001b[0m                                                 \u001b[0mlearning_rate_patience\u001b[0m\u001b[0;34m=\u001b[0m\u001b[0mlearning_rate_patience\u001b[0m\u001b[0;34m,\u001b[0m\u001b[0;34m\u001b[0m\u001b[0m\n\u001b[0;32m---> 92\u001b[0;31m                                                 early_stopping_patience=early_stopping_patience))\n\u001b[0m",
      "\u001b[0;32m~/.conda/envs/py3/lib/python3.6/site-packages/keras/legacy/interfaces.py\u001b[0m in \u001b[0;36mwrapper\u001b[0;34m(*args, **kwargs)\u001b[0m\n\u001b[1;32m     89\u001b[0m                 warnings.warn('Update your `' + object_name +\n\u001b[1;32m     90\u001b[0m                               '` call to the Keras 2 API: ' + signature, stacklevel=2)\n\u001b[0;32m---> 91\u001b[0;31m             \u001b[0;32mreturn\u001b[0m \u001b[0mfunc\u001b[0m\u001b[0;34m(\u001b[0m\u001b[0;34m*\u001b[0m\u001b[0margs\u001b[0m\u001b[0;34m,\u001b[0m \u001b[0;34m**\u001b[0m\u001b[0mkwargs\u001b[0m\u001b[0;34m)\u001b[0m\u001b[0;34m\u001b[0m\u001b[0m\n\u001b[0m\u001b[1;32m     92\u001b[0m         \u001b[0mwrapper\u001b[0m\u001b[0;34m.\u001b[0m\u001b[0m_original_function\u001b[0m \u001b[0;34m=\u001b[0m \u001b[0mfunc\u001b[0m\u001b[0;34m\u001b[0m\u001b[0m\n\u001b[1;32m     93\u001b[0m         \u001b[0;32mreturn\u001b[0m \u001b[0mwrapper\u001b[0m\u001b[0;34m\u001b[0m\u001b[0m\n",
      "\u001b[0;32m~/.conda/envs/py3/lib/python3.6/site-packages/keras/models.py\u001b[0m in \u001b[0;36mfit_generator\u001b[0;34m(self, generator, steps_per_epoch, epochs, verbose, callbacks, validation_data, validation_steps, class_weight, max_queue_size, workers, use_multiprocessing, shuffle, initial_epoch)\u001b[0m\n\u001b[1;32m   1313\u001b[0m                                         \u001b[0muse_multiprocessing\u001b[0m\u001b[0;34m=\u001b[0m\u001b[0muse_multiprocessing\u001b[0m\u001b[0;34m,\u001b[0m\u001b[0;34m\u001b[0m\u001b[0m\n\u001b[1;32m   1314\u001b[0m                                         \u001b[0mshuffle\u001b[0m\u001b[0;34m=\u001b[0m\u001b[0mshuffle\u001b[0m\u001b[0;34m,\u001b[0m\u001b[0;34m\u001b[0m\u001b[0m\n\u001b[0;32m-> 1315\u001b[0;31m                                         initial_epoch=initial_epoch)\n\u001b[0m\u001b[1;32m   1316\u001b[0m \u001b[0;34m\u001b[0m\u001b[0m\n\u001b[1;32m   1317\u001b[0m     \u001b[0;34m@\u001b[0m\u001b[0minterfaces\u001b[0m\u001b[0;34m.\u001b[0m\u001b[0mlegacy_generator_methods_support\u001b[0m\u001b[0;34m\u001b[0m\u001b[0m\n",
      "\u001b[0;32m~/.conda/envs/py3/lib/python3.6/site-packages/keras/legacy/interfaces.py\u001b[0m in \u001b[0;36mwrapper\u001b[0;34m(*args, **kwargs)\u001b[0m\n\u001b[1;32m     89\u001b[0m                 warnings.warn('Update your `' + object_name +\n\u001b[1;32m     90\u001b[0m                               '` call to the Keras 2 API: ' + signature, stacklevel=2)\n\u001b[0;32m---> 91\u001b[0;31m             \u001b[0;32mreturn\u001b[0m \u001b[0mfunc\u001b[0m\u001b[0;34m(\u001b[0m\u001b[0;34m*\u001b[0m\u001b[0margs\u001b[0m\u001b[0;34m,\u001b[0m \u001b[0;34m**\u001b[0m\u001b[0mkwargs\u001b[0m\u001b[0;34m)\u001b[0m\u001b[0;34m\u001b[0m\u001b[0m\n\u001b[0m\u001b[1;32m     92\u001b[0m         \u001b[0mwrapper\u001b[0m\u001b[0;34m.\u001b[0m\u001b[0m_original_function\u001b[0m \u001b[0;34m=\u001b[0m \u001b[0mfunc\u001b[0m\u001b[0;34m\u001b[0m\u001b[0m\n\u001b[1;32m     93\u001b[0m         \u001b[0;32mreturn\u001b[0m \u001b[0mwrapper\u001b[0m\u001b[0;34m\u001b[0m\u001b[0m\n",
      "\u001b[0;32m~/.conda/envs/py3/lib/python3.6/site-packages/keras/engine/training.py\u001b[0m in \u001b[0;36mfit_generator\u001b[0;34m(self, generator, steps_per_epoch, epochs, verbose, callbacks, validation_data, validation_steps, class_weight, max_queue_size, workers, use_multiprocessing, shuffle, initial_epoch)\u001b[0m\n\u001b[1;32m   2078\u001b[0m \u001b[0;34m\u001b[0m\u001b[0m\n\u001b[1;32m   2079\u001b[0m         \u001b[0mdo_validation\u001b[0m \u001b[0;34m=\u001b[0m \u001b[0mbool\u001b[0m\u001b[0;34m(\u001b[0m\u001b[0mvalidation_data\u001b[0m\u001b[0;34m)\u001b[0m\u001b[0;34m\u001b[0m\u001b[0m\n\u001b[0;32m-> 2080\u001b[0;31m         \u001b[0mself\u001b[0m\u001b[0;34m.\u001b[0m\u001b[0m_make_train_function\u001b[0m\u001b[0;34m(\u001b[0m\u001b[0;34m)\u001b[0m\u001b[0;34m\u001b[0m\u001b[0m\n\u001b[0m\u001b[1;32m   2081\u001b[0m         \u001b[0;32mif\u001b[0m \u001b[0mdo_validation\u001b[0m\u001b[0;34m:\u001b[0m\u001b[0;34m\u001b[0m\u001b[0m\n\u001b[1;32m   2082\u001b[0m             \u001b[0mself\u001b[0m\u001b[0;34m.\u001b[0m\u001b[0m_make_test_function\u001b[0m\u001b[0;34m(\u001b[0m\u001b[0;34m)\u001b[0m\u001b[0;34m\u001b[0m\u001b[0m\n",
      "\u001b[0;32m~/.conda/envs/py3/lib/python3.6/site-packages/keras/engine/training.py\u001b[0m in \u001b[0;36m_make_train_function\u001b[0;34m(self)\u001b[0m\n\u001b[1;32m    990\u001b[0m                     training_updates = self.optimizer.get_updates(\n\u001b[1;32m    991\u001b[0m                         \u001b[0mparams\u001b[0m\u001b[0;34m=\u001b[0m\u001b[0mself\u001b[0m\u001b[0;34m.\u001b[0m\u001b[0m_collected_trainable_weights\u001b[0m\u001b[0;34m,\u001b[0m\u001b[0;34m\u001b[0m\u001b[0m\n\u001b[0;32m--> 992\u001b[0;31m                         loss=self.total_loss)\n\u001b[0m\u001b[1;32m    993\u001b[0m                 \u001b[0mupdates\u001b[0m \u001b[0;34m=\u001b[0m \u001b[0mself\u001b[0m\u001b[0;34m.\u001b[0m\u001b[0mupdates\u001b[0m \u001b[0;34m+\u001b[0m \u001b[0mtraining_updates\u001b[0m \u001b[0;34m+\u001b[0m \u001b[0mself\u001b[0m\u001b[0;34m.\u001b[0m\u001b[0mmetrics_updates\u001b[0m\u001b[0;34m\u001b[0m\u001b[0m\n\u001b[1;32m    994\u001b[0m                 \u001b[0;31m# Gets loss and metrics. Updates weights at each call.\u001b[0m\u001b[0;34m\u001b[0m\u001b[0;34m\u001b[0m\u001b[0m\n",
      "\u001b[0;32m~/.conda/envs/py3/lib/python3.6/site-packages/keras/legacy/interfaces.py\u001b[0m in \u001b[0;36mwrapper\u001b[0;34m(*args, **kwargs)\u001b[0m\n\u001b[1;32m     89\u001b[0m                 warnings.warn('Update your `' + object_name +\n\u001b[1;32m     90\u001b[0m                               '` call to the Keras 2 API: ' + signature, stacklevel=2)\n\u001b[0;32m---> 91\u001b[0;31m             \u001b[0;32mreturn\u001b[0m \u001b[0mfunc\u001b[0m\u001b[0;34m(\u001b[0m\u001b[0;34m*\u001b[0m\u001b[0margs\u001b[0m\u001b[0;34m,\u001b[0m \u001b[0;34m**\u001b[0m\u001b[0mkwargs\u001b[0m\u001b[0;34m)\u001b[0m\u001b[0;34m\u001b[0m\u001b[0m\n\u001b[0m\u001b[1;32m     92\u001b[0m         \u001b[0mwrapper\u001b[0m\u001b[0;34m.\u001b[0m\u001b[0m_original_function\u001b[0m \u001b[0;34m=\u001b[0m \u001b[0mfunc\u001b[0m\u001b[0;34m\u001b[0m\u001b[0m\n\u001b[1;32m     93\u001b[0m         \u001b[0;32mreturn\u001b[0m \u001b[0mwrapper\u001b[0m\u001b[0;34m\u001b[0m\u001b[0m\n",
      "\u001b[0;32m~/.conda/envs/py3/lib/python3.6/site-packages/keras/optimizers.py\u001b[0m in \u001b[0;36mget_updates\u001b[0;34m(self, loss, params)\u001b[0m\n\u001b[1;32m    443\u001b[0m     \u001b[0;34m@\u001b[0m\u001b[0minterfaces\u001b[0m\u001b[0;34m.\u001b[0m\u001b[0mlegacy_get_updates_support\u001b[0m\u001b[0;34m\u001b[0m\u001b[0m\n\u001b[1;32m    444\u001b[0m     \u001b[0;32mdef\u001b[0m \u001b[0mget_updates\u001b[0m\u001b[0;34m(\u001b[0m\u001b[0mself\u001b[0m\u001b[0;34m,\u001b[0m \u001b[0mloss\u001b[0m\u001b[0;34m,\u001b[0m \u001b[0mparams\u001b[0m\u001b[0;34m)\u001b[0m\u001b[0;34m:\u001b[0m\u001b[0;34m\u001b[0m\u001b[0m\n\u001b[0;32m--> 445\u001b[0;31m         \u001b[0mgrads\u001b[0m \u001b[0;34m=\u001b[0m \u001b[0mself\u001b[0m\u001b[0;34m.\u001b[0m\u001b[0mget_gradients\u001b[0m\u001b[0;34m(\u001b[0m\u001b[0mloss\u001b[0m\u001b[0;34m,\u001b[0m \u001b[0mparams\u001b[0m\u001b[0;34m)\u001b[0m\u001b[0;34m\u001b[0m\u001b[0m\n\u001b[0m\u001b[1;32m    446\u001b[0m         \u001b[0mself\u001b[0m\u001b[0;34m.\u001b[0m\u001b[0mupdates\u001b[0m \u001b[0;34m=\u001b[0m \u001b[0;34m[\u001b[0m\u001b[0mK\u001b[0m\u001b[0;34m.\u001b[0m\u001b[0mupdate_add\u001b[0m\u001b[0;34m(\u001b[0m\u001b[0mself\u001b[0m\u001b[0;34m.\u001b[0m\u001b[0miterations\u001b[0m\u001b[0;34m,\u001b[0m \u001b[0;36m1\u001b[0m\u001b[0;34m)\u001b[0m\u001b[0;34m]\u001b[0m\u001b[0;34m\u001b[0m\u001b[0m\n\u001b[1;32m    447\u001b[0m \u001b[0;34m\u001b[0m\u001b[0m\n",
      "\u001b[0;32m~/.conda/envs/py3/lib/python3.6/site-packages/keras/optimizers.py\u001b[0m in \u001b[0;36mget_gradients\u001b[0;34m(self, loss, params)\u001b[0m\n\u001b[1;32m     78\u001b[0m         \u001b[0mgrads\u001b[0m \u001b[0;34m=\u001b[0m \u001b[0mK\u001b[0m\u001b[0;34m.\u001b[0m\u001b[0mgradients\u001b[0m\u001b[0;34m(\u001b[0m\u001b[0mloss\u001b[0m\u001b[0;34m,\u001b[0m \u001b[0mparams\u001b[0m\u001b[0;34m)\u001b[0m\u001b[0;34m\u001b[0m\u001b[0m\n\u001b[1;32m     79\u001b[0m         \u001b[0;32mif\u001b[0m \u001b[0;32mNone\u001b[0m \u001b[0;32min\u001b[0m \u001b[0mgrads\u001b[0m\u001b[0;34m:\u001b[0m\u001b[0;34m\u001b[0m\u001b[0m\n\u001b[0;32m---> 80\u001b[0;31m             raise ValueError('An operation has `None` for gradient. '\n\u001b[0m\u001b[1;32m     81\u001b[0m                              \u001b[0;34m'Please make sure that all of your ops have a '\u001b[0m\u001b[0;34m\u001b[0m\u001b[0m\n\u001b[1;32m     82\u001b[0m                              \u001b[0;34m'gradient defined (i.e. are differentiable). '\u001b[0m\u001b[0;34m\u001b[0m\u001b[0m\n",
      "\u001b[0;31mValueError\u001b[0m: An operation has `None` for gradient. Please make sure that all of your ops have a gradient defined (i.e. are differentiable). Common ops without gradient: K.argmax, K.round, K.eval."
     ]
    }
   ],
   "source": [
    "UnetModel = train_model(UnetModel,model_file(),\n",
    "                        training_generator=training_gen,\n",
    "                        validation_generator=validation_gen,\n",
    "                        steps_per_epoch=get_number_of_steps(n_samples=len(training_gen), batch_size=1),\n",
    "                        validation_steps=get_number_of_steps(n_samples=len(validation_gen), batch_size=1),\n",
    "                        n_epochs=1\n",
    "                       )"
   ]
  },
  {
   "cell_type": "code",
   "execution_count": 87,
   "metadata": {
    "ExecuteTime": {
     "end_time": "2018-07-26T08:37:58.431908Z",
     "start_time": "2018-07-26T00:16:02.963503Z"
    },
    "deletable": false,
    "editable": false,
    "run_control": {
     "frozen": true
    }
   },
   "outputs": [
    {
     "ename": "ValueError",
     "evalue": "An operation has `None` for gradient. Please make sure that all of your ops have a gradient defined (i.e. are differentiable). Common ops without gradient: K.argmax, K.round, K.eval.",
     "output_type": "error",
     "traceback": [
      "\u001b[0;31m---------------------------------------------------------------------------\u001b[0m",
      "\u001b[0;31mValueError\u001b[0m                                Traceback (most recent call last)",
      "\u001b[0;32m<ipython-input-87-4cb3dc947b1d>\u001b[0m in \u001b[0;36m<module>\u001b[0;34m()\u001b[0m\n\u001b[1;32m      4\u001b[0m                         \u001b[0msteps_per_epoch\u001b[0m\u001b[0;34m=\u001b[0m\u001b[0mget_number_of_steps\u001b[0m\u001b[0;34m(\u001b[0m\u001b[0mn_samples\u001b[0m\u001b[0;34m=\u001b[0m\u001b[0mlen\u001b[0m\u001b[0;34m(\u001b[0m\u001b[0mtraining_gen\u001b[0m\u001b[0;34m)\u001b[0m\u001b[0;34m,\u001b[0m \u001b[0mbatch_size\u001b[0m\u001b[0;34m=\u001b[0m\u001b[0;36m1\u001b[0m\u001b[0;34m)\u001b[0m\u001b[0;34m,\u001b[0m\u001b[0;34m\u001b[0m\u001b[0m\n\u001b[1;32m      5\u001b[0m                         \u001b[0mvalidation_steps\u001b[0m\u001b[0;34m=\u001b[0m\u001b[0mget_number_of_steps\u001b[0m\u001b[0;34m(\u001b[0m\u001b[0mn_samples\u001b[0m\u001b[0;34m=\u001b[0m\u001b[0mlen\u001b[0m\u001b[0;34m(\u001b[0m\u001b[0mvalidation_gen\u001b[0m\u001b[0;34m)\u001b[0m\u001b[0;34m,\u001b[0m \u001b[0mbatch_size\u001b[0m\u001b[0;34m=\u001b[0m\u001b[0;36m1\u001b[0m\u001b[0;34m)\u001b[0m\u001b[0;34m,\u001b[0m\u001b[0;34m\u001b[0m\u001b[0m\n\u001b[0;32m----> 6\u001b[0;31m                         \u001b[0mn_epochs\u001b[0m\u001b[0;34m=\u001b[0m\u001b[0;36m70\u001b[0m\u001b[0;34m\u001b[0m\u001b[0m\n\u001b[0m\u001b[1;32m      7\u001b[0m                        )\n",
      "\u001b[0;32m~/Code/3DUnet/unet3d/training.py\u001b[0m in \u001b[0;36mtrain_model\u001b[0;34m(model, model_file, training_generator, validation_generator, steps_per_epoch, validation_steps, initial_learning_rate, learning_rate_drop, learning_rate_epochs, n_epochs, learning_rate_patience, early_stopping_patience)\u001b[0m\n\u001b[1;32m     90\u001b[0m                                                 \u001b[0mlearning_rate_epochs\u001b[0m\u001b[0;34m=\u001b[0m\u001b[0mlearning_rate_epochs\u001b[0m\u001b[0;34m,\u001b[0m\u001b[0;34m\u001b[0m\u001b[0m\n\u001b[1;32m     91\u001b[0m                                                 \u001b[0mlearning_rate_patience\u001b[0m\u001b[0;34m=\u001b[0m\u001b[0mlearning_rate_patience\u001b[0m\u001b[0;34m,\u001b[0m\u001b[0;34m\u001b[0m\u001b[0m\n\u001b[0;32m---> 92\u001b[0;31m                                                 early_stopping_patience=early_stopping_patience))\n\u001b[0m",
      "\u001b[0;32m~/.conda/envs/py3/lib/python3.6/site-packages/keras/legacy/interfaces.py\u001b[0m in \u001b[0;36mwrapper\u001b[0;34m(*args, **kwargs)\u001b[0m\n\u001b[1;32m     89\u001b[0m                 warnings.warn('Update your `' + object_name +\n\u001b[1;32m     90\u001b[0m                               '` call to the Keras 2 API: ' + signature, stacklevel=2)\n\u001b[0;32m---> 91\u001b[0;31m             \u001b[0;32mreturn\u001b[0m \u001b[0mfunc\u001b[0m\u001b[0;34m(\u001b[0m\u001b[0;34m*\u001b[0m\u001b[0margs\u001b[0m\u001b[0;34m,\u001b[0m \u001b[0;34m**\u001b[0m\u001b[0mkwargs\u001b[0m\u001b[0;34m)\u001b[0m\u001b[0;34m\u001b[0m\u001b[0m\n\u001b[0m\u001b[1;32m     92\u001b[0m         \u001b[0mwrapper\u001b[0m\u001b[0;34m.\u001b[0m\u001b[0m_original_function\u001b[0m \u001b[0;34m=\u001b[0m \u001b[0mfunc\u001b[0m\u001b[0;34m\u001b[0m\u001b[0m\n\u001b[1;32m     93\u001b[0m         \u001b[0;32mreturn\u001b[0m \u001b[0mwrapper\u001b[0m\u001b[0;34m\u001b[0m\u001b[0m\n",
      "\u001b[0;32m~/.conda/envs/py3/lib/python3.6/site-packages/keras/models.py\u001b[0m in \u001b[0;36mfit_generator\u001b[0;34m(self, generator, steps_per_epoch, epochs, verbose, callbacks, validation_data, validation_steps, class_weight, max_queue_size, workers, use_multiprocessing, shuffle, initial_epoch)\u001b[0m\n\u001b[1;32m   1313\u001b[0m                                         \u001b[0muse_multiprocessing\u001b[0m\u001b[0;34m=\u001b[0m\u001b[0muse_multiprocessing\u001b[0m\u001b[0;34m,\u001b[0m\u001b[0;34m\u001b[0m\u001b[0m\n\u001b[1;32m   1314\u001b[0m                                         \u001b[0mshuffle\u001b[0m\u001b[0;34m=\u001b[0m\u001b[0mshuffle\u001b[0m\u001b[0;34m,\u001b[0m\u001b[0;34m\u001b[0m\u001b[0m\n\u001b[0;32m-> 1315\u001b[0;31m                                         initial_epoch=initial_epoch)\n\u001b[0m\u001b[1;32m   1316\u001b[0m \u001b[0;34m\u001b[0m\u001b[0m\n\u001b[1;32m   1317\u001b[0m     \u001b[0;34m@\u001b[0m\u001b[0minterfaces\u001b[0m\u001b[0;34m.\u001b[0m\u001b[0mlegacy_generator_methods_support\u001b[0m\u001b[0;34m\u001b[0m\u001b[0m\n",
      "\u001b[0;32m~/.conda/envs/py3/lib/python3.6/site-packages/keras/legacy/interfaces.py\u001b[0m in \u001b[0;36mwrapper\u001b[0;34m(*args, **kwargs)\u001b[0m\n\u001b[1;32m     89\u001b[0m                 warnings.warn('Update your `' + object_name +\n\u001b[1;32m     90\u001b[0m                               '` call to the Keras 2 API: ' + signature, stacklevel=2)\n\u001b[0;32m---> 91\u001b[0;31m             \u001b[0;32mreturn\u001b[0m \u001b[0mfunc\u001b[0m\u001b[0;34m(\u001b[0m\u001b[0;34m*\u001b[0m\u001b[0margs\u001b[0m\u001b[0;34m,\u001b[0m \u001b[0;34m**\u001b[0m\u001b[0mkwargs\u001b[0m\u001b[0;34m)\u001b[0m\u001b[0;34m\u001b[0m\u001b[0m\n\u001b[0m\u001b[1;32m     92\u001b[0m         \u001b[0mwrapper\u001b[0m\u001b[0;34m.\u001b[0m\u001b[0m_original_function\u001b[0m \u001b[0;34m=\u001b[0m \u001b[0mfunc\u001b[0m\u001b[0;34m\u001b[0m\u001b[0m\n\u001b[1;32m     93\u001b[0m         \u001b[0;32mreturn\u001b[0m \u001b[0mwrapper\u001b[0m\u001b[0;34m\u001b[0m\u001b[0m\n",
      "\u001b[0;32m~/.conda/envs/py3/lib/python3.6/site-packages/keras/engine/training.py\u001b[0m in \u001b[0;36mfit_generator\u001b[0;34m(self, generator, steps_per_epoch, epochs, verbose, callbacks, validation_data, validation_steps, class_weight, max_queue_size, workers, use_multiprocessing, shuffle, initial_epoch)\u001b[0m\n\u001b[1;32m   2078\u001b[0m \u001b[0;34m\u001b[0m\u001b[0m\n\u001b[1;32m   2079\u001b[0m         \u001b[0mdo_validation\u001b[0m \u001b[0;34m=\u001b[0m \u001b[0mbool\u001b[0m\u001b[0;34m(\u001b[0m\u001b[0mvalidation_data\u001b[0m\u001b[0;34m)\u001b[0m\u001b[0;34m\u001b[0m\u001b[0m\n\u001b[0;32m-> 2080\u001b[0;31m         \u001b[0mself\u001b[0m\u001b[0;34m.\u001b[0m\u001b[0m_make_train_function\u001b[0m\u001b[0;34m(\u001b[0m\u001b[0;34m)\u001b[0m\u001b[0;34m\u001b[0m\u001b[0m\n\u001b[0m\u001b[1;32m   2081\u001b[0m         \u001b[0;32mif\u001b[0m \u001b[0mdo_validation\u001b[0m\u001b[0;34m:\u001b[0m\u001b[0;34m\u001b[0m\u001b[0m\n\u001b[1;32m   2082\u001b[0m             \u001b[0mself\u001b[0m\u001b[0;34m.\u001b[0m\u001b[0m_make_test_function\u001b[0m\u001b[0;34m(\u001b[0m\u001b[0;34m)\u001b[0m\u001b[0;34m\u001b[0m\u001b[0m\n",
      "\u001b[0;32m~/.conda/envs/py3/lib/python3.6/site-packages/keras/engine/training.py\u001b[0m in \u001b[0;36m_make_train_function\u001b[0;34m(self)\u001b[0m\n\u001b[1;32m    990\u001b[0m                     training_updates = self.optimizer.get_updates(\n\u001b[1;32m    991\u001b[0m                         \u001b[0mparams\u001b[0m\u001b[0;34m=\u001b[0m\u001b[0mself\u001b[0m\u001b[0;34m.\u001b[0m\u001b[0m_collected_trainable_weights\u001b[0m\u001b[0;34m,\u001b[0m\u001b[0;34m\u001b[0m\u001b[0m\n\u001b[0;32m--> 992\u001b[0;31m                         loss=self.total_loss)\n\u001b[0m\u001b[1;32m    993\u001b[0m                 \u001b[0mupdates\u001b[0m \u001b[0;34m=\u001b[0m \u001b[0mself\u001b[0m\u001b[0;34m.\u001b[0m\u001b[0mupdates\u001b[0m \u001b[0;34m+\u001b[0m \u001b[0mtraining_updates\u001b[0m \u001b[0;34m+\u001b[0m \u001b[0mself\u001b[0m\u001b[0;34m.\u001b[0m\u001b[0mmetrics_updates\u001b[0m\u001b[0;34m\u001b[0m\u001b[0m\n\u001b[1;32m    994\u001b[0m                 \u001b[0;31m# Gets loss and metrics. Updates weights at each call.\u001b[0m\u001b[0;34m\u001b[0m\u001b[0;34m\u001b[0m\u001b[0m\n",
      "\u001b[0;32m~/.conda/envs/py3/lib/python3.6/site-packages/keras/legacy/interfaces.py\u001b[0m in \u001b[0;36mwrapper\u001b[0;34m(*args, **kwargs)\u001b[0m\n\u001b[1;32m     89\u001b[0m                 warnings.warn('Update your `' + object_name +\n\u001b[1;32m     90\u001b[0m                               '` call to the Keras 2 API: ' + signature, stacklevel=2)\n\u001b[0;32m---> 91\u001b[0;31m             \u001b[0;32mreturn\u001b[0m \u001b[0mfunc\u001b[0m\u001b[0;34m(\u001b[0m\u001b[0;34m*\u001b[0m\u001b[0margs\u001b[0m\u001b[0;34m,\u001b[0m \u001b[0;34m**\u001b[0m\u001b[0mkwargs\u001b[0m\u001b[0;34m)\u001b[0m\u001b[0;34m\u001b[0m\u001b[0m\n\u001b[0m\u001b[1;32m     92\u001b[0m         \u001b[0mwrapper\u001b[0m\u001b[0;34m.\u001b[0m\u001b[0m_original_function\u001b[0m \u001b[0;34m=\u001b[0m \u001b[0mfunc\u001b[0m\u001b[0;34m\u001b[0m\u001b[0m\n\u001b[1;32m     93\u001b[0m         \u001b[0;32mreturn\u001b[0m \u001b[0mwrapper\u001b[0m\u001b[0;34m\u001b[0m\u001b[0m\n",
      "\u001b[0;32m~/.conda/envs/py3/lib/python3.6/site-packages/keras/optimizers.py\u001b[0m in \u001b[0;36mget_updates\u001b[0;34m(self, loss, params)\u001b[0m\n\u001b[1;32m    443\u001b[0m     \u001b[0;34m@\u001b[0m\u001b[0minterfaces\u001b[0m\u001b[0;34m.\u001b[0m\u001b[0mlegacy_get_updates_support\u001b[0m\u001b[0;34m\u001b[0m\u001b[0m\n\u001b[1;32m    444\u001b[0m     \u001b[0;32mdef\u001b[0m \u001b[0mget_updates\u001b[0m\u001b[0;34m(\u001b[0m\u001b[0mself\u001b[0m\u001b[0;34m,\u001b[0m \u001b[0mloss\u001b[0m\u001b[0;34m,\u001b[0m \u001b[0mparams\u001b[0m\u001b[0;34m)\u001b[0m\u001b[0;34m:\u001b[0m\u001b[0;34m\u001b[0m\u001b[0m\n\u001b[0;32m--> 445\u001b[0;31m         \u001b[0mgrads\u001b[0m \u001b[0;34m=\u001b[0m \u001b[0mself\u001b[0m\u001b[0;34m.\u001b[0m\u001b[0mget_gradients\u001b[0m\u001b[0;34m(\u001b[0m\u001b[0mloss\u001b[0m\u001b[0;34m,\u001b[0m \u001b[0mparams\u001b[0m\u001b[0;34m)\u001b[0m\u001b[0;34m\u001b[0m\u001b[0m\n\u001b[0m\u001b[1;32m    446\u001b[0m         \u001b[0mself\u001b[0m\u001b[0;34m.\u001b[0m\u001b[0mupdates\u001b[0m \u001b[0;34m=\u001b[0m \u001b[0;34m[\u001b[0m\u001b[0mK\u001b[0m\u001b[0;34m.\u001b[0m\u001b[0mupdate_add\u001b[0m\u001b[0;34m(\u001b[0m\u001b[0mself\u001b[0m\u001b[0;34m.\u001b[0m\u001b[0miterations\u001b[0m\u001b[0;34m,\u001b[0m \u001b[0;36m1\u001b[0m\u001b[0;34m)\u001b[0m\u001b[0;34m]\u001b[0m\u001b[0;34m\u001b[0m\u001b[0m\n\u001b[1;32m    447\u001b[0m \u001b[0;34m\u001b[0m\u001b[0m\n",
      "\u001b[0;32m~/.conda/envs/py3/lib/python3.6/site-packages/keras/optimizers.py\u001b[0m in \u001b[0;36mget_gradients\u001b[0;34m(self, loss, params)\u001b[0m\n\u001b[1;32m     78\u001b[0m         \u001b[0mgrads\u001b[0m \u001b[0;34m=\u001b[0m \u001b[0mK\u001b[0m\u001b[0;34m.\u001b[0m\u001b[0mgradients\u001b[0m\u001b[0;34m(\u001b[0m\u001b[0mloss\u001b[0m\u001b[0;34m,\u001b[0m \u001b[0mparams\u001b[0m\u001b[0;34m)\u001b[0m\u001b[0;34m\u001b[0m\u001b[0m\n\u001b[1;32m     79\u001b[0m         \u001b[0;32mif\u001b[0m \u001b[0;32mNone\u001b[0m \u001b[0;32min\u001b[0m \u001b[0mgrads\u001b[0m\u001b[0;34m:\u001b[0m\u001b[0;34m\u001b[0m\u001b[0m\n\u001b[0;32m---> 80\u001b[0;31m             raise ValueError('An operation has `None` for gradient. '\n\u001b[0m\u001b[1;32m     81\u001b[0m                              \u001b[0;34m'Please make sure that all of your ops have a '\u001b[0m\u001b[0;34m\u001b[0m\u001b[0m\n\u001b[1;32m     82\u001b[0m                              \u001b[0;34m'gradient defined (i.e. are differentiable). '\u001b[0m\u001b[0;34m\u001b[0m\u001b[0m\n",
      "\u001b[0;31mValueError\u001b[0m: An operation has `None` for gradient. Please make sure that all of your ops have a gradient defined (i.e. are differentiable). Common ops without gradient: K.argmax, K.round, K.eval."
     ]
    }
   ],
   "source": [
    "UnetModel = train_model(UnetModel,model_file(),\n",
    "                        training_generator=training_gen,\n",
    "                        validation_generator=validation_gen,\n",
    "                        steps_per_epoch=get_number_of_steps(n_samples=len(training_gen), batch_size=1),\n",
    "                        validation_steps=get_number_of_steps(n_samples=len(validation_gen), batch_size=1),\n",
    "                        n_epochs=70\n",
    "                       )"
   ]
  },
  {
   "cell_type": "code",
   "execution_count": 128,
   "metadata": {
    "ExecuteTime": {
     "end_time": "2018-07-25T09:03:04.842079Z",
     "start_time": "2018-07-25T09:03:04.534944Z"
    },
    "deletable": false,
    "editable": false,
    "run_control": {
     "frozen": true
    }
   },
   "outputs": [
    {
     "ename": "AttributeError",
     "evalue": "'Model' object has no attribute 'history'",
     "output_type": "error",
     "traceback": [
      "\u001b[0;31m---------------------------------------------------------------------------\u001b[0m",
      "\u001b[0;31mAttributeError\u001b[0m                            Traceback (most recent call last)",
      "\u001b[0;32m<ipython-input-128-0c5afaefa68b>\u001b[0m in \u001b[0;36m<module>\u001b[0;34m()\u001b[0m\n\u001b[1;32m      1\u001b[0m \u001b[0;31m# Save model\u001b[0m\u001b[0;34m\u001b[0m\u001b[0;34m\u001b[0m\u001b[0m\n\u001b[1;32m      2\u001b[0m \u001b[0mt\u001b[0m \u001b[0;34m=\u001b[0m \u001b[0mdtime\u001b[0m\u001b[0;34m.\u001b[0m\u001b[0mnow\u001b[0m\u001b[0;34m(\u001b[0m\u001b[0;34m)\u001b[0m\u001b[0;34m.\u001b[0m\u001b[0mstrftime\u001b[0m\u001b[0;34m(\u001b[0m\u001b[0;34m'%Y-%m-%d_%H:%M:%S'\u001b[0m\u001b[0;34m)\u001b[0m\u001b[0;34m\u001b[0m\u001b[0m\n\u001b[0;32m----> 3\u001b[0;31m \u001b[0me\u001b[0m \u001b[0;34m=\u001b[0m \u001b[0mlen\u001b[0m\u001b[0;34m(\u001b[0m\u001b[0mUnetModel\u001b[0m\u001b[0;34m.\u001b[0m\u001b[0mhistory\u001b[0m\u001b[0;34m.\u001b[0m\u001b[0mepoch\u001b[0m\u001b[0;34m)\u001b[0m\u001b[0;34m\u001b[0m\u001b[0m\n\u001b[0m\u001b[1;32m      4\u001b[0m \u001b[0mUnetModel\u001b[0m\u001b[0;34m.\u001b[0m\u001b[0msave\u001b[0m\u001b[0;34m(\u001b[0m\u001b[0mstr\u001b[0m\u001b[0;34m(\u001b[0m\u001b[0mMODELS\u001b[0m\u001b[0;34m/\u001b[0m\u001b[0;34mf\"UnetModel_{e}-epochs_{t}.h5\"\u001b[0m\u001b[0;34m)\u001b[0m\u001b[0;34m)\u001b[0m\u001b[0;34m\u001b[0m\u001b[0m\n",
      "\u001b[0;31mAttributeError\u001b[0m: 'Model' object has no attribute 'history'"
     ]
    }
   ],
   "source": [
    "# Save model\n",
    "t = dtime.now().strftime('%Y-%m-%d_%H:%M:%S')\n",
    "e = len(UnetModel.history.epoch)\n",
    "UnetModel.save(str(MODELS/f\"UnetModel_{e}-epochs_{t}.h5\"))"
   ]
  },
  {
   "cell_type": "code",
   "execution_count": 50,
   "metadata": {
    "ExecuteTime": {
     "end_time": "2018-07-30T10:15:55.475372Z",
     "start_time": "2018-07-30T10:15:53.154919Z"
    },
    "scrolled": false
   },
   "outputs": [
    {
     "data": {
      "application/vnd.jupyter.widget-view+json": {
       "model_id": "6b05ac39d8e7474d9faf91163d6a06de",
       "version_major": 2,
       "version_minor": 0
      },
      "text/plain": [
       "interactive(children=(IntSlider(value=4, description='patch_idx', layout=Layout(width='90%'), max=4), IntSlide…"
      ]
     },
     "metadata": {},
     "output_type": "display_data"
    }
   ],
   "source": [
    "class DataBrowser():\n",
    "    def __init__(self,model,gen):\n",
    "        self.gen = gen\n",
    "        self.model = model\n",
    "        plt.rc('font', size=14)  \n",
    "        \n",
    "    def __len__(self):\n",
    "        return len(self.gen)\n",
    "        \n",
    "    def get_x(self,patch_idx):\n",
    "        return self.gen[patch_idx][0]\n",
    "    \n",
    "    def get_y(self,patch_idx):\n",
    "        return self.gen[patch_idx][1]\n",
    "    #@jit\n",
    "    def get_predicted_y(self,patch_idx):\n",
    "        predicted_y = self.model.predict(self.get_x(patch_idx))\n",
    "        threashhold = .1\n",
    "        predicted_y[predicted_y >= threashhold] =1\n",
    "        predicted_y[predicted_y < threashhold] = 0\n",
    "        return predicted_y\n",
    "    \n",
    "    def show_x(self,patch_idx,slice_id):\n",
    "        plt.imshow(self.get_x(patch_idx)[0][0][slice_id])\n",
    "        \n",
    "    def show_y(self,patch_idx,slice_id):\n",
    "        plt.imshow(self.get_y(patch_idx)[0][0][slice_id])\n",
    "        \n",
    "    def show_predicted_y(self,patch_idx,slice_id):\n",
    "        plt.imshow(self.get_predicted_y(patch_idx)[0][0][slice_id])\n",
    "    \n",
    "\n",
    "    def show_block(self,patch_idx,slice_id):\n",
    "        f = plt.figure(figsize=(20,10))\n",
    "        \n",
    "        #f = plt.figure()\n",
    "        f.add_subplot(1,3, 1)\n",
    "        plt.title(f\"CT Image   slice: ({slice_id})\")\n",
    "        plt.imshow(self.get_x(patch_idx)[0][0][slice_id])\n",
    "        \n",
    "        f.add_subplot(1,3, 2)\n",
    "        plt.title(f\"Ground truth mask   slice: ({slice_id})\")\n",
    "        plt.imshow(self.get_y(patch_idx)[0][0][slice_id])\n",
    "        \n",
    "        f.add_subplot(1,3, 3)\n",
    "        plt.title(f\"Predicted Mask   slice: ({slice_id})\")\n",
    "        plt.imshow(self.get_predicted_y(patch_idx)[0][0][slice_id])\n",
    "    \n",
    "        \n",
    "#     def show_block_animated(self,patch_idx,slice_id):\n",
    "#         import matplotlib.pyplot as plt\n",
    "#         import matplotlib.animation as animation\n",
    "#         f = plt.figure(figsize=(12,8))\n",
    "        \n",
    "#         f.add_subplot(1,3, 1)\n",
    "#         plt.title(f\"CT Image   slice: ({slice_id})\")\n",
    "#         img1 = plt.imshow(self.get_x(patch_idx)[slice_id])#, animated=True)\n",
    "        \n",
    "#         f.add_subplot(1,3, 2)\n",
    "#         plt.title(f\"Ground truth mask   slice: ({slice_id})\")\n",
    "#         img2 = plt.imshow(self.get_y(patch_idx)[slice_id])#, animated=True)\n",
    "\n",
    "#         f.add_subplot(1,3, 3)\n",
    "#         plt.title(f\"Predicted Mask   slice: ({slice_id})\")\n",
    "#         img3 = plt.imshow(self.get_predicted_y(patch_idx)[slice_id])#, animated=True)\n",
    "        \n",
    "#         return [img1,img2,img3]\n",
    "            \n",
    "        \n",
    "    \n",
    "db = DataBrowser(UnetModel,validation_gen)\n",
    "#db.show_block(patch_idx=1,slice_id=0)\n",
    "\n",
    "def model_browser(data_browser):\n",
    "    def show_block(patch_idx,slice_id):\n",
    "        data_browser.show_block(patch_idx,slice_id)\n",
    "    interact(show_block,\n",
    "             patch_idx=widgets.IntSlider(min=0,max=len(data_browser)-1,step=1,layout=layout,value=159),\n",
    "             slice_id=widgets.IntSlider(min=0,max=63,step=1,layout=layout,value=63)\n",
    "            )\n",
    "\n",
    "\n",
    "model_browser(db)\n",
    "# # patch 221\n",
    "# print(np.shape(db.get_x(1)))\n",
    "# print(UnetModel.input_shape)\n",
    "# x =np.array(db.get_y(1))\n",
    "# print(np.shape(x))\n",
    "# UnetModel.predict(x)\n",
    "# print(np.shape(UnetModel.predict(x)))\n",
    "\n",
    "#db.get_predicted_y(1)"
   ]
  },
  {
   "cell_type": "code",
   "execution_count": 129,
   "metadata": {
    "ExecuteTime": {
     "end_time": "2018-07-30T10:16:03.167299Z",
     "start_time": "2018-07-30T10:16:03.121827Z"
    },
    "scrolled": true
   },
   "outputs": [],
   "source": [
    "def make_gif(patch_idx,from_slice,to_slice):\n",
    "    for slice_id in range(from_slice,to_slice):\n",
    "        db.show_block(patch_idx=patch_idx,slice_id=slice_id)\n",
    "        plt.savefig(str(GRAPHS/f\"block_{patch_idx}_{slice_id}.png\"),bbox_inches='tight')\n",
    "\n",
    "    pngs = [m for m in sorted(gb.glob(str(GRAPHS/f\"block_{patch_idx}_*.png\")))]\n",
    "    images = [imageio.imread(png) for png in pngs]\n",
    "    gif_name = str(GRAPHS/f\"patch_{patch_idx}.gif\")\n",
    "    imageio.mimsave(gif_name, images,duration=0.25)\n",
    "    Image.open(gif_name)\n",
    "    \n",
    "\n",
    "\n",
    "#make_gif(patch_idx=159,from_slice=25,to_slice=63)\n",
    "#make_gif(patch_idx=221,from_slice=18,to_slice=31)\n",
    "#make_gif(patch_idx=260,from_slice=12,to_slice=41)\n",
    "#make_gif(patch_idx=258,from_slice=28,to_slice=50)"
   ]
  },
  {
   "cell_type": "code",
   "execution_count": 35,
   "metadata": {
    "ExecuteTime": {
     "end_time": "2018-07-30T10:16:05.765021Z",
     "start_time": "2018-07-30T10:16:05.352411Z"
    }
   },
   "outputs": [
    {
     "data": {
      "text/plain": [
       "Text(0.5,0,'epochs')"
      ]
     },
     "execution_count": 35,
     "metadata": {},
     "output_type": "execute_result"
    },
    {
     "data": {
      "image/png": "[encoded data removed]",
      "text/plain": [
       "<Figure size 1080x504 with 1 Axes>"
      ]
     },
     "metadata": {},
     "output_type": "display_data"
    },
    {
     "data": {
      "image/png": "[encoded data removed]",
      "text/plain": [
       "<Figure size 1080x504 with 1 Axes>"
      ]
     },
     "metadata": {},
     "output_type": "display_data"
    }
   ],
   "source": [
    "\n",
    "df = pd.read_csv(\"training.log\")\n",
    "\n",
    "df = df.drop(range(0,20))\n",
    "df = df.reset_index()\n",
    "\n",
    "df = df.drop(['epoch'], axis=1)\n",
    "\n",
    "df -= df.min()\n",
    "df /= df.max()\n",
    "\n",
    "# df = df.resample('S')\n",
    "# df = df.interpolate(method='cubic')\n",
    "\n",
    "df.columns=[\"epochs\",\"Training accuracy\",\"Training loss\",\"Validation accuracy\",\"Validation loss\"]\n",
    "\n",
    "\n",
    "params = {\n",
    "    'grid':True,\n",
    "    #'lw':2,\n",
    "    'colormap':'jet',\n",
    "    #'marker':'.',\n",
    "    #'markersize':10,\n",
    "    'figsize':(15,7),\n",
    "#    'title':'Training accuracy vs loss'\n",
    "}\n",
    "\n",
    "ax = df[[\"Training loss\",\"Validation loss\"]].plot(title=\"Training & Validation loss\", **params)\n",
    "ax.set_xlabel(\"epochs\")\n",
    "ax = df[[\"Training accuracy\",\"Validation accuracy\"]].plot(title=\"Training & Validation accuracy\", **params)\n",
    "ax.set_xlabel(\"epochs\")"
   ]
  },
  {
   "cell_type": "code",
   "execution_count": 36,
   "metadata": {
    "ExecuteTime": {
     "end_time": "2018-07-30T10:16:06.405230Z",
     "start_time": "2018-07-30T10:16:05.766452Z"
    }
   },
   "outputs": [
    {
     "name": "stdout",
     "output_type": "stream",
     "text": [
      "448\n"
     ]
    },
    {
     "data": {
      "image/png": "[encoded data removed]",
      "text/plain": [
       "<Figure size 936x720 with 1 Axes>"
      ]
     },
     "metadata": {},
     "output_type": "display_data"
    }
   ],
   "source": [
    "patient = 1 # 1\n",
    "\n",
    "ct = get_ct_by_index(patient)\n",
    "mask = get_mask_by_index(patient)\n",
    "\n",
    "image_shape = np.shape(ct)\n",
    "patch_shape = 64\n",
    "overlap = 32\n",
    "\n",
    "def patches_number(image_shape,patch_shape,overlap):\n",
    "    return len(compute_patch_indices(image_shape, patch_shape, overlap, start=None))\n",
    "\n",
    "\n",
    "plt.rc('font', size=14)\n",
    "f = plt.figure(figsize=(13,10))\n",
    "p = [patches_number(image_shape,patch_shape,overlap) for overlap in range(48)]\n",
    "\n",
    "print(p[0])\n",
    "\n",
    "plt.plot(p)\n",
    "\n",
    "plt.grid()\n",
    "plt.title(f\"Image dimantions {image_shape}, Patches dimantions {patch_shape,patch_shape,patch_shape}\")\n",
    "plt.ylabel('Patches number')\n",
    "plt.xlabel('Overlap')\n",
    "plt.show()\n"
   ]
  },
  {
   "cell_type": "code",
   "execution_count": 114,
   "metadata": {
    "ExecuteTime": {
     "end_time": "2018-07-30T10:16:06.437038Z",
     "start_time": "2018-07-30T10:16:06.406560Z"
    }
   },
   "outputs": [
    {
     "name": "stdout",
     "output_type": "stream",
     "text": [
      "_________________________________________________________________\n",
      "Layer (type)                 Output Shape              Param #   \n",
      "=================================================================\n",
      "model_16 (Model)             (None, 1, 64, 64, 64)     8268035   \n",
      "_________________________________________________________________\n",
      "lambda_12 (Lambda)           (None, 1, 64, 64, 64)     0         \n",
      "=================================================================\n",
      "Total params: 8,268,035\n",
      "Trainable params: 8,268,035\n",
      "Non-trainable params: 0\n",
      "_________________________________________________________________\n"
     ]
    }
   ],
   "source": [
    "UnetModel.summary()"
   ]
  },
  {
   "cell_type": "code",
   "execution_count": 120,
   "metadata": {},
   "outputs": [],
   "source": [
    "l = UnetModel.layers[1]\n",
    "l.trainable = False"
   ]
  },
  {
   "cell_type": "code",
   "execution_count": null,
   "metadata": {},
   "outputs": [],
   "source": []
  }
 ],
 "metadata": {
  "kernelspec": {
   "display_name": "py3",
   "language": "python",
   "name": "py3"
  },
  "language_info": {
   "codemirror_mode": {
    "name": "ipython",
    "version": 3
   },
   "file_extension": ".py",
   "mimetype": "text/x-python",
   "name": "python",
   "nbconvert_exporter": "python",
   "pygments_lexer": "ipython3",
   "version": "3.6.5"
  }
 },
 "nbformat": 4,
 "nbformat_minor": 2
}
